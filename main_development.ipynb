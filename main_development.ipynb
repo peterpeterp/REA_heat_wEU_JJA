{
 "cells": [
  {
   "cell_type": "code",
   "execution_count": 1,
   "metadata": {},
   "outputs": [
    {
     "name": "stdout",
     "output_type": "stream",
     "text": [
      "wEU.TREFHT.05-31.5x18.ssp370-2025-dry.k0p02.s6000\n"
     ]
    }
   ],
   "source": [
    "import os,sys,subprocess,glob,importlib\n",
    "from datetime import datetime\n",
    "import xarray as xr\n",
    "import numpy as np\n",
    "import pandas as pd\n",
    "\n",
    "import regionmask\n",
    "\n",
    "import matplotlib.pyplot as plt\n",
    "import cartopy\n",
    "import matplotlib.units as munits\n",
    "from matplotlib.dates import ConciseDateConverter\n",
    "import seaborn as sns\n",
    "\n",
    "from main_launcher import launch_handler\n",
    "\n",
    "from experiment_configuration.c6_dry import config\n",
    "from experiment_configuration.experiment import experiment\n",
    "\n",
    "exp = experiment(config)\n",
    "\n",
    "print(exp.experiment_name)\n",
    "\n",
    "%load_ext autoreload\n",
    "%autoreload 2"
   ]
  },
  {
   "cell_type": "code",
   "execution_count": 2,
   "metadata": {},
   "outputs": [
    {
     "name": "stdout",
     "output_type": "stream",
     "text": [
      "\n",
      "---- subprocess call:\n",
      "module unload git\n"
     ]
    }
   ],
   "source": [
    "launcher = launch_handler(\n",
    "    experiment=exp, \n",
    "    verbose=True, \n",
    "    dry_run=True, \n",
    "    relaunch_cases_which_are_unclear=False, \n",
    "    relaunch_after_completion=False\n",
    "    )"
   ]
  },
  {
   "cell_type": "code",
   "execution_count": 3,
   "metadata": {},
   "outputs": [
    {
     "name": "stdout",
     "output_type": "stream",
     "text": [
      "\n",
      "---- subprocess call:\n",
      "rm -rf /work/bb1152/u290372/cesm215_archive/GKLT/wEU.TREFHT.05-31.5x18.ssp370-2025-dry.k0p02.s6000/step16/c6_dry_000/rest\n",
      "\n",
      "---- subprocess call:\n",
      "rm -rf /work/bb1152/u290372/cesm215_archive/GKLT/wEU.TREFHT.05-31.5x18.ssp370-2025-dry.k0p02.s6000/step16/c6_dry_001/rest\n",
      "\n",
      "---- subprocess call:\n",
      "rm -rf /work/bb1152/u290372/cesm215_archive/GKLT/wEU.TREFHT.05-31.5x18.ssp370-2025-dry.k0p02.s6000/step16/c6_dry_002/rest\n",
      "\n",
      "---- subprocess call:\n",
      "rm -rf /work/bb1152/u290372/cesm215_archive/GKLT/wEU.TREFHT.05-31.5x18.ssp370-2025-dry.k0p02.s6000/step16/c6_dry_003/rest\n",
      "\n",
      "---- subprocess call:\n",
      "rm -rf /work/bb1152/u290372/cesm215_archive/GKLT/wEU.TREFHT.05-31.5x18.ssp370-2025-dry.k0p02.s6000/step16/c6_dry_004/rest\n",
      "\n",
      "---- subprocess call:\n",
      "rm -rf /work/bb1152/u290372/cesm215_archive/GKLT/wEU.TREFHT.05-31.5x18.ssp370-2025-dry.k0p02.s6000/step16/c6_dry_005/rest\n",
      "\n",
      "---- subprocess call:\n",
      "rm -rf /work/bb1152/u290372/cesm215_archive/GKLT/wEU.TREFHT.05-31.5x18.ssp370-2025-dry.k0p02.s6000/step16/c6_dry_006/rest\n",
      "\n",
      "---- subprocess call:\n",
      "rm -rf /work/bb1152/u290372/cesm215_archive/GKLT/wEU.TREFHT.05-31.5x18.ssp370-2025-dry.k0p02.s6000/step16/c6_dry_007/rest\n",
      "\n",
      "---- subprocess call:\n",
      "rm -rf /work/bb1152/u290372/cesm215_archive/GKLT/wEU.TREFHT.05-31.5x18.ssp370-2025-dry.k0p02.s6000/step16/c6_dry_008/rest\n",
      "\n",
      "---- subprocess call:\n",
      "rm -rf /work/bb1152/u290372/cesm215_archive/GKLT/wEU.TREFHT.05-31.5x18.ssp370-2025-dry.k0p02.s6000/step16/c6_dry_009/rest\n",
      "\n",
      "---- subprocess call:\n",
      "rm -rf /work/bb1152/u290372/cesm215_archive/GKLT/wEU.TREFHT.05-31.5x18.ssp370-2025-dry.k0p02.s6000/step16/c6_dry_010/rest\n",
      "\n",
      "---- subprocess call:\n",
      "rm -rf /work/bb1152/u290372/cesm215_archive/GKLT/wEU.TREFHT.05-31.5x18.ssp370-2025-dry.k0p02.s6000/step16/c6_dry_011/rest\n",
      "\n",
      "---- subprocess call:\n",
      "rm -rf /work/bb1152/u290372/cesm215_archive/GKLT/wEU.TREFHT.05-31.5x18.ssp370-2025-dry.k0p02.s6000/step16/c6_dry_012/rest\n",
      "\n",
      "---- subprocess call:\n",
      "rm -rf /work/bb1152/u290372/cesm215_archive/GKLT/wEU.TREFHT.05-31.5x18.ssp370-2025-dry.k0p02.s6000/step16/c6_dry_013/rest\n",
      "\n",
      "---- subprocess call:\n",
      "rm -rf /work/bb1152/u290372/cesm215_archive/GKLT/wEU.TREFHT.05-31.5x18.ssp370-2025-dry.k0p02.s6000/step16/c6_dry_014/rest\n",
      "\n",
      "---- subprocess call:\n",
      "rm -rf /work/bb1152/u290372/cesm215_archive/GKLT/wEU.TREFHT.05-31.5x18.ssp370-2025-dry.k0p02.s6000/step16/c6_dry_015/rest\n",
      "\n",
      "---- subprocess call:\n",
      "rm -rf /work/bb1152/u290372/cesm215_archive/GKLT/wEU.TREFHT.05-31.5x18.ssp370-2025-dry.k0p02.s6000/step16/c6_dry_016/rest\n",
      "\n",
      "---- subprocess call:\n",
      "rm -rf /work/bb1152/u290372/cesm215_archive/GKLT/wEU.TREFHT.05-31.5x18.ssp370-2025-dry.k0p02.s6000/step16/c6_dry_017/rest\n",
      "\n",
      "---- subprocess call:\n",
      "rm -rf /work/bb1152/u290372/cesm215_archive/GKLT/wEU.TREFHT.05-31.5x18.ssp370-2025-dry.k0p02.s6000/step16/c6_dry_018/rest\n",
      "\n",
      "---- subprocess call:\n",
      "rm -rf /work/bb1152/u290372/cesm215_archive/GKLT/wEU.TREFHT.05-31.5x18.ssp370-2025-dry.k0p02.s6000/step16/c6_dry_019/rest\n",
      "\n",
      "---- subprocess call:\n",
      "rm -rf /work/bb1152/u290372/cesm215_archive/GKLT/wEU.TREFHT.05-31.5x18.ssp370-2025-dry.k0p02.s6000/step16/c6_dry_020/rest\n",
      "\n",
      "---- subprocess call:\n",
      "rm -rf /work/bb1152/u290372/cesm215_archive/GKLT/wEU.TREFHT.05-31.5x18.ssp370-2025-dry.k0p02.s6000/step16/c6_dry_021/rest\n",
      "\n",
      "---- subprocess call:\n",
      "rm -rf /work/bb1152/u290372/cesm215_archive/GKLT/wEU.TREFHT.05-31.5x18.ssp370-2025-dry.k0p02.s6000/step16/c6_dry_022/rest\n",
      "\n",
      "---- subprocess call:\n",
      "rm -rf /work/bb1152/u290372/cesm215_archive/GKLT/wEU.TREFHT.05-31.5x18.ssp370-2025-dry.k0p02.s6000/step16/c6_dry_023/rest\n",
      "\n",
      "---- subprocess call:\n",
      "rm -rf /work/bb1152/u290372/cesm215_archive/GKLT/wEU.TREFHT.05-31.5x18.ssp370-2025-dry.k0p02.s6000/step16/c6_dry_024/rest\n",
      "\n",
      "---- subprocess call:\n",
      "rm -rf /work/bb1152/u290372/cesm215_archive/GKLT/wEU.TREFHT.05-31.5x18.ssp370-2025-dry.k0p02.s6000/step16/c6_dry_025/rest\n",
      "\n",
      "---- subprocess call:\n",
      "rm -rf /work/bb1152/u290372/cesm215_archive/GKLT/wEU.TREFHT.05-31.5x18.ssp370-2025-dry.k0p02.s6000/step16/c6_dry_026/rest\n",
      "\n",
      "---- subprocess call:\n",
      "rm -rf /work/bb1152/u290372/cesm215_archive/GKLT/wEU.TREFHT.05-31.5x18.ssp370-2025-dry.k0p02.s6000/step16/c6_dry_027/rest\n",
      "\n",
      "---- subprocess call:\n",
      "rm -rf /work/bb1152/u290372/cesm215_archive/GKLT/wEU.TREFHT.05-31.5x18.ssp370-2025-dry.k0p02.s6000/step16/c6_dry_028/rest\n",
      "\n",
      "---- subprocess call:\n",
      "rm -rf /work/bb1152/u290372/cesm215_archive/GKLT/wEU.TREFHT.05-31.5x18.ssp370-2025-dry.k0p02.s6000/step16/c6_dry_029/rest\n",
      "\n",
      "---- subprocess call:\n",
      "rm -rf /work/bb1152/u290372/cesm215_archive/GKLT/wEU.TREFHT.05-31.5x18.ssp370-2025-dry.k0p02.s6000/step16/c6_dry_030/rest\n",
      "\n",
      "---- subprocess call:\n",
      "rm -rf /work/bb1152/u290372/cesm215_archive/GKLT/wEU.TREFHT.05-31.5x18.ssp370-2025-dry.k0p02.s6000/step16/c6_dry_031/rest\n",
      "\n",
      "---- subprocess call:\n",
      "rm -rf /work/bb1152/u290372/cesm215_archive/GKLT/wEU.TREFHT.05-31.5x18.ssp370-2025-dry.k0p02.s6000/step16/c6_dry_032/rest\n",
      "\n",
      "---- subprocess call:\n",
      "rm -rf /work/bb1152/u290372/cesm215_archive/GKLT/wEU.TREFHT.05-31.5x18.ssp370-2025-dry.k0p02.s6000/step16/c6_dry_033/rest\n",
      "\n",
      "---- subprocess call:\n",
      "rm -rf /work/bb1152/u290372/cesm215_archive/GKLT/wEU.TREFHT.05-31.5x18.ssp370-2025-dry.k0p02.s6000/step16/c6_dry_034/rest\n",
      "\n",
      "---- subprocess call:\n",
      "rm -rf /work/bb1152/u290372/cesm215_archive/GKLT/wEU.TREFHT.05-31.5x18.ssp370-2025-dry.k0p02.s6000/step16/c6_dry_035/rest\n",
      "\n",
      "---- subprocess call:\n",
      "rm -rf /work/bb1152/u290372/cesm215_archive/GKLT/wEU.TREFHT.05-31.5x18.ssp370-2025-dry.k0p02.s6000/step16/c6_dry_036/rest\n",
      "\n",
      "---- subprocess call:\n",
      "rm -rf /work/bb1152/u290372/cesm215_archive/GKLT/wEU.TREFHT.05-31.5x18.ssp370-2025-dry.k0p02.s6000/step16/c6_dry_037/rest\n",
      "\n",
      "---- subprocess call:\n",
      "rm -rf /work/bb1152/u290372/cesm215_archive/GKLT/wEU.TREFHT.05-31.5x18.ssp370-2025-dry.k0p02.s6000/step16/c6_dry_038/rest\n",
      "\n",
      "---- subprocess call:\n",
      "rm -rf /work/bb1152/u290372/cesm215_archive/GKLT/wEU.TREFHT.05-31.5x18.ssp370-2025-dry.k0p02.s6000/step16/c6_dry_039/rest\n",
      "\n",
      "---- subprocess call:\n",
      "rm -rf /work/bb1152/u290372/cesm215_archive/GKLT/wEU.TREFHT.05-31.5x18.ssp370-2025-dry.k0p02.s6000/step16/c6_dry_040/rest\n",
      "\n",
      "---- subprocess call:\n",
      "rm -rf /work/bb1152/u290372/cesm215_archive/GKLT/wEU.TREFHT.05-31.5x18.ssp370-2025-dry.k0p02.s6000/step16/c6_dry_041/rest\n",
      "\n",
      "---- subprocess call:\n",
      "rm -rf /work/bb1152/u290372/cesm215_archive/GKLT/wEU.TREFHT.05-31.5x18.ssp370-2025-dry.k0p02.s6000/step16/c6_dry_042/rest\n",
      "\n",
      "---- subprocess call:\n",
      "rm -rf /work/bb1152/u290372/cesm215_archive/GKLT/wEU.TREFHT.05-31.5x18.ssp370-2025-dry.k0p02.s6000/step16/c6_dry_043/rest\n",
      "\n",
      "---- subprocess call:\n",
      "rm -rf /work/bb1152/u290372/cesm215_archive/GKLT/wEU.TREFHT.05-31.5x18.ssp370-2025-dry.k0p02.s6000/step16/c6_dry_044/rest\n",
      "\n",
      "---- subprocess call:\n",
      "rm -rf /work/bb1152/u290372/cesm215_archive/GKLT/wEU.TREFHT.05-31.5x18.ssp370-2025-dry.k0p02.s6000/step16/c6_dry_045/rest\n",
      "\n",
      "---- subprocess call:\n",
      "rm -rf /work/bb1152/u290372/cesm215_archive/GKLT/wEU.TREFHT.05-31.5x18.ssp370-2025-dry.k0p02.s6000/step16/c6_dry_046/rest\n",
      "\n",
      "---- subprocess call:\n",
      "rm -rf /work/bb1152/u290372/cesm215_archive/GKLT/wEU.TREFHT.05-31.5x18.ssp370-2025-dry.k0p02.s6000/step16/c6_dry_047/rest\n",
      "\n",
      "---- subprocess call:\n",
      "rm -rf /work/bb1152/u290372/cesm215_archive/GKLT/wEU.TREFHT.05-31.5x18.ssp370-2025-dry.k0p02.s6000/step16/c6_dry_048/rest\n",
      "\n",
      "---- subprocess call:\n",
      "rm -rf /work/bb1152/u290372/cesm215_archive/GKLT/wEU.TREFHT.05-31.5x18.ssp370-2025-dry.k0p02.s6000/step16/c6_dry_049/rest\n",
      "\n",
      "---- subprocess call:\n",
      "rm -rf /work/bb1152/u290372/cesm215_archive/GKLT/wEU.TREFHT.05-31.5x18.ssp370-2025-dry.k0p02.s6000/step16/c6_dry_050/rest\n",
      "\n",
      "---- subprocess call:\n",
      "rm -rf /work/bb1152/u290372/cesm215_archive/GKLT/wEU.TREFHT.05-31.5x18.ssp370-2025-dry.k0p02.s6000/step16/c6_dry_051/rest\n",
      "\n",
      "---- subprocess call:\n",
      "rm -rf /work/bb1152/u290372/cesm215_archive/GKLT/wEU.TREFHT.05-31.5x18.ssp370-2025-dry.k0p02.s6000/step16/c6_dry_052/rest\n",
      "\n",
      "---- subprocess call:\n",
      "rm -rf /work/bb1152/u290372/cesm215_archive/GKLT/wEU.TREFHT.05-31.5x18.ssp370-2025-dry.k0p02.s6000/step16/c6_dry_053/rest\n",
      "\n",
      "---- subprocess call:\n",
      "rm -rf /work/bb1152/u290372/cesm215_archive/GKLT/wEU.TREFHT.05-31.5x18.ssp370-2025-dry.k0p02.s6000/step16/c6_dry_054/rest\n",
      "\n",
      "---- subprocess call:\n",
      "rm -rf /work/bb1152/u290372/cesm215_archive/GKLT/wEU.TREFHT.05-31.5x18.ssp370-2025-dry.k0p02.s6000/step16/c6_dry_055/rest\n",
      "\n",
      "---- subprocess call:\n",
      "rm -rf /work/bb1152/u290372/cesm215_archive/GKLT/wEU.TREFHT.05-31.5x18.ssp370-2025-dry.k0p02.s6000/step16/c6_dry_056/rest\n",
      "\n",
      "---- subprocess call:\n",
      "rm -rf /work/bb1152/u290372/cesm215_archive/GKLT/wEU.TREFHT.05-31.5x18.ssp370-2025-dry.k0p02.s6000/step16/c6_dry_057/rest\n",
      "\n",
      "---- subprocess call:\n",
      "rm -rf /work/bb1152/u290372/cesm215_archive/GKLT/wEU.TREFHT.05-31.5x18.ssp370-2025-dry.k0p02.s6000/step16/c6_dry_058/rest\n",
      "\n",
      "---- subprocess call:\n",
      "rm -rf /work/bb1152/u290372/cesm215_archive/GKLT/wEU.TREFHT.05-31.5x18.ssp370-2025-dry.k0p02.s6000/step16/c6_dry_059/rest\n",
      "\n",
      "---- subprocess call:\n",
      "rm -rf /work/bb1152/u290372/cesm215_archive/GKLT/wEU.TREFHT.05-31.5x18.ssp370-2025-dry.k0p02.s6000/step16/c6_dry_060/rest\n",
      "\n",
      "---- subprocess call:\n",
      "rm -rf /work/bb1152/u290372/cesm215_archive/GKLT/wEU.TREFHT.05-31.5x18.ssp370-2025-dry.k0p02.s6000/step16/c6_dry_061/rest\n",
      "\n",
      "---- subprocess call:\n",
      "rm -rf /work/bb1152/u290372/cesm215_archive/GKLT/wEU.TREFHT.05-31.5x18.ssp370-2025-dry.k0p02.s6000/step16/c6_dry_062/rest\n",
      "\n",
      "---- subprocess call:\n",
      "rm -rf /work/bb1152/u290372/cesm215_archive/GKLT/wEU.TREFHT.05-31.5x18.ssp370-2025-dry.k0p02.s6000/step16/c6_dry_063/rest\n",
      "\n",
      "---- subprocess call:\n",
      "rm -rf /work/bb1152/u290372/cesm215_archive/GKLT/wEU.TREFHT.05-31.5x18.ssp370-2025-dry.k0p02.s6000/step16/c6_dry_064/rest\n",
      "\n",
      "---- subprocess call:\n",
      "rm -rf /work/bb1152/u290372/cesm215_archive/GKLT/wEU.TREFHT.05-31.5x18.ssp370-2025-dry.k0p02.s6000/step16/c6_dry_065/rest\n",
      "\n",
      "---- subprocess call:\n",
      "rm -rf /work/bb1152/u290372/cesm215_archive/GKLT/wEU.TREFHT.05-31.5x18.ssp370-2025-dry.k0p02.s6000/step16/c6_dry_066/rest\n",
      "\n",
      "---- subprocess call:\n",
      "rm -rf /work/bb1152/u290372/cesm215_archive/GKLT/wEU.TREFHT.05-31.5x18.ssp370-2025-dry.k0p02.s6000/step16/c6_dry_067/rest\n",
      "\n",
      "---- subprocess call:\n",
      "rm -rf /work/bb1152/u290372/cesm215_archive/GKLT/wEU.TREFHT.05-31.5x18.ssp370-2025-dry.k0p02.s6000/step16/c6_dry_068/rest\n",
      "\n",
      "---- subprocess call:\n",
      "rm -rf /work/bb1152/u290372/cesm215_archive/GKLT/wEU.TREFHT.05-31.5x18.ssp370-2025-dry.k0p02.s6000/step16/c6_dry_069/rest\n",
      "\n",
      "---- subprocess call:\n",
      "rm -rf /work/bb1152/u290372/cesm215_archive/GKLT/wEU.TREFHT.05-31.5x18.ssp370-2025-dry.k0p02.s6000/step16/c6_dry_070/rest\n",
      "\n",
      "---- subprocess call:\n",
      "rm -rf /work/bb1152/u290372/cesm215_archive/GKLT/wEU.TREFHT.05-31.5x18.ssp370-2025-dry.k0p02.s6000/step16/c6_dry_071/rest\n",
      "\n",
      "---- subprocess call:\n",
      "rm -rf /work/bb1152/u290372/cesm215_archive/GKLT/wEU.TREFHT.05-31.5x18.ssp370-2025-dry.k0p02.s6000/step16/c6_dry_072/rest\n",
      "\n",
      "---- subprocess call:\n",
      "rm -rf /work/bb1152/u290372/cesm215_archive/GKLT/wEU.TREFHT.05-31.5x18.ssp370-2025-dry.k0p02.s6000/step16/c6_dry_073/rest\n",
      "\n",
      "---- subprocess call:\n",
      "rm -rf /work/bb1152/u290372/cesm215_archive/GKLT/wEU.TREFHT.05-31.5x18.ssp370-2025-dry.k0p02.s6000/step16/c6_dry_074/rest\n",
      "\n",
      "---- subprocess call:\n",
      "rm -rf /work/bb1152/u290372/cesm215_archive/GKLT/wEU.TREFHT.05-31.5x18.ssp370-2025-dry.k0p02.s6000/step16/c6_dry_075/rest\n",
      "\n",
      "---- subprocess call:\n",
      "rm -rf /work/bb1152/u290372/cesm215_archive/GKLT/wEU.TREFHT.05-31.5x18.ssp370-2025-dry.k0p02.s6000/step16/c6_dry_076/rest\n",
      "\n",
      "---- subprocess call:\n",
      "rm -rf /work/bb1152/u290372/cesm215_archive/GKLT/wEU.TREFHT.05-31.5x18.ssp370-2025-dry.k0p02.s6000/step16/c6_dry_077/rest\n",
      "\n",
      "---- subprocess call:\n",
      "rm -rf /work/bb1152/u290372/cesm215_archive/GKLT/wEU.TREFHT.05-31.5x18.ssp370-2025-dry.k0p02.s6000/step16/c6_dry_078/rest\n",
      "\n",
      "---- subprocess call:\n",
      "rm -rf /work/bb1152/u290372/cesm215_archive/GKLT/wEU.TREFHT.05-31.5x18.ssp370-2025-dry.k0p02.s6000/step16/c6_dry_079/rest\n",
      "\n",
      "---- subprocess call:\n",
      "rm -rf /work/bb1152/u290372/cesm215_archive/GKLT/wEU.TREFHT.05-31.5x18.ssp370-2025-dry.k0p02.s6000/step16/c6_dry_080/rest\n",
      "\n",
      "---- subprocess call:\n",
      "rm -rf /work/bb1152/u290372/cesm215_archive/GKLT/wEU.TREFHT.05-31.5x18.ssp370-2025-dry.k0p02.s6000/step16/c6_dry_081/rest\n",
      "\n",
      "---- subprocess call:\n",
      "rm -rf /work/bb1152/u290372/cesm215_archive/GKLT/wEU.TREFHT.05-31.5x18.ssp370-2025-dry.k0p02.s6000/step16/c6_dry_082/rest\n",
      "\n",
      "---- subprocess call:\n",
      "rm -rf /work/bb1152/u290372/cesm215_archive/GKLT/wEU.TREFHT.05-31.5x18.ssp370-2025-dry.k0p02.s6000/step16/c6_dry_083/rest\n",
      "\n",
      "---- subprocess call:\n",
      "rm -rf /work/bb1152/u290372/cesm215_archive/GKLT/wEU.TREFHT.05-31.5x18.ssp370-2025-dry.k0p02.s6000/step16/c6_dry_084/rest\n",
      "\n",
      "---- subprocess call:\n",
      "rm -rf /work/bb1152/u290372/cesm215_archive/GKLT/wEU.TREFHT.05-31.5x18.ssp370-2025-dry.k0p02.s6000/step16/c6_dry_085/rest\n",
      "\n",
      "---- subprocess call:\n",
      "rm -rf /work/bb1152/u290372/cesm215_archive/GKLT/wEU.TREFHT.05-31.5x18.ssp370-2025-dry.k0p02.s6000/step16/c6_dry_086/rest\n",
      "\n",
      "---- subprocess call:\n",
      "rm -rf /work/bb1152/u290372/cesm215_archive/GKLT/wEU.TREFHT.05-31.5x18.ssp370-2025-dry.k0p02.s6000/step16/c6_dry_087/rest\n",
      "\n",
      "---- subprocess call:\n",
      "rm -rf /work/bb1152/u290372/cesm215_archive/GKLT/wEU.TREFHT.05-31.5x18.ssp370-2025-dry.k0p02.s6000/step16/c6_dry_088/rest\n",
      "\n",
      "---- subprocess call:\n",
      "rm -rf /work/bb1152/u290372/cesm215_archive/GKLT/wEU.TREFHT.05-31.5x18.ssp370-2025-dry.k0p02.s6000/step16/c6_dry_089/rest\n",
      "\n",
      "---- subprocess call:\n",
      "rm -rf /work/bb1152/u290372/cesm215_archive/GKLT/wEU.TREFHT.05-31.5x18.ssp370-2025-dry.k0p02.s6000/step16/c6_dry_090/rest\n",
      "\n",
      "---- subprocess call:\n",
      "rm -rf /work/bb1152/u290372/cesm215_archive/GKLT/wEU.TREFHT.05-31.5x18.ssp370-2025-dry.k0p02.s6000/step16/c6_dry_091/rest\n",
      "\n",
      "---- subprocess call:\n",
      "rm -rf /work/bb1152/u290372/cesm215_archive/GKLT/wEU.TREFHT.05-31.5x18.ssp370-2025-dry.k0p02.s6000/step16/c6_dry_092/rest\n",
      "\n",
      "---- subprocess call:\n",
      "rm -rf /work/bb1152/u290372/cesm215_archive/GKLT/wEU.TREFHT.05-31.5x18.ssp370-2025-dry.k0p02.s6000/step16/c6_dry_093/rest\n",
      "\n",
      "---- subprocess call:\n",
      "rm -rf /work/bb1152/u290372/cesm215_archive/GKLT/wEU.TREFHT.05-31.5x18.ssp370-2025-dry.k0p02.s6000/step16/c6_dry_094/rest\n",
      "\n",
      "---- subprocess call:\n",
      "rm -rf /work/bb1152/u290372/cesm215_archive/GKLT/wEU.TREFHT.05-31.5x18.ssp370-2025-dry.k0p02.s6000/step16/c6_dry_095/rest\n",
      "\n",
      "---- subprocess call:\n",
      "rm -rf /work/bb1152/u290372/cesm215_archive/GKLT/wEU.TREFHT.05-31.5x18.ssp370-2025-dry.k0p02.s6000/step16/c6_dry_096/rest\n",
      "\n",
      "---- subprocess call:\n",
      "rm -rf /work/bb1152/u290372/cesm215_archive/GKLT/wEU.TREFHT.05-31.5x18.ssp370-2025-dry.k0p02.s6000/step16/c6_dry_097/rest\n",
      "\n",
      "---- subprocess call:\n",
      "rm -rf /work/bb1152/u290372/cesm215_archive/GKLT/wEU.TREFHT.05-31.5x18.ssp370-2025-dry.k0p02.s6000/step16/c6_dry_098/rest\n",
      "\n",
      "---- subprocess call:\n",
      "rm -rf /work/bb1152/u290372/cesm215_archive/GKLT/wEU.TREFHT.05-31.5x18.ssp370-2025-dry.k0p02.s6000/step16/c6_dry_099/rest\n"
     ]
    }
   ],
   "source": [
    "launcher.delete_restart_files_of_step_X(16)"
   ]
  },
  {
   "cell_type": "code",
   "execution_count": 3,
   "metadata": {},
   "outputs": [
    {
     "data": {
      "text/plain": [
       "'python /home/u/u290372/projects/REA_with_CESM2/branch_perturbed.py --dkrz_project_for_archive bb1152 --case_identifier c7_wet_000 --case_path GKLT/wEU.TREFHT.05-31.5x18.ssp370-2025-wet.k0p05.s7000 --parent_path /work/bb1445/u290372/cesm215_archive/BSSP370cmip6_current_2021-2031/b.e215.BSSP370cmip6.f09_g17.001.2005.ens020.fE.2020.ens000/2024-01-01_to_2024-05-31 --perturbation_seed 7001 --compset BSSP370cmip6 --ndays 5 --perturbation_type PT_direct --perturbation_order_of_magnitude -13 --user_nl_file_directory /home/u/u290372/projects/REA_heat_wEU_JJA/experiment_configuration/user_nl_files'"
      ]
     },
     "execution_count": 3,
     "metadata": {},
     "output_type": "execute_result"
    }
   ],
   "source": [
    "todos_0 = launcher.prepare_todos_for_step_0()\n",
    "launcher.generate_launch_command(todos_0.iloc[0])"
   ]
  },
  {
   "cell_type": "code",
   "execution_count": 4,
   "metadata": {},
   "outputs": [
    {
     "name": "stdout",
     "output_type": "stream",
     "text": [
      "python /home/u/u290372/projects/REA_with_CESM2/branch_perturbed.py --dkrz_project_for_archive bb1152 --case_identifier c7_wet_003 --case_path GKLT/wEU.TREFHT.05-31.5x18.ssp370-2025-wet.k0p05.s7000 --parent_path /work/bb1445/u290372/cesm215_archive/BSSP370cmip6_current_2021-2031/b.e215.BSSP370cmip6.f09_g17.001.2005.ens020.fE.2020.ens000/2024-01-01_to_2024-05-31 --precompiled_path GKLT/wEU.TREFHT.05-31.5x18.ssp370-2025-wet.k0p05.s7000/c7_wet_000 --perturbation_seed 7031 --compset BSSP370cmip6 --ndays 5 --perturbation_type PT_direct --perturbation_order_of_magnitude -13 --user_nl_file_directory /home/u/u290372/projects/REA_heat_wEU_JJA/experiment_configuration/user_nl_files --overwrite\n",
      "python /home/u/u290372/projects/REA_with_CESM2/branch_perturbed.py --dkrz_project_for_archive bb1152 --case_identifier c7_wet_004 --case_path GKLT/wEU.TREFHT.05-31.5x18.ssp370-2025-wet.k0p05.s7000 --parent_path /work/bb1445/u290372/cesm215_archive/BSSP370cmip6_current_2021-2031/b.e215.BSSP370cmip6.f09_g17.001.2005.ens020.fE.2020.ens000/2024-01-01_to_2024-05-31 --precompiled_path GKLT/wEU.TREFHT.05-31.5x18.ssp370-2025-wet.k0p05.s7000/c7_wet_000 --perturbation_seed 7041 --compset BSSP370cmip6 --ndays 5 --perturbation_type PT_direct --perturbation_order_of_magnitude -13 --user_nl_file_directory /home/u/u290372/projects/REA_heat_wEU_JJA/experiment_configuration/user_nl_files --overwrite\n"
     ]
    }
   ],
   "source": [
    "for i in range(3,5):\n",
    "    print(launcher.generate_launch_command(todos_0.iloc[i]) + ' --overwrite')"
   ]
  },
  {
   "cell_type": "code",
   "execution_count": 11,
   "metadata": {},
   "outputs": [
    {
     "name": "stdout",
     "output_type": "stream",
     "text": [
      "resubmiting the same launcher script for step 2\n",
      "\n",
      "---- subprocess call:\n",
      "sbatch slurm_job_files/job_wEU.TREFHT.05-31.5x18.ssp370-2025-dry.k0p02.s6000\n"
     ]
    }
   ],
   "source": [
    "launcher.resubmit_after_completion_of_previous_runs(2)"
   ]
  },
  {
   "cell_type": "code",
   "execution_count": 4,
   "metadata": {},
   "outputs": [],
   "source": [
    "tab = launcher.evaluate_previous_step(14)"
   ]
  },
  {
   "cell_type": "code",
   "execution_count": 5,
   "metadata": {},
   "outputs": [
    {
     "data": {
      "text/html": [
       "<div>\n",
       "<style scoped>\n",
       "    .dataframe tbody tr th:only-of-type {\n",
       "        vertical-align: middle;\n",
       "    }\n",
       "\n",
       "    .dataframe tbody tr th {\n",
       "        vertical-align: top;\n",
       "    }\n",
       "\n",
       "    .dataframe thead th {\n",
       "        text-align: right;\n",
       "    }\n",
       "</style>\n",
       "<table border=\"1\" class=\"dataframe\">\n",
       "  <thead>\n",
       "    <tr style=\"text-align: right;\">\n",
       "      <th></th>\n",
       "      <th>case_identifier</th>\n",
       "      <th>observable mean</th>\n",
       "      <th>score</th>\n",
       "      <th>weight</th>\n",
       "    </tr>\n",
       "  </thead>\n",
       "  <tbody>\n",
       "    <tr>\n",
       "      <th>0</th>\n",
       "      <td>c6_dry_000</td>\n",
       "      <td>23.143387</td>\n",
       "      <td>1.588623</td>\n",
       "      <td>1.027385</td>\n",
       "    </tr>\n",
       "    <tr>\n",
       "      <th>1</th>\n",
       "      <td>c6_dry_001</td>\n",
       "      <td>22.624165</td>\n",
       "      <td>1.572212</td>\n",
       "      <td>1.016771</td>\n",
       "    </tr>\n",
       "    <tr>\n",
       "      <th>2</th>\n",
       "      <td>c6_dry_002</td>\n",
       "      <td>22.912395</td>\n",
       "      <td>1.581301</td>\n",
       "      <td>1.022649</td>\n",
       "    </tr>\n",
       "    <tr>\n",
       "      <th>3</th>\n",
       "      <td>c6_dry_003</td>\n",
       "      <td>17.456873</td>\n",
       "      <td>1.417844</td>\n",
       "      <td>0.916939</td>\n",
       "    </tr>\n",
       "    <tr>\n",
       "      <th>4</th>\n",
       "      <td>c6_dry_004</td>\n",
       "      <td>25.724918</td>\n",
       "      <td>1.672799</td>\n",
       "      <td>1.081822</td>\n",
       "    </tr>\n",
       "    <tr>\n",
       "      <th>...</th>\n",
       "      <td>...</td>\n",
       "      <td>...</td>\n",
       "      <td>...</td>\n",
       "      <td>...</td>\n",
       "    </tr>\n",
       "    <tr>\n",
       "      <th>95</th>\n",
       "      <td>c6_dry_095</td>\n",
       "      <td>22.450047</td>\n",
       "      <td>1.566746</td>\n",
       "      <td>1.013237</td>\n",
       "    </tr>\n",
       "    <tr>\n",
       "      <th>96</th>\n",
       "      <td>c6_dry_096</td>\n",
       "      <td>18.823368</td>\n",
       "      <td>1.457128</td>\n",
       "      <td>0.942345</td>\n",
       "    </tr>\n",
       "    <tr>\n",
       "      <th>97</th>\n",
       "      <td>c6_dry_097</td>\n",
       "      <td>18.709616</td>\n",
       "      <td>1.453817</td>\n",
       "      <td>0.940204</td>\n",
       "    </tr>\n",
       "    <tr>\n",
       "      <th>98</th>\n",
       "      <td>c6_dry_098</td>\n",
       "      <td>18.853001</td>\n",
       "      <td>1.457992</td>\n",
       "      <td>0.942904</td>\n",
       "    </tr>\n",
       "    <tr>\n",
       "      <th>99</th>\n",
       "      <td>c6_dry_099</td>\n",
       "      <td>25.909983</td>\n",
       "      <td>1.679002</td>\n",
       "      <td>1.085834</td>\n",
       "    </tr>\n",
       "  </tbody>\n",
       "</table>\n",
       "<p>100 rows × 4 columns</p>\n",
       "</div>"
      ],
      "text/plain": [
       "   case_identifier  observable mean     score    weight\n",
       "0       c6_dry_000        23.143387  1.588623  1.027385\n",
       "1       c6_dry_001        22.624165  1.572212  1.016771\n",
       "2       c6_dry_002        22.912395  1.581301  1.022649\n",
       "3       c6_dry_003        17.456873  1.417844  0.916939\n",
       "4       c6_dry_004        25.724918  1.672799  1.081822\n",
       "..             ...              ...       ...       ...\n",
       "95      c6_dry_095        22.450047  1.566746  1.013237\n",
       "96      c6_dry_096        18.823368  1.457128  0.942345\n",
       "97      c6_dry_097        18.709616  1.453817  0.940204\n",
       "98      c6_dry_098        18.853001  1.457992  0.942904\n",
       "99      c6_dry_099        25.909983  1.679002  1.085834\n",
       "\n",
       "[100 rows x 4 columns]"
      ]
     },
     "execution_count": 5,
     "metadata": {},
     "output_type": "execute_result"
    }
   ],
   "source": [
    "tab.iloc[:]"
   ]
  },
  {
   "cell_type": "code",
   "execution_count": 7,
   "metadata": {},
   "outputs": [],
   "source": [
    "tab.to_csv(f\"{launcher._exp.dir_work}/GKLT/{launcher._exp.experiment_name}/book_keeping/step{14}_evaluation.csv\")"
   ]
  },
  {
   "cell_type": "code",
   "execution_count": 9,
   "metadata": {},
   "outputs": [],
   "source": [
    "self = launcher"
   ]
  },
  {
   "cell_type": "code",
   "execution_count": 25,
   "metadata": {},
   "outputs": [],
   "source": [
    "step = 15"
   ]
  },
  {
   "cell_type": "code",
   "execution_count": 26,
   "metadata": {},
   "outputs": [],
   "source": [
    "previous_todos = pd.read_csv(f\"{self._exp.dir_work}/GKLT/{self._exp.experiment_name}/book_keeping/step{step-1}.csv\", index_col=0, keep_default_na=False)\n"
   ]
  },
  {
   "cell_type": "code",
   "execution_count": 41,
   "metadata": {},
   "outputs": [],
   "source": [
    "previous_todos = launcher.prepare_todos_for_step_X(14)"
   ]
  },
  {
   "cell_type": "code",
   "execution_count": 42,
   "metadata": {},
   "outputs": [
    {
     "data": {
      "text/plain": [
       "'/work/bb1152/u290372/cesm215_archive/GKLT/wEU.TREFHT.05-31.5x18.ssp370-2025-dry.k0p02.s6000/c6_dry_000/c6_dry_000/c6_dry_000/c6_dry_000/c6_dry_000/c6_dry_000/c6_dry_000/c6_dry_000/c6_dry_000/c6_dry_000/c6_dry_000/c6_dry_000/c6_dry_000/c6_dry_000'"
      ]
     },
     "execution_count": 42,
     "metadata": {},
     "output_type": "execute_result"
    }
   ],
   "source": [
    "previous_todos['parent_path'][0]"
   ]
  },
  {
   "cell_type": "code",
   "execution_count": null,
   "metadata": {},
   "outputs": [],
   "source": [
    "previous_todos['case_path'] = f\"GKLT/wEU.TREFHT.05-31.5x18.ssp370-2025-dry.k0p02.s6000/step14\""
   ]
  },
  {
   "cell_type": "code",
   "execution_count": 34,
   "metadata": {},
   "outputs": [],
   "source": [
    "previous_todos['parent_path'] = [f\"/work/bb1152/u290372/cesm215_archive/GKLT/wEU.TREFHT.05-31.5x18.ssp370-2025-dry.k0p02.s6000/step14/{p.split('/')[-1]}\" for p in previous_todos['parent_path']]"
   ]
  },
  {
   "cell_type": "code",
   "execution_count": 47,
   "metadata": {},
   "outputs": [],
   "source": [
    "previous_todos.to_csv(f\"{launcher._exp.dir_work}/GKLT/{launcher._exp.experiment_name}/book_keeping/step{14}.csv\")"
   ]
  },
  {
   "cell_type": "code",
   "execution_count": 49,
   "metadata": {},
   "outputs": [
    {
     "name": "stdout",
     "output_type": "stream",
     "text": [
      "python /home/u/u290372/projects/REA_with_CESM2/branch_perturbed.py --dkrz_project_for_archive bb1152 --case_identifier c6_dry_099 --case_path GKLT/wEU.TREFHT.05-31.5x18.ssp370-2025-dry.k0p02.s6000/step14/ --parent_path /work/bb1152/u290372/cesm215_archive/GKLT/wEU.TREFHT.05-31.5x18.ssp370-2025-dry.k0p02.s6000/c6_dry_099/c6_dry_099/c6_dry_099/c6_dry_099/c6_dry_099/c6_dry_099/c6_dry_099/c6_dry_099/c6_dry_099/c6_dry_099/c6_dry_099/c6_dry_099/c6_dry_099/c6_dry_099 --precompiled_path GKLT/wEU.TREFHT.05-31.5x18.ssp370-2025-dry.k0p02.s6000/c6_dry_000 --perturbation_seed 7005 --compset BSSP370cmip6 --ndays 5 --perturbation_type PT_direct --perturbation_order_of_magnitude -13 --user_nl_file_directory /home/u/u290372/projects/REA_heat_wEU_JJA/experiment_configuration/user_nl_files\n"
     ]
    }
   ],
   "source": [
    "print(launcher.generate_launch_command(previous_todos.iloc[-1]))"
   ]
  },
  {
   "cell_type": "code",
   "execution_count": 48,
   "metadata": {},
   "outputs": [
    {
     "ename": "AssertionError",
     "evalue": "h-file missing - /work/bb1152/u290372/cesm215_archive/GKLT/wEU.TREFHT.05-31.5x18.ssp370-2025-dry.k0p02.s6000/step14//c6_dry_099",
     "output_type": "error",
     "traceback": [
      "\u001b[0;31m---------------------------------------------------------------------------\u001b[0m",
      "\u001b[0;31mAssertionError\u001b[0m                            Traceback (most recent call last)",
      "Cell \u001b[0;32mIn[48], line 1\u001b[0m\n\u001b[0;32m----> 1\u001b[0m evaluation_table \u001b[38;5;241m=\u001b[39m \u001b[38;5;28;43mself\u001b[39;49m\u001b[38;5;241;43m.\u001b[39;49m\u001b[43mevaluate_previous_step\u001b[49m\u001b[43m(\u001b[49m\u001b[43mstep\u001b[49m\u001b[43m)\u001b[49m\n\u001b[1;32m      3\u001b[0m clones_of \u001b[38;5;241m=\u001b[39m \u001b[38;5;28mself\u001b[39m\u001b[38;5;241m.\u001b[39mcreate_list_of_clones(step, evaluation_table)\n\u001b[1;32m      5\u001b[0m \u001b[38;5;66;03m# make list of simulations to launch\u001b[39;00m\n",
      "File \u001b[0;32m~/projects/REA_with_CESM2/REA_launcher.py:158\u001b[0m, in \u001b[0;36mlaunch_handler.evaluate_previous_step\u001b[0;34m(self, step)\u001b[0m\n\u001b[1;32m    156\u001b[0m \u001b[38;5;28;01mfor\u001b[39;00m i \u001b[38;5;129;01min\u001b[39;00m evaluation_table\u001b[38;5;241m.\u001b[39mindex:\n\u001b[1;32m    157\u001b[0m     _archive \u001b[38;5;241m=\u001b[39m \u001b[38;5;124mf\u001b[39m\u001b[38;5;124m\"\u001b[39m\u001b[38;5;132;01m{\u001b[39;00m\u001b[38;5;28mself\u001b[39m\u001b[38;5;241m.\u001b[39m_exp\u001b[38;5;241m.\u001b[39mdir_archive\u001b[38;5;132;01m}\u001b[39;00m\u001b[38;5;124m/\u001b[39m\u001b[38;5;132;01m{\u001b[39;00mprevious_todos\u001b[38;5;241m.\u001b[39miloc[i]\u001b[38;5;241m.\u001b[39mloc[\u001b[38;5;124m'\u001b[39m\u001b[38;5;124mcase_path\u001b[39m\u001b[38;5;124m'\u001b[39m]\u001b[38;5;132;01m}\u001b[39;00m\u001b[38;5;124m/\u001b[39m\u001b[38;5;132;01m{\u001b[39;00mprevious_todos\u001b[38;5;241m.\u001b[39miloc[i]\u001b[38;5;241m.\u001b[39mloc[\u001b[38;5;124m'\u001b[39m\u001b[38;5;124mcase_identifier\u001b[39m\u001b[38;5;124m'\u001b[39m]\u001b[38;5;132;01m}\u001b[39;00m\u001b[38;5;124m\"\u001b[39m\n\u001b[0;32m--> 158\u001b[0m     obs \u001b[38;5;241m=\u001b[39m \u001b[38;5;28;43mself\u001b[39;49m\u001b[38;5;241;43m.\u001b[39;49m\u001b[43m_exp\u001b[49m\u001b[38;5;241;43m.\u001b[39;49m\u001b[43mget_main_observable\u001b[49m\u001b[43m(\u001b[49m\u001b[43m_archive\u001b[49m\u001b[43m)\u001b[49m\n\u001b[1;32m    159\u001b[0m     evaluation_table\u001b[38;5;241m.\u001b[39mloc[i,\u001b[38;5;124m'\u001b[39m\u001b[38;5;124mobservable mean\u001b[39m\u001b[38;5;124m'\u001b[39m] \u001b[38;5;241m=\u001b[39m obs\n\u001b[1;32m    160\u001b[0m     \u001b[38;5;66;03m# calculate scores\u001b[39;00m\n",
      "File \u001b[0;32m~/projects/REA_heat_wEU_JJA/experiment_configuration/experiment.py:88\u001b[0m, in \u001b[0;36mexperiment.get_main_observable\u001b[0;34m(self, archive_path)\u001b[0m\n\u001b[1;32m     87\u001b[0m \u001b[38;5;28;01mdef\u001b[39;00m\u001b[38;5;250m \u001b[39m\u001b[38;5;21mget_main_observable\u001b[39m(\u001b[38;5;28mself\u001b[39m, archive_path):\n\u001b[0;32m---> 88\u001b[0m     \u001b[38;5;28;01mreturn\u001b[39;00m \u001b[38;5;28mfloat\u001b[39m(\u001b[43mmain_observable\u001b[49m\u001b[43m(\u001b[49m\u001b[43marchive_path\u001b[49m\u001b[43m)\u001b[49m)\n",
      "File \u001b[0;32m~/projects/REA_heat_wEU_JJA/experiment_configuration/main_observable.py:43\u001b[0m, in \u001b[0;36mmain_observable\u001b[0;34m(archive_path)\u001b[0m\n\u001b[1;32m     41\u001b[0m \u001b[38;5;28;01mdef\u001b[39;00m\u001b[38;5;250m \u001b[39m\u001b[38;5;21mmain_observable\u001b[39m(archive_path):\n\u001b[1;32m     42\u001b[0m     h_files \u001b[38;5;241m=\u001b[39m glob\u001b[38;5;241m.\u001b[39mglob(\u001b[38;5;124mf\u001b[39m\u001b[38;5;124m\"\u001b[39m\u001b[38;5;132;01m{\u001b[39;00marchive_path\u001b[38;5;132;01m}\u001b[39;00m\u001b[38;5;124m/atm/hist/*h1*\u001b[39m\u001b[38;5;124m\"\u001b[39m)\n\u001b[0;32m---> 43\u001b[0m     \u001b[38;5;28;01massert\u001b[39;00m \u001b[38;5;28mlen\u001b[39m(h_files) \u001b[38;5;241m>\u001b[39m \u001b[38;5;241m0\u001b[39m, \u001b[38;5;124mf\u001b[39m\u001b[38;5;124m\"\u001b[39m\u001b[38;5;124mh-file missing - \u001b[39m\u001b[38;5;132;01m{\u001b[39;00marchive_path\u001b[38;5;132;01m}\u001b[39;00m\u001b[38;5;124m\"\u001b[39m\n\u001b[1;32m     44\u001b[0m     \u001b[38;5;28;01massert\u001b[39;00m \u001b[38;5;28mlen\u001b[39m(h_files) \u001b[38;5;241m==\u001b[39m \u001b[38;5;241m1\u001b[39m, \u001b[38;5;124mf\u001b[39m\u001b[38;5;124m\"\u001b[39m\u001b[38;5;124mmultiple h1-files available - \u001b[39m\u001b[38;5;132;01m{\u001b[39;00marchive_path\u001b[38;5;132;01m}\u001b[39;00m\u001b[38;5;124m\"\u001b[39m\n\u001b[1;32m     46\u001b[0m     \u001b[38;5;66;03m# regional mask\u001b[39;00m\n",
      "\u001b[0;31mAssertionError\u001b[0m: h-file missing - /work/bb1152/u290372/cesm215_archive/GKLT/wEU.TREFHT.05-31.5x18.ssp370-2025-dry.k0p02.s6000/step14//c6_dry_099"
     ]
    }
   ],
   "source": [
    "\n",
    "evaluation_table = self.evaluate_previous_step(step)\n",
    "\n",
    "clones_of = self.create_list_of_clones(step, evaluation_table)\n",
    "\n",
    "# make list of simulations to launch\n",
    "l = []\n",
    "member = 0\n",
    "for i_p in np.unique(clones_of):\n",
    "    for c in range(np.sum(clones_of == i_p)):\n",
    "        d = self._exp.launch_template.copy()\n",
    "        d['case_path'] = f\"GKLT/{self._exp.experiment_name}/step{step}\"\n",
    "        d['parent_path'] = f\"{self._exp.dir_archive}/{previous_todos.loc[i_p, 'case_path']}/{previous_todos.loc[i_p, 'case_identifier']}\"\n",
    "        d['perturbation_seed'] = 1 + step + i_p * 10 + c + self._exp.seed\n",
    "        d['case_identifier'] = f\"{self._exp.experiment_identifier}_{str(member).zfill(3)}\"\n",
    "        l.append(d)\n",
    "        member += 1\n",
    "\n",
    "# convert to table\n",
    "todo_table = pd.DataFrame(l)\n",
    "# reuse the same compilation\n",
    "todo_table['precompiled_path'] = previous_todos.loc[1, 'precompiled_path']"
   ]
  },
  {
   "cell_type": "code",
   "execution_count": 24,
   "metadata": {},
   "outputs": [
    {
     "ename": "FileNotFoundError",
     "evalue": "[Errno 2] No such file or directory: '/work/bb1152/u290372/GKLT/wEU.TREFHT.05-31.5x18.ssp370-2025-dry.k0p02.s6000/book_keeping/step15.csv'",
     "output_type": "error",
     "traceback": [
      "\u001b[0;31m---------------------------------------------------------------------------\u001b[0m",
      "\u001b[0;31mFileNotFoundError\u001b[0m                         Traceback (most recent call last)",
      "Cell \u001b[0;32mIn[24], line 2\u001b[0m\n\u001b[1;32m      1\u001b[0m \u001b[38;5;66;03m# check if previous step is completed\u001b[39;00m\n\u001b[0;32m----> 2\u001b[0m previous_todos \u001b[38;5;241m=\u001b[39m \u001b[43mpd\u001b[49m\u001b[38;5;241;43m.\u001b[39;49m\u001b[43mread_csv\u001b[49m\u001b[43m(\u001b[49m\u001b[43mprevious_todo_csv\u001b[49m\u001b[43m,\u001b[49m\u001b[43m \u001b[49m\u001b[43mindex_col\u001b[49m\u001b[38;5;241;43m=\u001b[39;49m\u001b[38;5;241;43m0\u001b[39;49m\u001b[43m,\u001b[49m\u001b[43m \u001b[49m\u001b[43mkeep_default_na\u001b[49m\u001b[38;5;241;43m=\u001b[39;49m\u001b[38;5;28;43;01mFalse\u001b[39;49;00m\u001b[43m)\u001b[49m\n\u001b[1;32m      3\u001b[0m status_l \u001b[38;5;241m=\u001b[39m np\u001b[38;5;241m.\u001b[39marray([\u001b[38;5;124m'\u001b[39m\u001b[38;5;124m'\u001b[39m]\u001b[38;5;241m*\u001b[39m\u001b[38;5;28mself\u001b[39m\u001b[38;5;241m.\u001b[39m_exp\u001b[38;5;241m.\u001b[39mn_members, dtype\u001b[38;5;241m=\u001b[39m\u001b[38;5;124m'\u001b[39m\u001b[38;5;124m<U20\u001b[39m\u001b[38;5;124m'\u001b[39m)\n\u001b[1;32m      4\u001b[0m previous_todos\u001b[38;5;241m=\u001b[39mprevious_todos\u001b[38;5;241m.\u001b[39mreindex(columns\u001b[38;5;241m=\u001b[39m[previous_todos\u001b[38;5;241m.\u001b[39mcolumns[\u001b[38;5;241m-\u001b[39m\u001b[38;5;241m1\u001b[39m]] \u001b[38;5;241m+\u001b[39m \u001b[38;5;28mlist\u001b[39m(previous_todos\u001b[38;5;241m.\u001b[39mcolumns[:\u001b[38;5;241m-\u001b[39m\u001b[38;5;241m1\u001b[39m]))\n",
      "File \u001b[0;32m~/.conda/envs/py_gmlnet/lib/python3.9/site-packages/pandas/io/parsers/readers.py:1026\u001b[0m, in \u001b[0;36mread_csv\u001b[0;34m(filepath_or_buffer, sep, delimiter, header, names, index_col, usecols, dtype, engine, converters, true_values, false_values, skipinitialspace, skiprows, skipfooter, nrows, na_values, keep_default_na, na_filter, verbose, skip_blank_lines, parse_dates, infer_datetime_format, keep_date_col, date_parser, date_format, dayfirst, cache_dates, iterator, chunksize, compression, thousands, decimal, lineterminator, quotechar, quoting, doublequote, escapechar, comment, encoding, encoding_errors, dialect, on_bad_lines, delim_whitespace, low_memory, memory_map, float_precision, storage_options, dtype_backend)\u001b[0m\n\u001b[1;32m   1013\u001b[0m kwds_defaults \u001b[38;5;241m=\u001b[39m _refine_defaults_read(\n\u001b[1;32m   1014\u001b[0m     dialect,\n\u001b[1;32m   1015\u001b[0m     delimiter,\n\u001b[0;32m   (...)\u001b[0m\n\u001b[1;32m   1022\u001b[0m     dtype_backend\u001b[38;5;241m=\u001b[39mdtype_backend,\n\u001b[1;32m   1023\u001b[0m )\n\u001b[1;32m   1024\u001b[0m kwds\u001b[38;5;241m.\u001b[39mupdate(kwds_defaults)\n\u001b[0;32m-> 1026\u001b[0m \u001b[38;5;28;01mreturn\u001b[39;00m \u001b[43m_read\u001b[49m\u001b[43m(\u001b[49m\u001b[43mfilepath_or_buffer\u001b[49m\u001b[43m,\u001b[49m\u001b[43m \u001b[49m\u001b[43mkwds\u001b[49m\u001b[43m)\u001b[49m\n",
      "File \u001b[0;32m~/.conda/envs/py_gmlnet/lib/python3.9/site-packages/pandas/io/parsers/readers.py:620\u001b[0m, in \u001b[0;36m_read\u001b[0;34m(filepath_or_buffer, kwds)\u001b[0m\n\u001b[1;32m    617\u001b[0m _validate_names(kwds\u001b[38;5;241m.\u001b[39mget(\u001b[38;5;124m\"\u001b[39m\u001b[38;5;124mnames\u001b[39m\u001b[38;5;124m\"\u001b[39m, \u001b[38;5;28;01mNone\u001b[39;00m))\n\u001b[1;32m    619\u001b[0m \u001b[38;5;66;03m# Create the parser.\u001b[39;00m\n\u001b[0;32m--> 620\u001b[0m parser \u001b[38;5;241m=\u001b[39m \u001b[43mTextFileReader\u001b[49m\u001b[43m(\u001b[49m\u001b[43mfilepath_or_buffer\u001b[49m\u001b[43m,\u001b[49m\u001b[43m \u001b[49m\u001b[38;5;241;43m*\u001b[39;49m\u001b[38;5;241;43m*\u001b[39;49m\u001b[43mkwds\u001b[49m\u001b[43m)\u001b[49m\n\u001b[1;32m    622\u001b[0m \u001b[38;5;28;01mif\u001b[39;00m chunksize \u001b[38;5;129;01mor\u001b[39;00m iterator:\n\u001b[1;32m    623\u001b[0m     \u001b[38;5;28;01mreturn\u001b[39;00m parser\n",
      "File \u001b[0;32m~/.conda/envs/py_gmlnet/lib/python3.9/site-packages/pandas/io/parsers/readers.py:1620\u001b[0m, in \u001b[0;36mTextFileReader.__init__\u001b[0;34m(self, f, engine, **kwds)\u001b[0m\n\u001b[1;32m   1617\u001b[0m     \u001b[38;5;28mself\u001b[39m\u001b[38;5;241m.\u001b[39moptions[\u001b[38;5;124m\"\u001b[39m\u001b[38;5;124mhas_index_names\u001b[39m\u001b[38;5;124m\"\u001b[39m] \u001b[38;5;241m=\u001b[39m kwds[\u001b[38;5;124m\"\u001b[39m\u001b[38;5;124mhas_index_names\u001b[39m\u001b[38;5;124m\"\u001b[39m]\n\u001b[1;32m   1619\u001b[0m \u001b[38;5;28mself\u001b[39m\u001b[38;5;241m.\u001b[39mhandles: IOHandles \u001b[38;5;241m|\u001b[39m \u001b[38;5;28;01mNone\u001b[39;00m \u001b[38;5;241m=\u001b[39m \u001b[38;5;28;01mNone\u001b[39;00m\n\u001b[0;32m-> 1620\u001b[0m \u001b[38;5;28mself\u001b[39m\u001b[38;5;241m.\u001b[39m_engine \u001b[38;5;241m=\u001b[39m \u001b[38;5;28;43mself\u001b[39;49m\u001b[38;5;241;43m.\u001b[39;49m\u001b[43m_make_engine\u001b[49m\u001b[43m(\u001b[49m\u001b[43mf\u001b[49m\u001b[43m,\u001b[49m\u001b[43m \u001b[49m\u001b[38;5;28;43mself\u001b[39;49m\u001b[38;5;241;43m.\u001b[39;49m\u001b[43mengine\u001b[49m\u001b[43m)\u001b[49m\n",
      "File \u001b[0;32m~/.conda/envs/py_gmlnet/lib/python3.9/site-packages/pandas/io/parsers/readers.py:1880\u001b[0m, in \u001b[0;36mTextFileReader._make_engine\u001b[0;34m(self, f, engine)\u001b[0m\n\u001b[1;32m   1878\u001b[0m     \u001b[38;5;28;01mif\u001b[39;00m \u001b[38;5;124m\"\u001b[39m\u001b[38;5;124mb\u001b[39m\u001b[38;5;124m\"\u001b[39m \u001b[38;5;129;01mnot\u001b[39;00m \u001b[38;5;129;01min\u001b[39;00m mode:\n\u001b[1;32m   1879\u001b[0m         mode \u001b[38;5;241m+\u001b[39m\u001b[38;5;241m=\u001b[39m \u001b[38;5;124m\"\u001b[39m\u001b[38;5;124mb\u001b[39m\u001b[38;5;124m\"\u001b[39m\n\u001b[0;32m-> 1880\u001b[0m \u001b[38;5;28mself\u001b[39m\u001b[38;5;241m.\u001b[39mhandles \u001b[38;5;241m=\u001b[39m \u001b[43mget_handle\u001b[49m\u001b[43m(\u001b[49m\n\u001b[1;32m   1881\u001b[0m \u001b[43m    \u001b[49m\u001b[43mf\u001b[49m\u001b[43m,\u001b[49m\n\u001b[1;32m   1882\u001b[0m \u001b[43m    \u001b[49m\u001b[43mmode\u001b[49m\u001b[43m,\u001b[49m\n\u001b[1;32m   1883\u001b[0m \u001b[43m    \u001b[49m\u001b[43mencoding\u001b[49m\u001b[38;5;241;43m=\u001b[39;49m\u001b[38;5;28;43mself\u001b[39;49m\u001b[38;5;241;43m.\u001b[39;49m\u001b[43moptions\u001b[49m\u001b[38;5;241;43m.\u001b[39;49m\u001b[43mget\u001b[49m\u001b[43m(\u001b[49m\u001b[38;5;124;43m\"\u001b[39;49m\u001b[38;5;124;43mencoding\u001b[39;49m\u001b[38;5;124;43m\"\u001b[39;49m\u001b[43m,\u001b[49m\u001b[43m \u001b[49m\u001b[38;5;28;43;01mNone\u001b[39;49;00m\u001b[43m)\u001b[49m\u001b[43m,\u001b[49m\n\u001b[1;32m   1884\u001b[0m \u001b[43m    \u001b[49m\u001b[43mcompression\u001b[49m\u001b[38;5;241;43m=\u001b[39;49m\u001b[38;5;28;43mself\u001b[39;49m\u001b[38;5;241;43m.\u001b[39;49m\u001b[43moptions\u001b[49m\u001b[38;5;241;43m.\u001b[39;49m\u001b[43mget\u001b[49m\u001b[43m(\u001b[49m\u001b[38;5;124;43m\"\u001b[39;49m\u001b[38;5;124;43mcompression\u001b[39;49m\u001b[38;5;124;43m\"\u001b[39;49m\u001b[43m,\u001b[49m\u001b[43m \u001b[49m\u001b[38;5;28;43;01mNone\u001b[39;49;00m\u001b[43m)\u001b[49m\u001b[43m,\u001b[49m\n\u001b[1;32m   1885\u001b[0m \u001b[43m    \u001b[49m\u001b[43mmemory_map\u001b[49m\u001b[38;5;241;43m=\u001b[39;49m\u001b[38;5;28;43mself\u001b[39;49m\u001b[38;5;241;43m.\u001b[39;49m\u001b[43moptions\u001b[49m\u001b[38;5;241;43m.\u001b[39;49m\u001b[43mget\u001b[49m\u001b[43m(\u001b[49m\u001b[38;5;124;43m\"\u001b[39;49m\u001b[38;5;124;43mmemory_map\u001b[39;49m\u001b[38;5;124;43m\"\u001b[39;49m\u001b[43m,\u001b[49m\u001b[43m \u001b[49m\u001b[38;5;28;43;01mFalse\u001b[39;49;00m\u001b[43m)\u001b[49m\u001b[43m,\u001b[49m\n\u001b[1;32m   1886\u001b[0m \u001b[43m    \u001b[49m\u001b[43mis_text\u001b[49m\u001b[38;5;241;43m=\u001b[39;49m\u001b[43mis_text\u001b[49m\u001b[43m,\u001b[49m\n\u001b[1;32m   1887\u001b[0m \u001b[43m    \u001b[49m\u001b[43merrors\u001b[49m\u001b[38;5;241;43m=\u001b[39;49m\u001b[38;5;28;43mself\u001b[39;49m\u001b[38;5;241;43m.\u001b[39;49m\u001b[43moptions\u001b[49m\u001b[38;5;241;43m.\u001b[39;49m\u001b[43mget\u001b[49m\u001b[43m(\u001b[49m\u001b[38;5;124;43m\"\u001b[39;49m\u001b[38;5;124;43mencoding_errors\u001b[39;49m\u001b[38;5;124;43m\"\u001b[39;49m\u001b[43m,\u001b[49m\u001b[43m \u001b[49m\u001b[38;5;124;43m\"\u001b[39;49m\u001b[38;5;124;43mstrict\u001b[39;49m\u001b[38;5;124;43m\"\u001b[39;49m\u001b[43m)\u001b[49m\u001b[43m,\u001b[49m\n\u001b[1;32m   1888\u001b[0m \u001b[43m    \u001b[49m\u001b[43mstorage_options\u001b[49m\u001b[38;5;241;43m=\u001b[39;49m\u001b[38;5;28;43mself\u001b[39;49m\u001b[38;5;241;43m.\u001b[39;49m\u001b[43moptions\u001b[49m\u001b[38;5;241;43m.\u001b[39;49m\u001b[43mget\u001b[49m\u001b[43m(\u001b[49m\u001b[38;5;124;43m\"\u001b[39;49m\u001b[38;5;124;43mstorage_options\u001b[39;49m\u001b[38;5;124;43m\"\u001b[39;49m\u001b[43m,\u001b[49m\u001b[43m \u001b[49m\u001b[38;5;28;43;01mNone\u001b[39;49;00m\u001b[43m)\u001b[49m\u001b[43m,\u001b[49m\n\u001b[1;32m   1889\u001b[0m \u001b[43m\u001b[49m\u001b[43m)\u001b[49m\n\u001b[1;32m   1890\u001b[0m \u001b[38;5;28;01massert\u001b[39;00m \u001b[38;5;28mself\u001b[39m\u001b[38;5;241m.\u001b[39mhandles \u001b[38;5;129;01mis\u001b[39;00m \u001b[38;5;129;01mnot\u001b[39;00m \u001b[38;5;28;01mNone\u001b[39;00m\n\u001b[1;32m   1891\u001b[0m f \u001b[38;5;241m=\u001b[39m \u001b[38;5;28mself\u001b[39m\u001b[38;5;241m.\u001b[39mhandles\u001b[38;5;241m.\u001b[39mhandle\n",
      "File \u001b[0;32m~/.conda/envs/py_gmlnet/lib/python3.9/site-packages/pandas/io/common.py:873\u001b[0m, in \u001b[0;36mget_handle\u001b[0;34m(path_or_buf, mode, encoding, compression, memory_map, is_text, errors, storage_options)\u001b[0m\n\u001b[1;32m    868\u001b[0m \u001b[38;5;28;01melif\u001b[39;00m \u001b[38;5;28misinstance\u001b[39m(handle, \u001b[38;5;28mstr\u001b[39m):\n\u001b[1;32m    869\u001b[0m     \u001b[38;5;66;03m# Check whether the filename is to be opened in binary mode.\u001b[39;00m\n\u001b[1;32m    870\u001b[0m     \u001b[38;5;66;03m# Binary mode does not support 'encoding' and 'newline'.\u001b[39;00m\n\u001b[1;32m    871\u001b[0m     \u001b[38;5;28;01mif\u001b[39;00m ioargs\u001b[38;5;241m.\u001b[39mencoding \u001b[38;5;129;01mand\u001b[39;00m \u001b[38;5;124m\"\u001b[39m\u001b[38;5;124mb\u001b[39m\u001b[38;5;124m\"\u001b[39m \u001b[38;5;129;01mnot\u001b[39;00m \u001b[38;5;129;01min\u001b[39;00m ioargs\u001b[38;5;241m.\u001b[39mmode:\n\u001b[1;32m    872\u001b[0m         \u001b[38;5;66;03m# Encoding\u001b[39;00m\n\u001b[0;32m--> 873\u001b[0m         handle \u001b[38;5;241m=\u001b[39m \u001b[38;5;28;43mopen\u001b[39;49m\u001b[43m(\u001b[49m\n\u001b[1;32m    874\u001b[0m \u001b[43m            \u001b[49m\u001b[43mhandle\u001b[49m\u001b[43m,\u001b[49m\n\u001b[1;32m    875\u001b[0m \u001b[43m            \u001b[49m\u001b[43mioargs\u001b[49m\u001b[38;5;241;43m.\u001b[39;49m\u001b[43mmode\u001b[49m\u001b[43m,\u001b[49m\n\u001b[1;32m    876\u001b[0m \u001b[43m            \u001b[49m\u001b[43mencoding\u001b[49m\u001b[38;5;241;43m=\u001b[39;49m\u001b[43mioargs\u001b[49m\u001b[38;5;241;43m.\u001b[39;49m\u001b[43mencoding\u001b[49m\u001b[43m,\u001b[49m\n\u001b[1;32m    877\u001b[0m \u001b[43m            \u001b[49m\u001b[43merrors\u001b[49m\u001b[38;5;241;43m=\u001b[39;49m\u001b[43merrors\u001b[49m\u001b[43m,\u001b[49m\n\u001b[1;32m    878\u001b[0m \u001b[43m            \u001b[49m\u001b[43mnewline\u001b[49m\u001b[38;5;241;43m=\u001b[39;49m\u001b[38;5;124;43m\"\u001b[39;49m\u001b[38;5;124;43m\"\u001b[39;49m\u001b[43m,\u001b[49m\n\u001b[1;32m    879\u001b[0m \u001b[43m        \u001b[49m\u001b[43m)\u001b[49m\n\u001b[1;32m    880\u001b[0m     \u001b[38;5;28;01melse\u001b[39;00m:\n\u001b[1;32m    881\u001b[0m         \u001b[38;5;66;03m# Binary mode\u001b[39;00m\n\u001b[1;32m    882\u001b[0m         handle \u001b[38;5;241m=\u001b[39m \u001b[38;5;28mopen\u001b[39m(handle, ioargs\u001b[38;5;241m.\u001b[39mmode)\n",
      "\u001b[0;31mFileNotFoundError\u001b[0m: [Errno 2] No such file or directory: '/work/bb1152/u290372/GKLT/wEU.TREFHT.05-31.5x18.ssp370-2025-dry.k0p02.s6000/book_keeping/step15.csv'"
     ]
    }
   ],
   "source": [
    "# check if previous step is completed\n",
    "previous_todos = pd.read_csv(previous_todo_csv, index_col=0, keep_default_na=False)\n",
    "status_l = np.array(['']*self._exp.n_members, dtype='<U20')\n",
    "previous_todos=previous_todos.reindex(columns=[previous_todos.columns[-1]] + list(previous_todos.columns[:-1]))\n",
    "for i in previous_todos.index:\n",
    "    status_l[i] = self.check_status_of_todo(previous_todos.loc[i])\n"
   ]
  },
  {
   "cell_type": "code",
   "execution_count": null,
   "metadata": {},
   "outputs": [],
   "source": []
  },
  {
   "cell_type": "code",
   "execution_count": 15,
   "metadata": {},
   "outputs": [],
   "source": [
    "\n",
    "if np.all(status_l == 'done'):\n",
    "    print(f\"step {step} is done\")\n",
    "    print(f\"cleaning run directories of {step -1}\")\n",
    "    #self.clean_run_directories_of_step_X(step - 1)\n",
    "    print(f\"deleting restart files of {step - 2}\")\n",
    "    #self.delete_restart_files_of_step_X(step - 2)\n",
    "    print(f\"need to do step {step}\")\n",
    "    todo_table = self.prepare_todos_for_step_X(step)\n",
    "    todo_table.to_csv(f\"{self._exp.dir_work}/GKLT/{self._exp.experiment_name}/book_keeping/step{step}.csv\")"
   ]
  },
  {
   "cell_type": "code",
   "execution_count": 20,
   "metadata": {},
   "outputs": [
    {
     "data": {
      "text/plain": [
       "'GKLT/wEU.TREFHT.05-31.5x18.ssp370-2025-dry.k0p02.s6000/step14'"
      ]
     },
     "execution_count": 20,
     "metadata": {},
     "output_type": "execute_result"
    }
   ],
   "source": [
    "todo_table['case_path'][0]"
   ]
  },
  {
   "cell_type": "code",
   "execution_count": 16,
   "metadata": {},
   "outputs": [
    {
     "name": "stdout",
     "output_type": "stream",
     "text": [
      "python /home/u/u290372/projects/REA_with_CESM2/branch_perturbed.py --dkrz_project_for_archive bb1152 --case_identifier c6_dry_000 --case_path GKLT/wEU.TREFHT.05-31.5x18.ssp370-2025-dry.k0p02.s6000/step14 --parent_path /work/bb1152/u290372/cesm215_archive/GKLT/wEU.TREFHT.05-31.5x18.ssp370-2025-dry.k0p02.s6000/c6_dry_000/c6_dry_000/c6_dry_000/c6_dry_000/c6_dry_000/c6_dry_000/c6_dry_000/c6_dry_000/c6_dry_000/c6_dry_000/c6_dry_000/c6_dry_000/c6_dry_000/c6_dry_000 --precompiled_path GKLT/wEU.TREFHT.05-31.5x18.ssp370-2025-dry.k0p02.s6000/c6_dry_000 --perturbation_seed 6015 --compset BSSP370cmip6 --ndays 5 --perturbation_type PT_direct --perturbation_order_of_magnitude -13 --user_nl_file_directory /home/u/u290372/projects/REA_heat_wEU_JJA/experiment_configuration/user_nl_files\n",
      "python /home/u/u290372/projects/REA_with_CESM2/branch_perturbed.py --dkrz_project_for_archive bb1152 --case_identifier c6_dry_001 --case_path GKLT/wEU.TREFHT.05-31.5x18.ssp370-2025-dry.k0p02.s6000/step14 --parent_path /work/bb1152/u290372/cesm215_archive/GKLT/wEU.TREFHT.05-31.5x18.ssp370-2025-dry.k0p02.s6000/c6_dry_001/c6_dry_001/c6_dry_001/c6_dry_001/c6_dry_001/c6_dry_001/c6_dry_001/c6_dry_001/c6_dry_001/c6_dry_001/c6_dry_001/c6_dry_001/c6_dry_001/c6_dry_001 --precompiled_path GKLT/wEU.TREFHT.05-31.5x18.ssp370-2025-dry.k0p02.s6000/c6_dry_000 --perturbation_seed 6025 --compset BSSP370cmip6 --ndays 5 --perturbation_type PT_direct --perturbation_order_of_magnitude -13 --user_nl_file_directory /home/u/u290372/projects/REA_heat_wEU_JJA/experiment_configuration/user_nl_files\n",
      "python /home/u/u290372/projects/REA_with_CESM2/branch_perturbed.py --dkrz_project_for_archive bb1152 --case_identifier c6_dry_002 --case_path GKLT/wEU.TREFHT.05-31.5x18.ssp370-2025-dry.k0p02.s6000/step14 --parent_path /work/bb1152/u290372/cesm215_archive/GKLT/wEU.TREFHT.05-31.5x18.ssp370-2025-dry.k0p02.s6000/c6_dry_002/c6_dry_002/c6_dry_002/c6_dry_002/c6_dry_002/c6_dry_002/c6_dry_002/c6_dry_002/c6_dry_002/c6_dry_002/c6_dry_002/c6_dry_002/c6_dry_002/c6_dry_002 --precompiled_path GKLT/wEU.TREFHT.05-31.5x18.ssp370-2025-dry.k0p02.s6000/c6_dry_000 --perturbation_seed 6035 --compset BSSP370cmip6 --ndays 5 --perturbation_type PT_direct --perturbation_order_of_magnitude -13 --user_nl_file_directory /home/u/u290372/projects/REA_heat_wEU_JJA/experiment_configuration/user_nl_files\n",
      "python /home/u/u290372/projects/REA_with_CESM2/branch_perturbed.py --dkrz_project_for_archive bb1152 --case_identifier c6_dry_003 --case_path GKLT/wEU.TREFHT.05-31.5x18.ssp370-2025-dry.k0p02.s6000/step14 --parent_path /work/bb1152/u290372/cesm215_archive/GKLT/wEU.TREFHT.05-31.5x18.ssp370-2025-dry.k0p02.s6000/c6_dry_003/c6_dry_003/c6_dry_003/c6_dry_003/c6_dry_003/c6_dry_003/c6_dry_003/c6_dry_003/c6_dry_003/c6_dry_003/c6_dry_003/c6_dry_003/c6_dry_003/c6_dry_003 --precompiled_path GKLT/wEU.TREFHT.05-31.5x18.ssp370-2025-dry.k0p02.s6000/c6_dry_000 --perturbation_seed 6045 --compset BSSP370cmip6 --ndays 5 --perturbation_type PT_direct --perturbation_order_of_magnitude -13 --user_nl_file_directory /home/u/u290372/projects/REA_heat_wEU_JJA/experiment_configuration/user_nl_files\n",
      "python /home/u/u290372/projects/REA_with_CESM2/branch_perturbed.py --dkrz_project_for_archive bb1152 --case_identifier c6_dry_004 --case_path GKLT/wEU.TREFHT.05-31.5x18.ssp370-2025-dry.k0p02.s6000/step14 --parent_path /work/bb1152/u290372/cesm215_archive/GKLT/wEU.TREFHT.05-31.5x18.ssp370-2025-dry.k0p02.s6000/c6_dry_004/c6_dry_004/c6_dry_004/c6_dry_004/c6_dry_004/c6_dry_004/c6_dry_004/c6_dry_004/c6_dry_004/c6_dry_004/c6_dry_004/c6_dry_004/c6_dry_004/c6_dry_004 --precompiled_path GKLT/wEU.TREFHT.05-31.5x18.ssp370-2025-dry.k0p02.s6000/c6_dry_000 --perturbation_seed 6055 --compset BSSP370cmip6 --ndays 5 --perturbation_type PT_direct --perturbation_order_of_magnitude -13 --user_nl_file_directory /home/u/u290372/projects/REA_heat_wEU_JJA/experiment_configuration/user_nl_files\n",
      "python /home/u/u290372/projects/REA_with_CESM2/branch_perturbed.py --dkrz_project_for_archive bb1152 --case_identifier c6_dry_005 --case_path GKLT/wEU.TREFHT.05-31.5x18.ssp370-2025-dry.k0p02.s6000/step14 --parent_path /work/bb1152/u290372/cesm215_archive/GKLT/wEU.TREFHT.05-31.5x18.ssp370-2025-dry.k0p02.s6000/c6_dry_004/c6_dry_004/c6_dry_004/c6_dry_004/c6_dry_005/c6_dry_005/c6_dry_005/c6_dry_005/c6_dry_005/c6_dry_005/c6_dry_005/c6_dry_005/c6_dry_005/c6_dry_005 --precompiled_path GKLT/wEU.TREFHT.05-31.5x18.ssp370-2025-dry.k0p02.s6000/c6_dry_000 --perturbation_seed 6065 --compset BSSP370cmip6 --ndays 5 --perturbation_type PT_direct --perturbation_order_of_magnitude -13 --user_nl_file_directory /home/u/u290372/projects/REA_heat_wEU_JJA/experiment_configuration/user_nl_files\n",
      "python /home/u/u290372/projects/REA_with_CESM2/branch_perturbed.py --dkrz_project_for_archive bb1152 --case_identifier c6_dry_006 --case_path GKLT/wEU.TREFHT.05-31.5x18.ssp370-2025-dry.k0p02.s6000/step14 --parent_path /work/bb1152/u290372/cesm215_archive/GKLT/wEU.TREFHT.05-31.5x18.ssp370-2025-dry.k0p02.s6000/c6_dry_005/c6_dry_005/c6_dry_005/c6_dry_005/c6_dry_006/c6_dry_006/c6_dry_006/c6_dry_006/c6_dry_006/c6_dry_006/c6_dry_006/c6_dry_006/c6_dry_006/c6_dry_006 --precompiled_path GKLT/wEU.TREFHT.05-31.5x18.ssp370-2025-dry.k0p02.s6000/c6_dry_000 --perturbation_seed 6075 --compset BSSP370cmip6 --ndays 5 --perturbation_type PT_direct --perturbation_order_of_magnitude -13 --user_nl_file_directory /home/u/u290372/projects/REA_heat_wEU_JJA/experiment_configuration/user_nl_files\n",
      "python /home/u/u290372/projects/REA_with_CESM2/branch_perturbed.py --dkrz_project_for_archive bb1152 --case_identifier c6_dry_007 --case_path GKLT/wEU.TREFHT.05-31.5x18.ssp370-2025-dry.k0p02.s6000/step14 --parent_path /work/bb1152/u290372/cesm215_archive/GKLT/wEU.TREFHT.05-31.5x18.ssp370-2025-dry.k0p02.s6000/c6_dry_007/c6_dry_007/c6_dry_007/c6_dry_007/c6_dry_008/c6_dry_008/c6_dry_007/c6_dry_007/c6_dry_007/c6_dry_007/c6_dry_007/c6_dry_007/c6_dry_007/c6_dry_007 --precompiled_path GKLT/wEU.TREFHT.05-31.5x18.ssp370-2025-dry.k0p02.s6000/c6_dry_000 --perturbation_seed 6085 --compset BSSP370cmip6 --ndays 5 --perturbation_type PT_direct --perturbation_order_of_magnitude -13 --user_nl_file_directory /home/u/u290372/projects/REA_heat_wEU_JJA/experiment_configuration/user_nl_files\n",
      "python /home/u/u290372/projects/REA_with_CESM2/branch_perturbed.py --dkrz_project_for_archive bb1152 --case_identifier c6_dry_008 --case_path GKLT/wEU.TREFHT.05-31.5x18.ssp370-2025-dry.k0p02.s6000/step14 --parent_path /work/bb1152/u290372/cesm215_archive/GKLT/wEU.TREFHT.05-31.5x18.ssp370-2025-dry.k0p02.s6000/c6_dry_008/c6_dry_008/c6_dry_009/c6_dry_009/c6_dry_010/c6_dry_010/c6_dry_009/c6_dry_009/c6_dry_009/c6_dry_009/c6_dry_009/c6_dry_009/c6_dry_008/c6_dry_008 --precompiled_path GKLT/wEU.TREFHT.05-31.5x18.ssp370-2025-dry.k0p02.s6000/c6_dry_000 --perturbation_seed 6095 --compset BSSP370cmip6 --ndays 5 --perturbation_type PT_direct --perturbation_order_of_magnitude -13 --user_nl_file_directory /home/u/u290372/projects/REA_heat_wEU_JJA/experiment_configuration/user_nl_files\n",
      "python /home/u/u290372/projects/REA_with_CESM2/branch_perturbed.py --dkrz_project_for_archive bb1152 --case_identifier c6_dry_009 --case_path GKLT/wEU.TREFHT.05-31.5x18.ssp370-2025-dry.k0p02.s6000/step14 --parent_path /work/bb1152/u290372/cesm215_archive/GKLT/wEU.TREFHT.05-31.5x18.ssp370-2025-dry.k0p02.s6000/c6_dry_008/c6_dry_008/c6_dry_009/c6_dry_009/c6_dry_010/c6_dry_010/c6_dry_009/c6_dry_009/c6_dry_009/c6_dry_009/c6_dry_009/c6_dry_009/c6_dry_008/c6_dry_009 --precompiled_path GKLT/wEU.TREFHT.05-31.5x18.ssp370-2025-dry.k0p02.s6000/c6_dry_000 --perturbation_seed 6105 --compset BSSP370cmip6 --ndays 5 --perturbation_type PT_direct --perturbation_order_of_magnitude -13 --user_nl_file_directory /home/u/u290372/projects/REA_heat_wEU_JJA/experiment_configuration/user_nl_files\n",
      "python /home/u/u290372/projects/REA_with_CESM2/branch_perturbed.py --dkrz_project_for_archive bb1152 --case_identifier c6_dry_010 --case_path GKLT/wEU.TREFHT.05-31.5x18.ssp370-2025-dry.k0p02.s6000/step14 --parent_path /work/bb1152/u290372/cesm215_archive/GKLT/wEU.TREFHT.05-31.5x18.ssp370-2025-dry.k0p02.s6000/c6_dry_009/c6_dry_009/c6_dry_010/c6_dry_010/c6_dry_011/c6_dry_011/c6_dry_010/c6_dry_010/c6_dry_010/c6_dry_010/c6_dry_010/c6_dry_010/c6_dry_009/c6_dry_010 --precompiled_path GKLT/wEU.TREFHT.05-31.5x18.ssp370-2025-dry.k0p02.s6000/c6_dry_000 --perturbation_seed 6115 --compset BSSP370cmip6 --ndays 5 --perturbation_type PT_direct --perturbation_order_of_magnitude -13 --user_nl_file_directory /home/u/u290372/projects/REA_heat_wEU_JJA/experiment_configuration/user_nl_files\n",
      "python /home/u/u290372/projects/REA_with_CESM2/branch_perturbed.py --dkrz_project_for_archive bb1152 --case_identifier c6_dry_011 --case_path GKLT/wEU.TREFHT.05-31.5x18.ssp370-2025-dry.k0p02.s6000/step14 --parent_path /work/bb1152/u290372/cesm215_archive/GKLT/wEU.TREFHT.05-31.5x18.ssp370-2025-dry.k0p02.s6000/c6_dry_010/c6_dry_010/c6_dry_011/c6_dry_011/c6_dry_012/c6_dry_012/c6_dry_011/c6_dry_011/c6_dry_011/c6_dry_011/c6_dry_011/c6_dry_011/c6_dry_010/c6_dry_011 --precompiled_path GKLT/wEU.TREFHT.05-31.5x18.ssp370-2025-dry.k0p02.s6000/c6_dry_000 --perturbation_seed 6125 --compset BSSP370cmip6 --ndays 5 --perturbation_type PT_direct --perturbation_order_of_magnitude -13 --user_nl_file_directory /home/u/u290372/projects/REA_heat_wEU_JJA/experiment_configuration/user_nl_files\n",
      "python /home/u/u290372/projects/REA_with_CESM2/branch_perturbed.py --dkrz_project_for_archive bb1152 --case_identifier c6_dry_012 --case_path GKLT/wEU.TREFHT.05-31.5x18.ssp370-2025-dry.k0p02.s6000/step14 --parent_path /work/bb1152/u290372/cesm215_archive/GKLT/wEU.TREFHT.05-31.5x18.ssp370-2025-dry.k0p02.s6000/c6_dry_011/c6_dry_012/c6_dry_013/c6_dry_013/c6_dry_014/c6_dry_014/c6_dry_013/c6_dry_013/c6_dry_013/c6_dry_013/c6_dry_013/c6_dry_013/c6_dry_012/c6_dry_012 --precompiled_path GKLT/wEU.TREFHT.05-31.5x18.ssp370-2025-dry.k0p02.s6000/c6_dry_000 --perturbation_seed 6135 --compset BSSP370cmip6 --ndays 5 --perturbation_type PT_direct --perturbation_order_of_magnitude -13 --user_nl_file_directory /home/u/u290372/projects/REA_heat_wEU_JJA/experiment_configuration/user_nl_files\n",
      "python /home/u/u290372/projects/REA_with_CESM2/branch_perturbed.py --dkrz_project_for_archive bb1152 --case_identifier c6_dry_013 --case_path GKLT/wEU.TREFHT.05-31.5x18.ssp370-2025-dry.k0p02.s6000/step14 --parent_path /work/bb1152/u290372/cesm215_archive/GKLT/wEU.TREFHT.05-31.5x18.ssp370-2025-dry.k0p02.s6000/c6_dry_011/c6_dry_012/c6_dry_013/c6_dry_013/c6_dry_014/c6_dry_014/c6_dry_013/c6_dry_013/c6_dry_013/c6_dry_013/c6_dry_014/c6_dry_014/c6_dry_013/c6_dry_013 --precompiled_path GKLT/wEU.TREFHT.05-31.5x18.ssp370-2025-dry.k0p02.s6000/c6_dry_000 --perturbation_seed 6145 --compset BSSP370cmip6 --ndays 5 --perturbation_type PT_direct --perturbation_order_of_magnitude -13 --user_nl_file_directory /home/u/u290372/projects/REA_heat_wEU_JJA/experiment_configuration/user_nl_files\n",
      "python /home/u/u290372/projects/REA_with_CESM2/branch_perturbed.py --dkrz_project_for_archive bb1152 --case_identifier c6_dry_014 --case_path GKLT/wEU.TREFHT.05-31.5x18.ssp370-2025-dry.k0p02.s6000/step14 --parent_path /work/bb1152/u290372/cesm215_archive/GKLT/wEU.TREFHT.05-31.5x18.ssp370-2025-dry.k0p02.s6000/c6_dry_012/c6_dry_013/c6_dry_014/c6_dry_014/c6_dry_015/c6_dry_015/c6_dry_014/c6_dry_014/c6_dry_014/c6_dry_014/c6_dry_015/c6_dry_015/c6_dry_014/c6_dry_014 --precompiled_path GKLT/wEU.TREFHT.05-31.5x18.ssp370-2025-dry.k0p02.s6000/c6_dry_000 --perturbation_seed 6155 --compset BSSP370cmip6 --ndays 5 --perturbation_type PT_direct --perturbation_order_of_magnitude -13 --user_nl_file_directory /home/u/u290372/projects/REA_heat_wEU_JJA/experiment_configuration/user_nl_files\n",
      "python /home/u/u290372/projects/REA_with_CESM2/branch_perturbed.py --dkrz_project_for_archive bb1152 --case_identifier c6_dry_015 --case_path GKLT/wEU.TREFHT.05-31.5x18.ssp370-2025-dry.k0p02.s6000/step14 --parent_path /work/bb1152/u290372/cesm215_archive/GKLT/wEU.TREFHT.05-31.5x18.ssp370-2025-dry.k0p02.s6000/c6_dry_012/c6_dry_013/c6_dry_014/c6_dry_014/c6_dry_015/c6_dry_015/c6_dry_014/c6_dry_014/c6_dry_014/c6_dry_014/c6_dry_016/c6_dry_016/c6_dry_015/c6_dry_015 --precompiled_path GKLT/wEU.TREFHT.05-31.5x18.ssp370-2025-dry.k0p02.s6000/c6_dry_000 --perturbation_seed 6165 --compset BSSP370cmip6 --ndays 5 --perturbation_type PT_direct --perturbation_order_of_magnitude -13 --user_nl_file_directory /home/u/u290372/projects/REA_heat_wEU_JJA/experiment_configuration/user_nl_files\n",
      "python /home/u/u290372/projects/REA_with_CESM2/branch_perturbed.py --dkrz_project_for_archive bb1152 --case_identifier c6_dry_016 --case_path GKLT/wEU.TREFHT.05-31.5x18.ssp370-2025-dry.k0p02.s6000/step14 --parent_path /work/bb1152/u290372/cesm215_archive/GKLT/wEU.TREFHT.05-31.5x18.ssp370-2025-dry.k0p02.s6000/c6_dry_012/c6_dry_014/c6_dry_015/c6_dry_015/c6_dry_016/c6_dry_016/c6_dry_015/c6_dry_015/c6_dry_015/c6_dry_015/c6_dry_017/c6_dry_017/c6_dry_016/c6_dry_016 --precompiled_path GKLT/wEU.TREFHT.05-31.5x18.ssp370-2025-dry.k0p02.s6000/c6_dry_000 --perturbation_seed 6175 --compset BSSP370cmip6 --ndays 5 --perturbation_type PT_direct --perturbation_order_of_magnitude -13 --user_nl_file_directory /home/u/u290372/projects/REA_heat_wEU_JJA/experiment_configuration/user_nl_files\n",
      "python /home/u/u290372/projects/REA_with_CESM2/branch_perturbed.py --dkrz_project_for_archive bb1152 --case_identifier c6_dry_017 --case_path GKLT/wEU.TREFHT.05-31.5x18.ssp370-2025-dry.k0p02.s6000/step14 --parent_path /work/bb1152/u290372/cesm215_archive/GKLT/wEU.TREFHT.05-31.5x18.ssp370-2025-dry.k0p02.s6000/c6_dry_012/c6_dry_014/c6_dry_015/c6_dry_015/c6_dry_016/c6_dry_016/c6_dry_015/c6_dry_015/c6_dry_015/c6_dry_015/c6_dry_017/c6_dry_018/c6_dry_017/c6_dry_017 --precompiled_path GKLT/wEU.TREFHT.05-31.5x18.ssp370-2025-dry.k0p02.s6000/c6_dry_000 --perturbation_seed 6185 --compset BSSP370cmip6 --ndays 5 --perturbation_type PT_direct --perturbation_order_of_magnitude -13 --user_nl_file_directory /home/u/u290372/projects/REA_heat_wEU_JJA/experiment_configuration/user_nl_files\n",
      "python /home/u/u290372/projects/REA_with_CESM2/branch_perturbed.py --dkrz_project_for_archive bb1152 --case_identifier c6_dry_018 --case_path GKLT/wEU.TREFHT.05-31.5x18.ssp370-2025-dry.k0p02.s6000/step14 --parent_path /work/bb1152/u290372/cesm215_archive/GKLT/wEU.TREFHT.05-31.5x18.ssp370-2025-dry.k0p02.s6000/c6_dry_013/c6_dry_015/c6_dry_016/c6_dry_016/c6_dry_017/c6_dry_017/c6_dry_016/c6_dry_016/c6_dry_016/c6_dry_016/c6_dry_018/c6_dry_019/c6_dry_018/c6_dry_018 --precompiled_path GKLT/wEU.TREFHT.05-31.5x18.ssp370-2025-dry.k0p02.s6000/c6_dry_000 --perturbation_seed 6195 --compset BSSP370cmip6 --ndays 5 --perturbation_type PT_direct --perturbation_order_of_magnitude -13 --user_nl_file_directory /home/u/u290372/projects/REA_heat_wEU_JJA/experiment_configuration/user_nl_files\n",
      "python /home/u/u290372/projects/REA_with_CESM2/branch_perturbed.py --dkrz_project_for_archive bb1152 --case_identifier c6_dry_019 --case_path GKLT/wEU.TREFHT.05-31.5x18.ssp370-2025-dry.k0p02.s6000/step14 --parent_path /work/bb1152/u290372/cesm215_archive/GKLT/wEU.TREFHT.05-31.5x18.ssp370-2025-dry.k0p02.s6000/c6_dry_014/c6_dry_016/c6_dry_017/c6_dry_017/c6_dry_018/c6_dry_018/c6_dry_017/c6_dry_017/c6_dry_017/c6_dry_017/c6_dry_019/c6_dry_020/c6_dry_019/c6_dry_019 --precompiled_path GKLT/wEU.TREFHT.05-31.5x18.ssp370-2025-dry.k0p02.s6000/c6_dry_000 --perturbation_seed 6205 --compset BSSP370cmip6 --ndays 5 --perturbation_type PT_direct --perturbation_order_of_magnitude -13 --user_nl_file_directory /home/u/u290372/projects/REA_heat_wEU_JJA/experiment_configuration/user_nl_files\n",
      "python /home/u/u290372/projects/REA_with_CESM2/branch_perturbed.py --dkrz_project_for_archive bb1152 --case_identifier c6_dry_020 --case_path GKLT/wEU.TREFHT.05-31.5x18.ssp370-2025-dry.k0p02.s6000/step14 --parent_path /work/bb1152/u290372/cesm215_archive/GKLT/wEU.TREFHT.05-31.5x18.ssp370-2025-dry.k0p02.s6000/c6_dry_015/c6_dry_017/c6_dry_018/c6_dry_018/c6_dry_019/c6_dry_019/c6_dry_018/c6_dry_018/c6_dry_018/c6_dry_018/c6_dry_020/c6_dry_021/c6_dry_020/c6_dry_020 --precompiled_path GKLT/wEU.TREFHT.05-31.5x18.ssp370-2025-dry.k0p02.s6000/c6_dry_000 --perturbation_seed 6215 --compset BSSP370cmip6 --ndays 5 --perturbation_type PT_direct --perturbation_order_of_magnitude -13 --user_nl_file_directory /home/u/u290372/projects/REA_heat_wEU_JJA/experiment_configuration/user_nl_files\n",
      "python /home/u/u290372/projects/REA_with_CESM2/branch_perturbed.py --dkrz_project_for_archive bb1152 --case_identifier c6_dry_021 --case_path GKLT/wEU.TREFHT.05-31.5x18.ssp370-2025-dry.k0p02.s6000/step14 --parent_path /work/bb1152/u290372/cesm215_archive/GKLT/wEU.TREFHT.05-31.5x18.ssp370-2025-dry.k0p02.s6000/c6_dry_015/c6_dry_017/c6_dry_018/c6_dry_018/c6_dry_019/c6_dry_019/c6_dry_018/c6_dry_018/c6_dry_019/c6_dry_019/c6_dry_021/c6_dry_022/c6_dry_021/c6_dry_021 --precompiled_path GKLT/wEU.TREFHT.05-31.5x18.ssp370-2025-dry.k0p02.s6000/c6_dry_000 --perturbation_seed 6225 --compset BSSP370cmip6 --ndays 5 --perturbation_type PT_direct --perturbation_order_of_magnitude -13 --user_nl_file_directory /home/u/u290372/projects/REA_heat_wEU_JJA/experiment_configuration/user_nl_files\n",
      "python /home/u/u290372/projects/REA_with_CESM2/branch_perturbed.py --dkrz_project_for_archive bb1152 --case_identifier c6_dry_022 --case_path GKLT/wEU.TREFHT.05-31.5x18.ssp370-2025-dry.k0p02.s6000/step14 --parent_path /work/bb1152/u290372/cesm215_archive/GKLT/wEU.TREFHT.05-31.5x18.ssp370-2025-dry.k0p02.s6000/c6_dry_017/c6_dry_019/c6_dry_020/c6_dry_020/c6_dry_021/c6_dry_021/c6_dry_020/c6_dry_020/c6_dry_021/c6_dry_021/c6_dry_023/c6_dry_024/c6_dry_022/c6_dry_022 --precompiled_path GKLT/wEU.TREFHT.05-31.5x18.ssp370-2025-dry.k0p02.s6000/c6_dry_000 --perturbation_seed 6235 --compset BSSP370cmip6 --ndays 5 --perturbation_type PT_direct --perturbation_order_of_magnitude -13 --user_nl_file_directory /home/u/u290372/projects/REA_heat_wEU_JJA/experiment_configuration/user_nl_files\n",
      "python /home/u/u290372/projects/REA_with_CESM2/branch_perturbed.py --dkrz_project_for_archive bb1152 --case_identifier c6_dry_023 --case_path GKLT/wEU.TREFHT.05-31.5x18.ssp370-2025-dry.k0p02.s6000/step14 --parent_path /work/bb1152/u290372/cesm215_archive/GKLT/wEU.TREFHT.05-31.5x18.ssp370-2025-dry.k0p02.s6000/c6_dry_018/c6_dry_020/c6_dry_021/c6_dry_021/c6_dry_022/c6_dry_022/c6_dry_021/c6_dry_021/c6_dry_022/c6_dry_022/c6_dry_024/c6_dry_025/c6_dry_023/c6_dry_023 --precompiled_path GKLT/wEU.TREFHT.05-31.5x18.ssp370-2025-dry.k0p02.s6000/c6_dry_000 --perturbation_seed 6245 --compset BSSP370cmip6 --ndays 5 --perturbation_type PT_direct --perturbation_order_of_magnitude -13 --user_nl_file_directory /home/u/u290372/projects/REA_heat_wEU_JJA/experiment_configuration/user_nl_files\n",
      "python /home/u/u290372/projects/REA_with_CESM2/branch_perturbed.py --dkrz_project_for_archive bb1152 --case_identifier c6_dry_024 --case_path GKLT/wEU.TREFHT.05-31.5x18.ssp370-2025-dry.k0p02.s6000/step14 --parent_path /work/bb1152/u290372/cesm215_archive/GKLT/wEU.TREFHT.05-31.5x18.ssp370-2025-dry.k0p02.s6000/c6_dry_019/c6_dry_021/c6_dry_022/c6_dry_022/c6_dry_023/c6_dry_023/c6_dry_022/c6_dry_022/c6_dry_023/c6_dry_023/c6_dry_025/c6_dry_026/c6_dry_024/c6_dry_024 --precompiled_path GKLT/wEU.TREFHT.05-31.5x18.ssp370-2025-dry.k0p02.s6000/c6_dry_000 --perturbation_seed 6255 --compset BSSP370cmip6 --ndays 5 --perturbation_type PT_direct --perturbation_order_of_magnitude -13 --user_nl_file_directory /home/u/u290372/projects/REA_heat_wEU_JJA/experiment_configuration/user_nl_files\n",
      "python /home/u/u290372/projects/REA_with_CESM2/branch_perturbed.py --dkrz_project_for_archive bb1152 --case_identifier c6_dry_025 --case_path GKLT/wEU.TREFHT.05-31.5x18.ssp370-2025-dry.k0p02.s6000/step14 --parent_path /work/bb1152/u290372/cesm215_archive/GKLT/wEU.TREFHT.05-31.5x18.ssp370-2025-dry.k0p02.s6000/c6_dry_020/c6_dry_022/c6_dry_023/c6_dry_024/c6_dry_024/c6_dry_024/c6_dry_023/c6_dry_023/c6_dry_024/c6_dry_024/c6_dry_026/c6_dry_027/c6_dry_025/c6_dry_025 --precompiled_path GKLT/wEU.TREFHT.05-31.5x18.ssp370-2025-dry.k0p02.s6000/c6_dry_000 --perturbation_seed 6265 --compset BSSP370cmip6 --ndays 5 --perturbation_type PT_direct --perturbation_order_of_magnitude -13 --user_nl_file_directory /home/u/u290372/projects/REA_heat_wEU_JJA/experiment_configuration/user_nl_files\n",
      "python /home/u/u290372/projects/REA_with_CESM2/branch_perturbed.py --dkrz_project_for_archive bb1152 --case_identifier c6_dry_026 --case_path GKLT/wEU.TREFHT.05-31.5x18.ssp370-2025-dry.k0p02.s6000/step14 --parent_path /work/bb1152/u290372/cesm215_archive/GKLT/wEU.TREFHT.05-31.5x18.ssp370-2025-dry.k0p02.s6000/c6_dry_020/c6_dry_022/c6_dry_023/c6_dry_024/c6_dry_024/c6_dry_024/c6_dry_024/c6_dry_024/c6_dry_025/c6_dry_025/c6_dry_027/c6_dry_028/c6_dry_026/c6_dry_026 --precompiled_path GKLT/wEU.TREFHT.05-31.5x18.ssp370-2025-dry.k0p02.s6000/c6_dry_000 --perturbation_seed 6275 --compset BSSP370cmip6 --ndays 5 --perturbation_type PT_direct --perturbation_order_of_magnitude -13 --user_nl_file_directory /home/u/u290372/projects/REA_heat_wEU_JJA/experiment_configuration/user_nl_files\n",
      "python /home/u/u290372/projects/REA_with_CESM2/branch_perturbed.py --dkrz_project_for_archive bb1152 --case_identifier c6_dry_027 --case_path GKLT/wEU.TREFHT.05-31.5x18.ssp370-2025-dry.k0p02.s6000/step14 --parent_path /work/bb1152/u290372/cesm215_archive/GKLT/wEU.TREFHT.05-31.5x18.ssp370-2025-dry.k0p02.s6000/c6_dry_022/c6_dry_024/c6_dry_024/c6_dry_025/c6_dry_025/c6_dry_025/c6_dry_025/c6_dry_025/c6_dry_026/c6_dry_026/c6_dry_028/c6_dry_029/c6_dry_027/c6_dry_027 --precompiled_path GKLT/wEU.TREFHT.05-31.5x18.ssp370-2025-dry.k0p02.s6000/c6_dry_000 --perturbation_seed 6285 --compset BSSP370cmip6 --ndays 5 --perturbation_type PT_direct --perturbation_order_of_magnitude -13 --user_nl_file_directory /home/u/u290372/projects/REA_heat_wEU_JJA/experiment_configuration/user_nl_files\n",
      "python /home/u/u290372/projects/REA_with_CESM2/branch_perturbed.py --dkrz_project_for_archive bb1152 --case_identifier c6_dry_028 --case_path GKLT/wEU.TREFHT.05-31.5x18.ssp370-2025-dry.k0p02.s6000/step14 --parent_path /work/bb1152/u290372/cesm215_archive/GKLT/wEU.TREFHT.05-31.5x18.ssp370-2025-dry.k0p02.s6000/c6_dry_026/c6_dry_028/c6_dry_027/c6_dry_027/c6_dry_027/c6_dry_027/c6_dry_027/c6_dry_027/c6_dry_028/c6_dry_028/c6_dry_029/c6_dry_030/c6_dry_028/c6_dry_028 --precompiled_path GKLT/wEU.TREFHT.05-31.5x18.ssp370-2025-dry.k0p02.s6000/c6_dry_000 --perturbation_seed 6295 --compset BSSP370cmip6 --ndays 5 --perturbation_type PT_direct --perturbation_order_of_magnitude -13 --user_nl_file_directory /home/u/u290372/projects/REA_heat_wEU_JJA/experiment_configuration/user_nl_files\n",
      "python /home/u/u290372/projects/REA_with_CESM2/branch_perturbed.py --dkrz_project_for_archive bb1152 --case_identifier c6_dry_029 --case_path GKLT/wEU.TREFHT.05-31.5x18.ssp370-2025-dry.k0p02.s6000/step14 --parent_path /work/bb1152/u290372/cesm215_archive/GKLT/wEU.TREFHT.05-31.5x18.ssp370-2025-dry.k0p02.s6000/c6_dry_028/c6_dry_030/c6_dry_029/c6_dry_029/c6_dry_029/c6_dry_029/c6_dry_029/c6_dry_029/c6_dry_030/c6_dry_030/c6_dry_031/c6_dry_031/c6_dry_029/c6_dry_029 --precompiled_path GKLT/wEU.TREFHT.05-31.5x18.ssp370-2025-dry.k0p02.s6000/c6_dry_000 --perturbation_seed 6305 --compset BSSP370cmip6 --ndays 5 --perturbation_type PT_direct --perturbation_order_of_magnitude -13 --user_nl_file_directory /home/u/u290372/projects/REA_heat_wEU_JJA/experiment_configuration/user_nl_files\n",
      "python /home/u/u290372/projects/REA_with_CESM2/branch_perturbed.py --dkrz_project_for_archive bb1152 --case_identifier c6_dry_030 --case_path GKLT/wEU.TREFHT.05-31.5x18.ssp370-2025-dry.k0p02.s6000/step14 --parent_path /work/bb1152/u290372/cesm215_archive/GKLT/wEU.TREFHT.05-31.5x18.ssp370-2025-dry.k0p02.s6000/c6_dry_029/c6_dry_031/c6_dry_030/c6_dry_030/c6_dry_030/c6_dry_030/c6_dry_030/c6_dry_030/c6_dry_031/c6_dry_031/c6_dry_032/c6_dry_032/c6_dry_030/c6_dry_031 --precompiled_path GKLT/wEU.TREFHT.05-31.5x18.ssp370-2025-dry.k0p02.s6000/c6_dry_000 --perturbation_seed 6325 --compset BSSP370cmip6 --ndays 5 --perturbation_type PT_direct --perturbation_order_of_magnitude -13 --user_nl_file_directory /home/u/u290372/projects/REA_heat_wEU_JJA/experiment_configuration/user_nl_files\n",
      "python /home/u/u290372/projects/REA_with_CESM2/branch_perturbed.py --dkrz_project_for_archive bb1152 --case_identifier c6_dry_031 --case_path GKLT/wEU.TREFHT.05-31.5x18.ssp370-2025-dry.k0p02.s6000/step14 --parent_path /work/bb1152/u290372/cesm215_archive/GKLT/wEU.TREFHT.05-31.5x18.ssp370-2025-dry.k0p02.s6000/c6_dry_031/c6_dry_032/c6_dry_031/c6_dry_031/c6_dry_031/c6_dry_031/c6_dry_031/c6_dry_031/c6_dry_032/c6_dry_032/c6_dry_033/c6_dry_033/c6_dry_031/c6_dry_032 --precompiled_path GKLT/wEU.TREFHT.05-31.5x18.ssp370-2025-dry.k0p02.s6000/c6_dry_000 --perturbation_seed 6335 --compset BSSP370cmip6 --ndays 5 --perturbation_type PT_direct --perturbation_order_of_magnitude -13 --user_nl_file_directory /home/u/u290372/projects/REA_heat_wEU_JJA/experiment_configuration/user_nl_files\n",
      "python /home/u/u290372/projects/REA_with_CESM2/branch_perturbed.py --dkrz_project_for_archive bb1152 --case_identifier c6_dry_032 --case_path GKLT/wEU.TREFHT.05-31.5x18.ssp370-2025-dry.k0p02.s6000/step14 --parent_path /work/bb1152/u290372/cesm215_archive/GKLT/wEU.TREFHT.05-31.5x18.ssp370-2025-dry.k0p02.s6000/c6_dry_031/c6_dry_032/c6_dry_031/c6_dry_031/c6_dry_031/c6_dry_031/c6_dry_031/c6_dry_031/c6_dry_032/c6_dry_032/c6_dry_033/c6_dry_033/c6_dry_031/c6_dry_032 --precompiled_path GKLT/wEU.TREFHT.05-31.5x18.ssp370-2025-dry.k0p02.s6000/c6_dry_000 --perturbation_seed 6336 --compset BSSP370cmip6 --ndays 5 --perturbation_type PT_direct --perturbation_order_of_magnitude -13 --user_nl_file_directory /home/u/u290372/projects/REA_heat_wEU_JJA/experiment_configuration/user_nl_files\n",
      "python /home/u/u290372/projects/REA_with_CESM2/branch_perturbed.py --dkrz_project_for_archive bb1152 --case_identifier c6_dry_033 --case_path GKLT/wEU.TREFHT.05-31.5x18.ssp370-2025-dry.k0p02.s6000/step14 --parent_path /work/bb1152/u290372/cesm215_archive/GKLT/wEU.TREFHT.05-31.5x18.ssp370-2025-dry.k0p02.s6000/c6_dry_032/c6_dry_033/c6_dry_032/c6_dry_032/c6_dry_032/c6_dry_032/c6_dry_032/c6_dry_032/c6_dry_033/c6_dry_033/c6_dry_034/c6_dry_034/c6_dry_032/c6_dry_033 --precompiled_path GKLT/wEU.TREFHT.05-31.5x18.ssp370-2025-dry.k0p02.s6000/c6_dry_000 --perturbation_seed 6345 --compset BSSP370cmip6 --ndays 5 --perturbation_type PT_direct --perturbation_order_of_magnitude -13 --user_nl_file_directory /home/u/u290372/projects/REA_heat_wEU_JJA/experiment_configuration/user_nl_files\n",
      "python /home/u/u290372/projects/REA_with_CESM2/branch_perturbed.py --dkrz_project_for_archive bb1152 --case_identifier c6_dry_034 --case_path GKLT/wEU.TREFHT.05-31.5x18.ssp370-2025-dry.k0p02.s6000/step14 --parent_path /work/bb1152/u290372/cesm215_archive/GKLT/wEU.TREFHT.05-31.5x18.ssp370-2025-dry.k0p02.s6000/c6_dry_033/c6_dry_034/c6_dry_033/c6_dry_033/c6_dry_033/c6_dry_033/c6_dry_033/c6_dry_033/c6_dry_034/c6_dry_034/c6_dry_035/c6_dry_035/c6_dry_033/c6_dry_034 --precompiled_path GKLT/wEU.TREFHT.05-31.5x18.ssp370-2025-dry.k0p02.s6000/c6_dry_000 --perturbation_seed 6355 --compset BSSP370cmip6 --ndays 5 --perturbation_type PT_direct --perturbation_order_of_magnitude -13 --user_nl_file_directory /home/u/u290372/projects/REA_heat_wEU_JJA/experiment_configuration/user_nl_files\n",
      "python /home/u/u290372/projects/REA_with_CESM2/branch_perturbed.py --dkrz_project_for_archive bb1152 --case_identifier c6_dry_035 --case_path GKLT/wEU.TREFHT.05-31.5x18.ssp370-2025-dry.k0p02.s6000/step14 --parent_path /work/bb1152/u290372/cesm215_archive/GKLT/wEU.TREFHT.05-31.5x18.ssp370-2025-dry.k0p02.s6000/c6_dry_035/c6_dry_036/c6_dry_035/c6_dry_035/c6_dry_035/c6_dry_035/c6_dry_035/c6_dry_035/c6_dry_036/c6_dry_035/c6_dry_036/c6_dry_036/c6_dry_034/c6_dry_035 --precompiled_path GKLT/wEU.TREFHT.05-31.5x18.ssp370-2025-dry.k0p02.s6000/c6_dry_000 --perturbation_seed 6365 --compset BSSP370cmip6 --ndays 5 --perturbation_type PT_direct --perturbation_order_of_magnitude -13 --user_nl_file_directory /home/u/u290372/projects/REA_heat_wEU_JJA/experiment_configuration/user_nl_files\n",
      "python /home/u/u290372/projects/REA_with_CESM2/branch_perturbed.py --dkrz_project_for_archive bb1152 --case_identifier c6_dry_036 --case_path GKLT/wEU.TREFHT.05-31.5x18.ssp370-2025-dry.k0p02.s6000/step14 --parent_path /work/bb1152/u290372/cesm215_archive/GKLT/wEU.TREFHT.05-31.5x18.ssp370-2025-dry.k0p02.s6000/c6_dry_035/c6_dry_036/c6_dry_035/c6_dry_036/c6_dry_036/c6_dry_036/c6_dry_036/c6_dry_036/c6_dry_037/c6_dry_036/c6_dry_037/c6_dry_037/c6_dry_035/c6_dry_036 --precompiled_path GKLT/wEU.TREFHT.05-31.5x18.ssp370-2025-dry.k0p02.s6000/c6_dry_000 --perturbation_seed 6375 --compset BSSP370cmip6 --ndays 5 --perturbation_type PT_direct --perturbation_order_of_magnitude -13 --user_nl_file_directory /home/u/u290372/projects/REA_heat_wEU_JJA/experiment_configuration/user_nl_files\n",
      "python /home/u/u290372/projects/REA_with_CESM2/branch_perturbed.py --dkrz_project_for_archive bb1152 --case_identifier c6_dry_037 --case_path GKLT/wEU.TREFHT.05-31.5x18.ssp370-2025-dry.k0p02.s6000/step14 --parent_path /work/bb1152/u290372/cesm215_archive/GKLT/wEU.TREFHT.05-31.5x18.ssp370-2025-dry.k0p02.s6000/c6_dry_035/c6_dry_036/c6_dry_035/c6_dry_036/c6_dry_036/c6_dry_036/c6_dry_036/c6_dry_036/c6_dry_037/c6_dry_036/c6_dry_038/c6_dry_038/c6_dry_036/c6_dry_037 --precompiled_path GKLT/wEU.TREFHT.05-31.5x18.ssp370-2025-dry.k0p02.s6000/c6_dry_000 --perturbation_seed 6385 --compset BSSP370cmip6 --ndays 5 --perturbation_type PT_direct --perturbation_order_of_magnitude -13 --user_nl_file_directory /home/u/u290372/projects/REA_heat_wEU_JJA/experiment_configuration/user_nl_files\n",
      "python /home/u/u290372/projects/REA_with_CESM2/branch_perturbed.py --dkrz_project_for_archive bb1152 --case_identifier c6_dry_038 --case_path GKLT/wEU.TREFHT.05-31.5x18.ssp370-2025-dry.k0p02.s6000/step14 --parent_path /work/bb1152/u290372/cesm215_archive/GKLT/wEU.TREFHT.05-31.5x18.ssp370-2025-dry.k0p02.s6000/c6_dry_035/c6_dry_036/c6_dry_035/c6_dry_036/c6_dry_037/c6_dry_037/c6_dry_037/c6_dry_037/c6_dry_038/c6_dry_037/c6_dry_039/c6_dry_039/c6_dry_038/c6_dry_039 --precompiled_path GKLT/wEU.TREFHT.05-31.5x18.ssp370-2025-dry.k0p02.s6000/c6_dry_000 --perturbation_seed 6405 --compset BSSP370cmip6 --ndays 5 --perturbation_type PT_direct --perturbation_order_of_magnitude -13 --user_nl_file_directory /home/u/u290372/projects/REA_heat_wEU_JJA/experiment_configuration/user_nl_files\n",
      "python /home/u/u290372/projects/REA_with_CESM2/branch_perturbed.py --dkrz_project_for_archive bb1152 --case_identifier c6_dry_039 --case_path GKLT/wEU.TREFHT.05-31.5x18.ssp370-2025-dry.k0p02.s6000/step14 --parent_path /work/bb1152/u290372/cesm215_archive/GKLT/wEU.TREFHT.05-31.5x18.ssp370-2025-dry.k0p02.s6000/c6_dry_036/c6_dry_037/c6_dry_036/c6_dry_037/c6_dry_038/c6_dry_038/c6_dry_038/c6_dry_038/c6_dry_039/c6_dry_038/c6_dry_040/c6_dry_040/c6_dry_039/c6_dry_040 --precompiled_path GKLT/wEU.TREFHT.05-31.5x18.ssp370-2025-dry.k0p02.s6000/c6_dry_000 --perturbation_seed 6415 --compset BSSP370cmip6 --ndays 5 --perturbation_type PT_direct --perturbation_order_of_magnitude -13 --user_nl_file_directory /home/u/u290372/projects/REA_heat_wEU_JJA/experiment_configuration/user_nl_files\n",
      "python /home/u/u290372/projects/REA_with_CESM2/branch_perturbed.py --dkrz_project_for_archive bb1152 --case_identifier c6_dry_040 --case_path GKLT/wEU.TREFHT.05-31.5x18.ssp370-2025-dry.k0p02.s6000/step14 --parent_path /work/bb1152/u290372/cesm215_archive/GKLT/wEU.TREFHT.05-31.5x18.ssp370-2025-dry.k0p02.s6000/c6_dry_037/c6_dry_038/c6_dry_037/c6_dry_038/c6_dry_039/c6_dry_039/c6_dry_039/c6_dry_039/c6_dry_040/c6_dry_039/c6_dry_041/c6_dry_041/c6_dry_040/c6_dry_041 --precompiled_path GKLT/wEU.TREFHT.05-31.5x18.ssp370-2025-dry.k0p02.s6000/c6_dry_000 --perturbation_seed 6425 --compset BSSP370cmip6 --ndays 5 --perturbation_type PT_direct --perturbation_order_of_magnitude -13 --user_nl_file_directory /home/u/u290372/projects/REA_heat_wEU_JJA/experiment_configuration/user_nl_files\n",
      "python /home/u/u290372/projects/REA_with_CESM2/branch_perturbed.py --dkrz_project_for_archive bb1152 --case_identifier c6_dry_041 --case_path GKLT/wEU.TREFHT.05-31.5x18.ssp370-2025-dry.k0p02.s6000/step14 --parent_path /work/bb1152/u290372/cesm215_archive/GKLT/wEU.TREFHT.05-31.5x18.ssp370-2025-dry.k0p02.s6000/c6_dry_037/c6_dry_038/c6_dry_037/c6_dry_038/c6_dry_039/c6_dry_039/c6_dry_040/c6_dry_040/c6_dry_041/c6_dry_040/c6_dry_042/c6_dry_042/c6_dry_041/c6_dry_042 --precompiled_path GKLT/wEU.TREFHT.05-31.5x18.ssp370-2025-dry.k0p02.s6000/c6_dry_000 --perturbation_seed 6435 --compset BSSP370cmip6 --ndays 5 --perturbation_type PT_direct --perturbation_order_of_magnitude -13 --user_nl_file_directory /home/u/u290372/projects/REA_heat_wEU_JJA/experiment_configuration/user_nl_files\n",
      "python /home/u/u290372/projects/REA_with_CESM2/branch_perturbed.py --dkrz_project_for_archive bb1152 --case_identifier c6_dry_042 --case_path GKLT/wEU.TREFHT.05-31.5x18.ssp370-2025-dry.k0p02.s6000/step14 --parent_path /work/bb1152/u290372/cesm215_archive/GKLT/wEU.TREFHT.05-31.5x18.ssp370-2025-dry.k0p02.s6000/c6_dry_038/c6_dry_039/c6_dry_038/c6_dry_039/c6_dry_040/c6_dry_040/c6_dry_041/c6_dry_041/c6_dry_042/c6_dry_041/c6_dry_043/c6_dry_043/c6_dry_042/c6_dry_043 --precompiled_path GKLT/wEU.TREFHT.05-31.5x18.ssp370-2025-dry.k0p02.s6000/c6_dry_000 --perturbation_seed 6445 --compset BSSP370cmip6 --ndays 5 --perturbation_type PT_direct --perturbation_order_of_magnitude -13 --user_nl_file_directory /home/u/u290372/projects/REA_heat_wEU_JJA/experiment_configuration/user_nl_files\n",
      "python /home/u/u290372/projects/REA_with_CESM2/branch_perturbed.py --dkrz_project_for_archive bb1152 --case_identifier c6_dry_043 --case_path GKLT/wEU.TREFHT.05-31.5x18.ssp370-2025-dry.k0p02.s6000/step14 --parent_path /work/bb1152/u290372/cesm215_archive/GKLT/wEU.TREFHT.05-31.5x18.ssp370-2025-dry.k0p02.s6000/c6_dry_038/c6_dry_039/c6_dry_038/c6_dry_039/c6_dry_040/c6_dry_040/c6_dry_041/c6_dry_041/c6_dry_042/c6_dry_041/c6_dry_043/c6_dry_043/c6_dry_043/c6_dry_044 --precompiled_path GKLT/wEU.TREFHT.05-31.5x18.ssp370-2025-dry.k0p02.s6000/c6_dry_000 --perturbation_seed 6455 --compset BSSP370cmip6 --ndays 5 --perturbation_type PT_direct --perturbation_order_of_magnitude -13 --user_nl_file_directory /home/u/u290372/projects/REA_heat_wEU_JJA/experiment_configuration/user_nl_files\n",
      "python /home/u/u290372/projects/REA_with_CESM2/branch_perturbed.py --dkrz_project_for_archive bb1152 --case_identifier c6_dry_044 --case_path GKLT/wEU.TREFHT.05-31.5x18.ssp370-2025-dry.k0p02.s6000/step14 --parent_path /work/bb1152/u290372/cesm215_archive/GKLT/wEU.TREFHT.05-31.5x18.ssp370-2025-dry.k0p02.s6000/c6_dry_039/c6_dry_040/c6_dry_039/c6_dry_040/c6_dry_041/c6_dry_041/c6_dry_042/c6_dry_042/c6_dry_043/c6_dry_042/c6_dry_044/c6_dry_044/c6_dry_044/c6_dry_045 --precompiled_path GKLT/wEU.TREFHT.05-31.5x18.ssp370-2025-dry.k0p02.s6000/c6_dry_000 --perturbation_seed 6465 --compset BSSP370cmip6 --ndays 5 --perturbation_type PT_direct --perturbation_order_of_magnitude -13 --user_nl_file_directory /home/u/u290372/projects/REA_heat_wEU_JJA/experiment_configuration/user_nl_files\n",
      "python /home/u/u290372/projects/REA_with_CESM2/branch_perturbed.py --dkrz_project_for_archive bb1152 --case_identifier c6_dry_045 --case_path GKLT/wEU.TREFHT.05-31.5x18.ssp370-2025-dry.k0p02.s6000/step14 --parent_path /work/bb1152/u290372/cesm215_archive/GKLT/wEU.TREFHT.05-31.5x18.ssp370-2025-dry.k0p02.s6000/c6_dry_039/c6_dry_040/c6_dry_039/c6_dry_041/c6_dry_042/c6_dry_042/c6_dry_043/c6_dry_043/c6_dry_044/c6_dry_043/c6_dry_045/c6_dry_045/c6_dry_045/c6_dry_046 --precompiled_path GKLT/wEU.TREFHT.05-31.5x18.ssp370-2025-dry.k0p02.s6000/c6_dry_000 --perturbation_seed 6475 --compset BSSP370cmip6 --ndays 5 --perturbation_type PT_direct --perturbation_order_of_magnitude -13 --user_nl_file_directory /home/u/u290372/projects/REA_heat_wEU_JJA/experiment_configuration/user_nl_files\n",
      "python /home/u/u290372/projects/REA_with_CESM2/branch_perturbed.py --dkrz_project_for_archive bb1152 --case_identifier c6_dry_046 --case_path GKLT/wEU.TREFHT.05-31.5x18.ssp370-2025-dry.k0p02.s6000/step14 --parent_path /work/bb1152/u290372/cesm215_archive/GKLT/wEU.TREFHT.05-31.5x18.ssp370-2025-dry.k0p02.s6000/c6_dry_041/c6_dry_042/c6_dry_041/c6_dry_043/c6_dry_044/c6_dry_044/c6_dry_045/c6_dry_045/c6_dry_046/c6_dry_045/c6_dry_047/c6_dry_047/c6_dry_047/c6_dry_048 --precompiled_path GKLT/wEU.TREFHT.05-31.5x18.ssp370-2025-dry.k0p02.s6000/c6_dry_000 --perturbation_seed 6495 --compset BSSP370cmip6 --ndays 5 --perturbation_type PT_direct --perturbation_order_of_magnitude -13 --user_nl_file_directory /home/u/u290372/projects/REA_heat_wEU_JJA/experiment_configuration/user_nl_files\n",
      "python /home/u/u290372/projects/REA_with_CESM2/branch_perturbed.py --dkrz_project_for_archive bb1152 --case_identifier c6_dry_047 --case_path GKLT/wEU.TREFHT.05-31.5x18.ssp370-2025-dry.k0p02.s6000/step14 --parent_path /work/bb1152/u290372/cesm215_archive/GKLT/wEU.TREFHT.05-31.5x18.ssp370-2025-dry.k0p02.s6000/c6_dry_042/c6_dry_043/c6_dry_042/c6_dry_044/c6_dry_045/c6_dry_045/c6_dry_046/c6_dry_046/c6_dry_047/c6_dry_046/c6_dry_048/c6_dry_048/c6_dry_048/c6_dry_049 --precompiled_path GKLT/wEU.TREFHT.05-31.5x18.ssp370-2025-dry.k0p02.s6000/c6_dry_000 --perturbation_seed 6505 --compset BSSP370cmip6 --ndays 5 --perturbation_type PT_direct --perturbation_order_of_magnitude -13 --user_nl_file_directory /home/u/u290372/projects/REA_heat_wEU_JJA/experiment_configuration/user_nl_files\n",
      "python /home/u/u290372/projects/REA_with_CESM2/branch_perturbed.py --dkrz_project_for_archive bb1152 --case_identifier c6_dry_048 --case_path GKLT/wEU.TREFHT.05-31.5x18.ssp370-2025-dry.k0p02.s6000/step14 --parent_path /work/bb1152/u290372/cesm215_archive/GKLT/wEU.TREFHT.05-31.5x18.ssp370-2025-dry.k0p02.s6000/c6_dry_043/c6_dry_044/c6_dry_043/c6_dry_045/c6_dry_046/c6_dry_046/c6_dry_047/c6_dry_047/c6_dry_048/c6_dry_047/c6_dry_049/c6_dry_049/c6_dry_049/c6_dry_050 --precompiled_path GKLT/wEU.TREFHT.05-31.5x18.ssp370-2025-dry.k0p02.s6000/c6_dry_000 --perturbation_seed 6515 --compset BSSP370cmip6 --ndays 5 --perturbation_type PT_direct --perturbation_order_of_magnitude -13 --user_nl_file_directory /home/u/u290372/projects/REA_heat_wEU_JJA/experiment_configuration/user_nl_files\n",
      "python /home/u/u290372/projects/REA_with_CESM2/branch_perturbed.py --dkrz_project_for_archive bb1152 --case_identifier c6_dry_049 --case_path GKLT/wEU.TREFHT.05-31.5x18.ssp370-2025-dry.k0p02.s6000/step14 --parent_path /work/bb1152/u290372/cesm215_archive/GKLT/wEU.TREFHT.05-31.5x18.ssp370-2025-dry.k0p02.s6000/c6_dry_044/c6_dry_045/c6_dry_044/c6_dry_046/c6_dry_047/c6_dry_048/c6_dry_049/c6_dry_049/c6_dry_050/c6_dry_049/c6_dry_050/c6_dry_050/c6_dry_050/c6_dry_051 --precompiled_path GKLT/wEU.TREFHT.05-31.5x18.ssp370-2025-dry.k0p02.s6000/c6_dry_000 --perturbation_seed 6525 --compset BSSP370cmip6 --ndays 5 --perturbation_type PT_direct --perturbation_order_of_magnitude -13 --user_nl_file_directory /home/u/u290372/projects/REA_heat_wEU_JJA/experiment_configuration/user_nl_files\n",
      "python /home/u/u290372/projects/REA_with_CESM2/branch_perturbed.py --dkrz_project_for_archive bb1152 --case_identifier c6_dry_050 --case_path GKLT/wEU.TREFHT.05-31.5x18.ssp370-2025-dry.k0p02.s6000/step14 --parent_path /work/bb1152/u290372/cesm215_archive/GKLT/wEU.TREFHT.05-31.5x18.ssp370-2025-dry.k0p02.s6000/c6_dry_046/c6_dry_047/c6_dry_046/c6_dry_048/c6_dry_049/c6_dry_050/c6_dry_050/c6_dry_050/c6_dry_051/c6_dry_050/c6_dry_051/c6_dry_051/c6_dry_051/c6_dry_052 --precompiled_path GKLT/wEU.TREFHT.05-31.5x18.ssp370-2025-dry.k0p02.s6000/c6_dry_000 --perturbation_seed 6535 --compset BSSP370cmip6 --ndays 5 --perturbation_type PT_direct --perturbation_order_of_magnitude -13 --user_nl_file_directory /home/u/u290372/projects/REA_heat_wEU_JJA/experiment_configuration/user_nl_files\n",
      "python /home/u/u290372/projects/REA_with_CESM2/branch_perturbed.py --dkrz_project_for_archive bb1152 --case_identifier c6_dry_051 --case_path GKLT/wEU.TREFHT.05-31.5x18.ssp370-2025-dry.k0p02.s6000/step14 --parent_path /work/bb1152/u290372/cesm215_archive/GKLT/wEU.TREFHT.05-31.5x18.ssp370-2025-dry.k0p02.s6000/c6_dry_048/c6_dry_049/c6_dry_048/c6_dry_050/c6_dry_051/c6_dry_052/c6_dry_052/c6_dry_052/c6_dry_053/c6_dry_052/c6_dry_053/c6_dry_053/c6_dry_053/c6_dry_053 --precompiled_path GKLT/wEU.TREFHT.05-31.5x18.ssp370-2025-dry.k0p02.s6000/c6_dry_000 --perturbation_seed 6545 --compset BSSP370cmip6 --ndays 5 --perturbation_type PT_direct --perturbation_order_of_magnitude -13 --user_nl_file_directory /home/u/u290372/projects/REA_heat_wEU_JJA/experiment_configuration/user_nl_files\n",
      "python /home/u/u290372/projects/REA_with_CESM2/branch_perturbed.py --dkrz_project_for_archive bb1152 --case_identifier c6_dry_052 --case_path GKLT/wEU.TREFHT.05-31.5x18.ssp370-2025-dry.k0p02.s6000/step14 --parent_path /work/bb1152/u290372/cesm215_archive/GKLT/wEU.TREFHT.05-31.5x18.ssp370-2025-dry.k0p02.s6000/c6_dry_050/c6_dry_050/c6_dry_049/c6_dry_051/c6_dry_052/c6_dry_053/c6_dry_053/c6_dry_053/c6_dry_054/c6_dry_053/c6_dry_054/c6_dry_054/c6_dry_054/c6_dry_054 --precompiled_path GKLT/wEU.TREFHT.05-31.5x18.ssp370-2025-dry.k0p02.s6000/c6_dry_000 --perturbation_seed 6555 --compset BSSP370cmip6 --ndays 5 --perturbation_type PT_direct --perturbation_order_of_magnitude -13 --user_nl_file_directory /home/u/u290372/projects/REA_heat_wEU_JJA/experiment_configuration/user_nl_files\n",
      "python /home/u/u290372/projects/REA_with_CESM2/branch_perturbed.py --dkrz_project_for_archive bb1152 --case_identifier c6_dry_053 --case_path GKLT/wEU.TREFHT.05-31.5x18.ssp370-2025-dry.k0p02.s6000/step14 --parent_path /work/bb1152/u290372/cesm215_archive/GKLT/wEU.TREFHT.05-31.5x18.ssp370-2025-dry.k0p02.s6000/c6_dry_051/c6_dry_051/c6_dry_050/c6_dry_052/c6_dry_053/c6_dry_054/c6_dry_054/c6_dry_054/c6_dry_055/c6_dry_054/c6_dry_055/c6_dry_055/c6_dry_055/c6_dry_055 --precompiled_path GKLT/wEU.TREFHT.05-31.5x18.ssp370-2025-dry.k0p02.s6000/c6_dry_000 --perturbation_seed 6565 --compset BSSP370cmip6 --ndays 5 --perturbation_type PT_direct --perturbation_order_of_magnitude -13 --user_nl_file_directory /home/u/u290372/projects/REA_heat_wEU_JJA/experiment_configuration/user_nl_files\n",
      "python /home/u/u290372/projects/REA_with_CESM2/branch_perturbed.py --dkrz_project_for_archive bb1152 --case_identifier c6_dry_054 --case_path GKLT/wEU.TREFHT.05-31.5x18.ssp370-2025-dry.k0p02.s6000/step14 --parent_path /work/bb1152/u290372/cesm215_archive/GKLT/wEU.TREFHT.05-31.5x18.ssp370-2025-dry.k0p02.s6000/c6_dry_051/c6_dry_051/c6_dry_050/c6_dry_052/c6_dry_053/c6_dry_054/c6_dry_054/c6_dry_054/c6_dry_055/c6_dry_054/c6_dry_055/c6_dry_055/c6_dry_055/c6_dry_055 --precompiled_path GKLT/wEU.TREFHT.05-31.5x18.ssp370-2025-dry.k0p02.s6000/c6_dry_000 --perturbation_seed 6566 --compset BSSP370cmip6 --ndays 5 --perturbation_type PT_direct --perturbation_order_of_magnitude -13 --user_nl_file_directory /home/u/u290372/projects/REA_heat_wEU_JJA/experiment_configuration/user_nl_files\n",
      "python /home/u/u290372/projects/REA_with_CESM2/branch_perturbed.py --dkrz_project_for_archive bb1152 --case_identifier c6_dry_055 --case_path GKLT/wEU.TREFHT.05-31.5x18.ssp370-2025-dry.k0p02.s6000/step14 --parent_path /work/bb1152/u290372/cesm215_archive/GKLT/wEU.TREFHT.05-31.5x18.ssp370-2025-dry.k0p02.s6000/c6_dry_052/c6_dry_052/c6_dry_051/c6_dry_053/c6_dry_054/c6_dry_055/c6_dry_055/c6_dry_055/c6_dry_056/c6_dry_055/c6_dry_056/c6_dry_056/c6_dry_056/c6_dry_056 --precompiled_path GKLT/wEU.TREFHT.05-31.5x18.ssp370-2025-dry.k0p02.s6000/c6_dry_000 --perturbation_seed 6575 --compset BSSP370cmip6 --ndays 5 --perturbation_type PT_direct --perturbation_order_of_magnitude -13 --user_nl_file_directory /home/u/u290372/projects/REA_heat_wEU_JJA/experiment_configuration/user_nl_files\n",
      "python /home/u/u290372/projects/REA_with_CESM2/branch_perturbed.py --dkrz_project_for_archive bb1152 --case_identifier c6_dry_056 --case_path GKLT/wEU.TREFHT.05-31.5x18.ssp370-2025-dry.k0p02.s6000/step14 --parent_path /work/bb1152/u290372/cesm215_archive/GKLT/wEU.TREFHT.05-31.5x18.ssp370-2025-dry.k0p02.s6000/c6_dry_053/c6_dry_053/c6_dry_052/c6_dry_054/c6_dry_055/c6_dry_056/c6_dry_056/c6_dry_056/c6_dry_057/c6_dry_056/c6_dry_057/c6_dry_057/c6_dry_057/c6_dry_057 --precompiled_path GKLT/wEU.TREFHT.05-31.5x18.ssp370-2025-dry.k0p02.s6000/c6_dry_000 --perturbation_seed 6585 --compset BSSP370cmip6 --ndays 5 --perturbation_type PT_direct --perturbation_order_of_magnitude -13 --user_nl_file_directory /home/u/u290372/projects/REA_heat_wEU_JJA/experiment_configuration/user_nl_files\n",
      "python /home/u/u290372/projects/REA_with_CESM2/branch_perturbed.py --dkrz_project_for_archive bb1152 --case_identifier c6_dry_057 --case_path GKLT/wEU.TREFHT.05-31.5x18.ssp370-2025-dry.k0p02.s6000/step14 --parent_path /work/bb1152/u290372/cesm215_archive/GKLT/wEU.TREFHT.05-31.5x18.ssp370-2025-dry.k0p02.s6000/c6_dry_055/c6_dry_055/c6_dry_054/c6_dry_055/c6_dry_056/c6_dry_057/c6_dry_057/c6_dry_057/c6_dry_058/c6_dry_057/c6_dry_058/c6_dry_058/c6_dry_058/c6_dry_058 --precompiled_path GKLT/wEU.TREFHT.05-31.5x18.ssp370-2025-dry.k0p02.s6000/c6_dry_000 --perturbation_seed 6595 --compset BSSP370cmip6 --ndays 5 --perturbation_type PT_direct --perturbation_order_of_magnitude -13 --user_nl_file_directory /home/u/u290372/projects/REA_heat_wEU_JJA/experiment_configuration/user_nl_files\n",
      "python /home/u/u290372/projects/REA_with_CESM2/branch_perturbed.py --dkrz_project_for_archive bb1152 --case_identifier c6_dry_058 --case_path GKLT/wEU.TREFHT.05-31.5x18.ssp370-2025-dry.k0p02.s6000/step14 --parent_path /work/bb1152/u290372/cesm215_archive/GKLT/wEU.TREFHT.05-31.5x18.ssp370-2025-dry.k0p02.s6000/c6_dry_055/c6_dry_055/c6_dry_054/c6_dry_055/c6_dry_056/c6_dry_057/c6_dry_057/c6_dry_057/c6_dry_058/c6_dry_057/c6_dry_058/c6_dry_058/c6_dry_059/c6_dry_059 --precompiled_path GKLT/wEU.TREFHT.05-31.5x18.ssp370-2025-dry.k0p02.s6000/c6_dry_000 --perturbation_seed 6605 --compset BSSP370cmip6 --ndays 5 --perturbation_type PT_direct --perturbation_order_of_magnitude -13 --user_nl_file_directory /home/u/u290372/projects/REA_heat_wEU_JJA/experiment_configuration/user_nl_files\n",
      "python /home/u/u290372/projects/REA_with_CESM2/branch_perturbed.py --dkrz_project_for_archive bb1152 --case_identifier c6_dry_059 --case_path GKLT/wEU.TREFHT.05-31.5x18.ssp370-2025-dry.k0p02.s6000/step14 --parent_path /work/bb1152/u290372/cesm215_archive/GKLT/wEU.TREFHT.05-31.5x18.ssp370-2025-dry.k0p02.s6000/c6_dry_055/c6_dry_055/c6_dry_054/c6_dry_055/c6_dry_056/c6_dry_057/c6_dry_057/c6_dry_058/c6_dry_059/c6_dry_058/c6_dry_059/c6_dry_059/c6_dry_060/c6_dry_060 --precompiled_path GKLT/wEU.TREFHT.05-31.5x18.ssp370-2025-dry.k0p02.s6000/c6_dry_000 --perturbation_seed 6615 --compset BSSP370cmip6 --ndays 5 --perturbation_type PT_direct --perturbation_order_of_magnitude -13 --user_nl_file_directory /home/u/u290372/projects/REA_heat_wEU_JJA/experiment_configuration/user_nl_files\n",
      "python /home/u/u290372/projects/REA_with_CESM2/branch_perturbed.py --dkrz_project_for_archive bb1152 --case_identifier c6_dry_060 --case_path GKLT/wEU.TREFHT.05-31.5x18.ssp370-2025-dry.k0p02.s6000/step14 --parent_path /work/bb1152/u290372/cesm215_archive/GKLT/wEU.TREFHT.05-31.5x18.ssp370-2025-dry.k0p02.s6000/c6_dry_055/c6_dry_055/c6_dry_054/c6_dry_055/c6_dry_056/c6_dry_057/c6_dry_057/c6_dry_058/c6_dry_059/c6_dry_058/c6_dry_059/c6_dry_059/c6_dry_060/c6_dry_061 --precompiled_path GKLT/wEU.TREFHT.05-31.5x18.ssp370-2025-dry.k0p02.s6000/c6_dry_000 --perturbation_seed 6625 --compset BSSP370cmip6 --ndays 5 --perturbation_type PT_direct --perturbation_order_of_magnitude -13 --user_nl_file_directory /home/u/u290372/projects/REA_heat_wEU_JJA/experiment_configuration/user_nl_files\n",
      "python /home/u/u290372/projects/REA_with_CESM2/branch_perturbed.py --dkrz_project_for_archive bb1152 --case_identifier c6_dry_061 --case_path GKLT/wEU.TREFHT.05-31.5x18.ssp370-2025-dry.k0p02.s6000/step14 --parent_path /work/bb1152/u290372/cesm215_archive/GKLT/wEU.TREFHT.05-31.5x18.ssp370-2025-dry.k0p02.s6000/c6_dry_055/c6_dry_055/c6_dry_054/c6_dry_055/c6_dry_056/c6_dry_057/c6_dry_057/c6_dry_058/c6_dry_059/c6_dry_059/c6_dry_060/c6_dry_060/c6_dry_061/c6_dry_062 --precompiled_path GKLT/wEU.TREFHT.05-31.5x18.ssp370-2025-dry.k0p02.s6000/c6_dry_000 --perturbation_seed 6635 --compset BSSP370cmip6 --ndays 5 --perturbation_type PT_direct --perturbation_order_of_magnitude -13 --user_nl_file_directory /home/u/u290372/projects/REA_heat_wEU_JJA/experiment_configuration/user_nl_files\n",
      "python /home/u/u290372/projects/REA_with_CESM2/branch_perturbed.py --dkrz_project_for_archive bb1152 --case_identifier c6_dry_062 --case_path GKLT/wEU.TREFHT.05-31.5x18.ssp370-2025-dry.k0p02.s6000/step14 --parent_path /work/bb1152/u290372/cesm215_archive/GKLT/wEU.TREFHT.05-31.5x18.ssp370-2025-dry.k0p02.s6000/c6_dry_056/c6_dry_056/c6_dry_055/c6_dry_056/c6_dry_057/c6_dry_058/c6_dry_058/c6_dry_059/c6_dry_060/c6_dry_060/c6_dry_061/c6_dry_061/c6_dry_062/c6_dry_063 --precompiled_path GKLT/wEU.TREFHT.05-31.5x18.ssp370-2025-dry.k0p02.s6000/c6_dry_000 --perturbation_seed 6645 --compset BSSP370cmip6 --ndays 5 --perturbation_type PT_direct --perturbation_order_of_magnitude -13 --user_nl_file_directory /home/u/u290372/projects/REA_heat_wEU_JJA/experiment_configuration/user_nl_files\n",
      "python /home/u/u290372/projects/REA_with_CESM2/branch_perturbed.py --dkrz_project_for_archive bb1152 --case_identifier c6_dry_063 --case_path GKLT/wEU.TREFHT.05-31.5x18.ssp370-2025-dry.k0p02.s6000/step14 --parent_path /work/bb1152/u290372/cesm215_archive/GKLT/wEU.TREFHT.05-31.5x18.ssp370-2025-dry.k0p02.s6000/c6_dry_057/c6_dry_057/c6_dry_056/c6_dry_057/c6_dry_058/c6_dry_059/c6_dry_059/c6_dry_060/c6_dry_061/c6_dry_061/c6_dry_062/c6_dry_062/c6_dry_063/c6_dry_064 --precompiled_path GKLT/wEU.TREFHT.05-31.5x18.ssp370-2025-dry.k0p02.s6000/c6_dry_000 --perturbation_seed 6655 --compset BSSP370cmip6 --ndays 5 --perturbation_type PT_direct --perturbation_order_of_magnitude -13 --user_nl_file_directory /home/u/u290372/projects/REA_heat_wEU_JJA/experiment_configuration/user_nl_files\n",
      "python /home/u/u290372/projects/REA_with_CESM2/branch_perturbed.py --dkrz_project_for_archive bb1152 --case_identifier c6_dry_064 --case_path GKLT/wEU.TREFHT.05-31.5x18.ssp370-2025-dry.k0p02.s6000/step14 --parent_path /work/bb1152/u290372/cesm215_archive/GKLT/wEU.TREFHT.05-31.5x18.ssp370-2025-dry.k0p02.s6000/c6_dry_058/c6_dry_058/c6_dry_057/c6_dry_058/c6_dry_059/c6_dry_060/c6_dry_060/c6_dry_061/c6_dry_062/c6_dry_062/c6_dry_063/c6_dry_063/c6_dry_064/c6_dry_065 --precompiled_path GKLT/wEU.TREFHT.05-31.5x18.ssp370-2025-dry.k0p02.s6000/c6_dry_000 --perturbation_seed 6665 --compset BSSP370cmip6 --ndays 5 --perturbation_type PT_direct --perturbation_order_of_magnitude -13 --user_nl_file_directory /home/u/u290372/projects/REA_heat_wEU_JJA/experiment_configuration/user_nl_files\n",
      "python /home/u/u290372/projects/REA_with_CESM2/branch_perturbed.py --dkrz_project_for_archive bb1152 --case_identifier c6_dry_065 --case_path GKLT/wEU.TREFHT.05-31.5x18.ssp370-2025-dry.k0p02.s6000/step14 --parent_path /work/bb1152/u290372/cesm215_archive/GKLT/wEU.TREFHT.05-31.5x18.ssp370-2025-dry.k0p02.s6000/c6_dry_059/c6_dry_059/c6_dry_058/c6_dry_059/c6_dry_060/c6_dry_061/c6_dry_061/c6_dry_062/c6_dry_063/c6_dry_063/c6_dry_064/c6_dry_064/c6_dry_065/c6_dry_066 --precompiled_path GKLT/wEU.TREFHT.05-31.5x18.ssp370-2025-dry.k0p02.s6000/c6_dry_000 --perturbation_seed 6675 --compset BSSP370cmip6 --ndays 5 --perturbation_type PT_direct --perturbation_order_of_magnitude -13 --user_nl_file_directory /home/u/u290372/projects/REA_heat_wEU_JJA/experiment_configuration/user_nl_files\n",
      "python /home/u/u290372/projects/REA_with_CESM2/branch_perturbed.py --dkrz_project_for_archive bb1152 --case_identifier c6_dry_066 --case_path GKLT/wEU.TREFHT.05-31.5x18.ssp370-2025-dry.k0p02.s6000/step14 --parent_path /work/bb1152/u290372/cesm215_archive/GKLT/wEU.TREFHT.05-31.5x18.ssp370-2025-dry.k0p02.s6000/c6_dry_061/c6_dry_061/c6_dry_060/c6_dry_061/c6_dry_062/c6_dry_063/c6_dry_063/c6_dry_064/c6_dry_065/c6_dry_065/c6_dry_065/c6_dry_065/c6_dry_066/c6_dry_067 --precompiled_path GKLT/wEU.TREFHT.05-31.5x18.ssp370-2025-dry.k0p02.s6000/c6_dry_000 --perturbation_seed 6685 --compset BSSP370cmip6 --ndays 5 --perturbation_type PT_direct --perturbation_order_of_magnitude -13 --user_nl_file_directory /home/u/u290372/projects/REA_heat_wEU_JJA/experiment_configuration/user_nl_files\n",
      "python /home/u/u290372/projects/REA_with_CESM2/branch_perturbed.py --dkrz_project_for_archive bb1152 --case_identifier c6_dry_067 --case_path GKLT/wEU.TREFHT.05-31.5x18.ssp370-2025-dry.k0p02.s6000/step14 --parent_path /work/bb1152/u290372/cesm215_archive/GKLT/wEU.TREFHT.05-31.5x18.ssp370-2025-dry.k0p02.s6000/c6_dry_062/c6_dry_062/c6_dry_061/c6_dry_062/c6_dry_063/c6_dry_064/c6_dry_064/c6_dry_065/c6_dry_066/c6_dry_066/c6_dry_066/c6_dry_066/c6_dry_067/c6_dry_068 --precompiled_path GKLT/wEU.TREFHT.05-31.5x18.ssp370-2025-dry.k0p02.s6000/c6_dry_000 --perturbation_seed 6695 --compset BSSP370cmip6 --ndays 5 --perturbation_type PT_direct --perturbation_order_of_magnitude -13 --user_nl_file_directory /home/u/u290372/projects/REA_heat_wEU_JJA/experiment_configuration/user_nl_files\n",
      "python /home/u/u290372/projects/REA_with_CESM2/branch_perturbed.py --dkrz_project_for_archive bb1152 --case_identifier c6_dry_068 --case_path GKLT/wEU.TREFHT.05-31.5x18.ssp370-2025-dry.k0p02.s6000/step14 --parent_path /work/bb1152/u290372/cesm215_archive/GKLT/wEU.TREFHT.05-31.5x18.ssp370-2025-dry.k0p02.s6000/c6_dry_063/c6_dry_063/c6_dry_062/c6_dry_063/c6_dry_064/c6_dry_065/c6_dry_065/c6_dry_066/c6_dry_067/c6_dry_067/c6_dry_067/c6_dry_067/c6_dry_068/c6_dry_069 --precompiled_path GKLT/wEU.TREFHT.05-31.5x18.ssp370-2025-dry.k0p02.s6000/c6_dry_000 --perturbation_seed 6705 --compset BSSP370cmip6 --ndays 5 --perturbation_type PT_direct --perturbation_order_of_magnitude -13 --user_nl_file_directory /home/u/u290372/projects/REA_heat_wEU_JJA/experiment_configuration/user_nl_files\n",
      "python /home/u/u290372/projects/REA_with_CESM2/branch_perturbed.py --dkrz_project_for_archive bb1152 --case_identifier c6_dry_069 --case_path GKLT/wEU.TREFHT.05-31.5x18.ssp370-2025-dry.k0p02.s6000/step14 --parent_path /work/bb1152/u290372/cesm215_archive/GKLT/wEU.TREFHT.05-31.5x18.ssp370-2025-dry.k0p02.s6000/c6_dry_064/c6_dry_064/c6_dry_063/c6_dry_064/c6_dry_065/c6_dry_066/c6_dry_066/c6_dry_067/c6_dry_068/c6_dry_068/c6_dry_068/c6_dry_068/c6_dry_069/c6_dry_070 --precompiled_path GKLT/wEU.TREFHT.05-31.5x18.ssp370-2025-dry.k0p02.s6000/c6_dry_000 --perturbation_seed 6715 --compset BSSP370cmip6 --ndays 5 --perturbation_type PT_direct --perturbation_order_of_magnitude -13 --user_nl_file_directory /home/u/u290372/projects/REA_heat_wEU_JJA/experiment_configuration/user_nl_files\n",
      "python /home/u/u290372/projects/REA_with_CESM2/branch_perturbed.py --dkrz_project_for_archive bb1152 --case_identifier c6_dry_070 --case_path GKLT/wEU.TREFHT.05-31.5x18.ssp370-2025-dry.k0p02.s6000/step14 --parent_path /work/bb1152/u290372/cesm215_archive/GKLT/wEU.TREFHT.05-31.5x18.ssp370-2025-dry.k0p02.s6000/c6_dry_066/c6_dry_066/c6_dry_065/c6_dry_066/c6_dry_067/c6_dry_068/c6_dry_068/c6_dry_069/c6_dry_070/c6_dry_070/c6_dry_070/c6_dry_070/c6_dry_071/c6_dry_071 --precompiled_path GKLT/wEU.TREFHT.05-31.5x18.ssp370-2025-dry.k0p02.s6000/c6_dry_000 --perturbation_seed 6725 --compset BSSP370cmip6 --ndays 5 --perturbation_type PT_direct --perturbation_order_of_magnitude -13 --user_nl_file_directory /home/u/u290372/projects/REA_heat_wEU_JJA/experiment_configuration/user_nl_files\n",
      "python /home/u/u290372/projects/REA_with_CESM2/branch_perturbed.py --dkrz_project_for_archive bb1152 --case_identifier c6_dry_071 --case_path GKLT/wEU.TREFHT.05-31.5x18.ssp370-2025-dry.k0p02.s6000/step14 --parent_path /work/bb1152/u290372/cesm215_archive/GKLT/wEU.TREFHT.05-31.5x18.ssp370-2025-dry.k0p02.s6000/c6_dry_067/c6_dry_067/c6_dry_066/c6_dry_067/c6_dry_068/c6_dry_069/c6_dry_069/c6_dry_070/c6_dry_071/c6_dry_071/c6_dry_071/c6_dry_071/c6_dry_072/c6_dry_072 --precompiled_path GKLT/wEU.TREFHT.05-31.5x18.ssp370-2025-dry.k0p02.s6000/c6_dry_000 --perturbation_seed 6735 --compset BSSP370cmip6 --ndays 5 --perturbation_type PT_direct --perturbation_order_of_magnitude -13 --user_nl_file_directory /home/u/u290372/projects/REA_heat_wEU_JJA/experiment_configuration/user_nl_files\n",
      "python /home/u/u290372/projects/REA_with_CESM2/branch_perturbed.py --dkrz_project_for_archive bb1152 --case_identifier c6_dry_072 --case_path GKLT/wEU.TREFHT.05-31.5x18.ssp370-2025-dry.k0p02.s6000/step14 --parent_path /work/bb1152/u290372/cesm215_archive/GKLT/wEU.TREFHT.05-31.5x18.ssp370-2025-dry.k0p02.s6000/c6_dry_068/c6_dry_068/c6_dry_067/c6_dry_068/c6_dry_069/c6_dry_070/c6_dry_070/c6_dry_071/c6_dry_072/c6_dry_072/c6_dry_072/c6_dry_072/c6_dry_073/c6_dry_073 --precompiled_path GKLT/wEU.TREFHT.05-31.5x18.ssp370-2025-dry.k0p02.s6000/c6_dry_000 --perturbation_seed 6745 --compset BSSP370cmip6 --ndays 5 --perturbation_type PT_direct --perturbation_order_of_magnitude -13 --user_nl_file_directory /home/u/u290372/projects/REA_heat_wEU_JJA/experiment_configuration/user_nl_files\n",
      "python /home/u/u290372/projects/REA_with_CESM2/branch_perturbed.py --dkrz_project_for_archive bb1152 --case_identifier c6_dry_073 --case_path GKLT/wEU.TREFHT.05-31.5x18.ssp370-2025-dry.k0p02.s6000/step14 --parent_path /work/bb1152/u290372/cesm215_archive/GKLT/wEU.TREFHT.05-31.5x18.ssp370-2025-dry.k0p02.s6000/c6_dry_068/c6_dry_068/c6_dry_068/c6_dry_069/c6_dry_070/c6_dry_071/c6_dry_071/c6_dry_072/c6_dry_073/c6_dry_073/c6_dry_073/c6_dry_073/c6_dry_074/c6_dry_074 --precompiled_path GKLT/wEU.TREFHT.05-31.5x18.ssp370-2025-dry.k0p02.s6000/c6_dry_000 --perturbation_seed 6755 --compset BSSP370cmip6 --ndays 5 --perturbation_type PT_direct --perturbation_order_of_magnitude -13 --user_nl_file_directory /home/u/u290372/projects/REA_heat_wEU_JJA/experiment_configuration/user_nl_files\n",
      "python /home/u/u290372/projects/REA_with_CESM2/branch_perturbed.py --dkrz_project_for_archive bb1152 --case_identifier c6_dry_074 --case_path GKLT/wEU.TREFHT.05-31.5x18.ssp370-2025-dry.k0p02.s6000/step14 --parent_path /work/bb1152/u290372/cesm215_archive/GKLT/wEU.TREFHT.05-31.5x18.ssp370-2025-dry.k0p02.s6000/c6_dry_069/c6_dry_069/c6_dry_069/c6_dry_070/c6_dry_071/c6_dry_072/c6_dry_072/c6_dry_073/c6_dry_074/c6_dry_074/c6_dry_074/c6_dry_074/c6_dry_075/c6_dry_075 --precompiled_path GKLT/wEU.TREFHT.05-31.5x18.ssp370-2025-dry.k0p02.s6000/c6_dry_000 --perturbation_seed 6765 --compset BSSP370cmip6 --ndays 5 --perturbation_type PT_direct --perturbation_order_of_magnitude -13 --user_nl_file_directory /home/u/u290372/projects/REA_heat_wEU_JJA/experiment_configuration/user_nl_files\n",
      "python /home/u/u290372/projects/REA_with_CESM2/branch_perturbed.py --dkrz_project_for_archive bb1152 --case_identifier c6_dry_075 --case_path GKLT/wEU.TREFHT.05-31.5x18.ssp370-2025-dry.k0p02.s6000/step14 --parent_path /work/bb1152/u290372/cesm215_archive/GKLT/wEU.TREFHT.05-31.5x18.ssp370-2025-dry.k0p02.s6000/c6_dry_071/c6_dry_071/c6_dry_071/c6_dry_072/c6_dry_073/c6_dry_074/c6_dry_074/c6_dry_074/c6_dry_075/c6_dry_075/c6_dry_075/c6_dry_075/c6_dry_076/c6_dry_076 --precompiled_path GKLT/wEU.TREFHT.05-31.5x18.ssp370-2025-dry.k0p02.s6000/c6_dry_000 --perturbation_seed 6775 --compset BSSP370cmip6 --ndays 5 --perturbation_type PT_direct --perturbation_order_of_magnitude -13 --user_nl_file_directory /home/u/u290372/projects/REA_heat_wEU_JJA/experiment_configuration/user_nl_files\n",
      "python /home/u/u290372/projects/REA_with_CESM2/branch_perturbed.py --dkrz_project_for_archive bb1152 --case_identifier c6_dry_076 --case_path GKLT/wEU.TREFHT.05-31.5x18.ssp370-2025-dry.k0p02.s6000/step14 --parent_path /work/bb1152/u290372/cesm215_archive/GKLT/wEU.TREFHT.05-31.5x18.ssp370-2025-dry.k0p02.s6000/c6_dry_075/c6_dry_075/c6_dry_075/c6_dry_076/c6_dry_077/c6_dry_078/c6_dry_077/c6_dry_076/c6_dry_077/c6_dry_077/c6_dry_076/c6_dry_076/c6_dry_077/c6_dry_077 --precompiled_path GKLT/wEU.TREFHT.05-31.5x18.ssp370-2025-dry.k0p02.s6000/c6_dry_000 --perturbation_seed 6785 --compset BSSP370cmip6 --ndays 5 --perturbation_type PT_direct --perturbation_order_of_magnitude -13 --user_nl_file_directory /home/u/u290372/projects/REA_heat_wEU_JJA/experiment_configuration/user_nl_files\n",
      "python /home/u/u290372/projects/REA_with_CESM2/branch_perturbed.py --dkrz_project_for_archive bb1152 --case_identifier c6_dry_077 --case_path GKLT/wEU.TREFHT.05-31.5x18.ssp370-2025-dry.k0p02.s6000/step14 --parent_path /work/bb1152/u290372/cesm215_archive/GKLT/wEU.TREFHT.05-31.5x18.ssp370-2025-dry.k0p02.s6000/c6_dry_076/c6_dry_076/c6_dry_076/c6_dry_077/c6_dry_078/c6_dry_079/c6_dry_078/c6_dry_077/c6_dry_078/c6_dry_078/c6_dry_077/c6_dry_077/c6_dry_078/c6_dry_078 --precompiled_path GKLT/wEU.TREFHT.05-31.5x18.ssp370-2025-dry.k0p02.s6000/c6_dry_000 --perturbation_seed 6795 --compset BSSP370cmip6 --ndays 5 --perturbation_type PT_direct --perturbation_order_of_magnitude -13 --user_nl_file_directory /home/u/u290372/projects/REA_heat_wEU_JJA/experiment_configuration/user_nl_files\n",
      "python /home/u/u290372/projects/REA_with_CESM2/branch_perturbed.py --dkrz_project_for_archive bb1152 --case_identifier c6_dry_078 --case_path GKLT/wEU.TREFHT.05-31.5x18.ssp370-2025-dry.k0p02.s6000/step14 --parent_path /work/bb1152/u290372/cesm215_archive/GKLT/wEU.TREFHT.05-31.5x18.ssp370-2025-dry.k0p02.s6000/c6_dry_076/c6_dry_076/c6_dry_076/c6_dry_077/c6_dry_078/c6_dry_079/c6_dry_078/c6_dry_078/c6_dry_079/c6_dry_079/c6_dry_078/c6_dry_078/c6_dry_079/c6_dry_079 --precompiled_path GKLT/wEU.TREFHT.05-31.5x18.ssp370-2025-dry.k0p02.s6000/c6_dry_000 --perturbation_seed 6805 --compset BSSP370cmip6 --ndays 5 --perturbation_type PT_direct --perturbation_order_of_magnitude -13 --user_nl_file_directory /home/u/u290372/projects/REA_heat_wEU_JJA/experiment_configuration/user_nl_files\n",
      "python /home/u/u290372/projects/REA_with_CESM2/branch_perturbed.py --dkrz_project_for_archive bb1152 --case_identifier c6_dry_079 --case_path GKLT/wEU.TREFHT.05-31.5x18.ssp370-2025-dry.k0p02.s6000/step14 --parent_path /work/bb1152/u290372/cesm215_archive/GKLT/wEU.TREFHT.05-31.5x18.ssp370-2025-dry.k0p02.s6000/c6_dry_077/c6_dry_077/c6_dry_077/c6_dry_078/c6_dry_079/c6_dry_080/c6_dry_079/c6_dry_079/c6_dry_080/c6_dry_080/c6_dry_079/c6_dry_079/c6_dry_080/c6_dry_080 --precompiled_path GKLT/wEU.TREFHT.05-31.5x18.ssp370-2025-dry.k0p02.s6000/c6_dry_000 --perturbation_seed 6815 --compset BSSP370cmip6 --ndays 5 --perturbation_type PT_direct --perturbation_order_of_magnitude -13 --user_nl_file_directory /home/u/u290372/projects/REA_heat_wEU_JJA/experiment_configuration/user_nl_files\n",
      "python /home/u/u290372/projects/REA_with_CESM2/branch_perturbed.py --dkrz_project_for_archive bb1152 --case_identifier c6_dry_080 --case_path GKLT/wEU.TREFHT.05-31.5x18.ssp370-2025-dry.k0p02.s6000/step14 --parent_path /work/bb1152/u290372/cesm215_archive/GKLT/wEU.TREFHT.05-31.5x18.ssp370-2025-dry.k0p02.s6000/c6_dry_078/c6_dry_078/c6_dry_078/c6_dry_079/c6_dry_080/c6_dry_081/c6_dry_080/c6_dry_080/c6_dry_081/c6_dry_081/c6_dry_080/c6_dry_080/c6_dry_081/c6_dry_081 --precompiled_path GKLT/wEU.TREFHT.05-31.5x18.ssp370-2025-dry.k0p02.s6000/c6_dry_000 --perturbation_seed 6825 --compset BSSP370cmip6 --ndays 5 --perturbation_type PT_direct --perturbation_order_of_magnitude -13 --user_nl_file_directory /home/u/u290372/projects/REA_heat_wEU_JJA/experiment_configuration/user_nl_files\n",
      "python /home/u/u290372/projects/REA_with_CESM2/branch_perturbed.py --dkrz_project_for_archive bb1152 --case_identifier c6_dry_081 --case_path GKLT/wEU.TREFHT.05-31.5x18.ssp370-2025-dry.k0p02.s6000/step14 --parent_path /work/bb1152/u290372/cesm215_archive/GKLT/wEU.TREFHT.05-31.5x18.ssp370-2025-dry.k0p02.s6000/c6_dry_078/c6_dry_078/c6_dry_078/c6_dry_079/c6_dry_080/c6_dry_082/c6_dry_081/c6_dry_081/c6_dry_082/c6_dry_082/c6_dry_081/c6_dry_081/c6_dry_082/c6_dry_082 --precompiled_path GKLT/wEU.TREFHT.05-31.5x18.ssp370-2025-dry.k0p02.s6000/c6_dry_000 --perturbation_seed 6835 --compset BSSP370cmip6 --ndays 5 --perturbation_type PT_direct --perturbation_order_of_magnitude -13 --user_nl_file_directory /home/u/u290372/projects/REA_heat_wEU_JJA/experiment_configuration/user_nl_files\n",
      "python /home/u/u290372/projects/REA_with_CESM2/branch_perturbed.py --dkrz_project_for_archive bb1152 --case_identifier c6_dry_082 --case_path GKLT/wEU.TREFHT.05-31.5x18.ssp370-2025-dry.k0p02.s6000/step14 --parent_path /work/bb1152/u290372/cesm215_archive/GKLT/wEU.TREFHT.05-31.5x18.ssp370-2025-dry.k0p02.s6000/c6_dry_078/c6_dry_078/c6_dry_078/c6_dry_079/c6_dry_080/c6_dry_082/c6_dry_081/c6_dry_082/c6_dry_083/c6_dry_083/c6_dry_082/c6_dry_082/c6_dry_083/c6_dry_083 --precompiled_path GKLT/wEU.TREFHT.05-31.5x18.ssp370-2025-dry.k0p02.s6000/c6_dry_000 --perturbation_seed 6845 --compset BSSP370cmip6 --ndays 5 --perturbation_type PT_direct --perturbation_order_of_magnitude -13 --user_nl_file_directory /home/u/u290372/projects/REA_heat_wEU_JJA/experiment_configuration/user_nl_files\n",
      "python /home/u/u290372/projects/REA_with_CESM2/branch_perturbed.py --dkrz_project_for_archive bb1152 --case_identifier c6_dry_083 --case_path GKLT/wEU.TREFHT.05-31.5x18.ssp370-2025-dry.k0p02.s6000/step14 --parent_path /work/bb1152/u290372/cesm215_archive/GKLT/wEU.TREFHT.05-31.5x18.ssp370-2025-dry.k0p02.s6000/c6_dry_080/c6_dry_080/c6_dry_080/c6_dry_081/c6_dry_082/c6_dry_083/c6_dry_082/c6_dry_083/c6_dry_084/c6_dry_084/c6_dry_083/c6_dry_083/c6_dry_084/c6_dry_084 --precompiled_path GKLT/wEU.TREFHT.05-31.5x18.ssp370-2025-dry.k0p02.s6000/c6_dry_000 --perturbation_seed 6855 --compset BSSP370cmip6 --ndays 5 --perturbation_type PT_direct --perturbation_order_of_magnitude -13 --user_nl_file_directory /home/u/u290372/projects/REA_heat_wEU_JJA/experiment_configuration/user_nl_files\n",
      "python /home/u/u290372/projects/REA_with_CESM2/branch_perturbed.py --dkrz_project_for_archive bb1152 --case_identifier c6_dry_084 --case_path GKLT/wEU.TREFHT.05-31.5x18.ssp370-2025-dry.k0p02.s6000/step14 --parent_path /work/bb1152/u290372/cesm215_archive/GKLT/wEU.TREFHT.05-31.5x18.ssp370-2025-dry.k0p02.s6000/c6_dry_081/c6_dry_081/c6_dry_081/c6_dry_082/c6_dry_083/c6_dry_084/c6_dry_083/c6_dry_084/c6_dry_085/c6_dry_085/c6_dry_084/c6_dry_084/c6_dry_085/c6_dry_085 --precompiled_path GKLT/wEU.TREFHT.05-31.5x18.ssp370-2025-dry.k0p02.s6000/c6_dry_000 --perturbation_seed 6865 --compset BSSP370cmip6 --ndays 5 --perturbation_type PT_direct --perturbation_order_of_magnitude -13 --user_nl_file_directory /home/u/u290372/projects/REA_heat_wEU_JJA/experiment_configuration/user_nl_files\n",
      "python /home/u/u290372/projects/REA_with_CESM2/branch_perturbed.py --dkrz_project_for_archive bb1152 --case_identifier c6_dry_085 --case_path GKLT/wEU.TREFHT.05-31.5x18.ssp370-2025-dry.k0p02.s6000/step14 --parent_path /work/bb1152/u290372/cesm215_archive/GKLT/wEU.TREFHT.05-31.5x18.ssp370-2025-dry.k0p02.s6000/c6_dry_082/c6_dry_082/c6_dry_082/c6_dry_083/c6_dry_084/c6_dry_085/c6_dry_084/c6_dry_085/c6_dry_086/c6_dry_086/c6_dry_085/c6_dry_085/c6_dry_086/c6_dry_086 --precompiled_path GKLT/wEU.TREFHT.05-31.5x18.ssp370-2025-dry.k0p02.s6000/c6_dry_000 --perturbation_seed 6875 --compset BSSP370cmip6 --ndays 5 --perturbation_type PT_direct --perturbation_order_of_magnitude -13 --user_nl_file_directory /home/u/u290372/projects/REA_heat_wEU_JJA/experiment_configuration/user_nl_files\n",
      "python /home/u/u290372/projects/REA_with_CESM2/branch_perturbed.py --dkrz_project_for_archive bb1152 --case_identifier c6_dry_086 --case_path GKLT/wEU.TREFHT.05-31.5x18.ssp370-2025-dry.k0p02.s6000/step14 --parent_path /work/bb1152/u290372/cesm215_archive/GKLT/wEU.TREFHT.05-31.5x18.ssp370-2025-dry.k0p02.s6000/c6_dry_083/c6_dry_083/c6_dry_083/c6_dry_084/c6_dry_085/c6_dry_086/c6_dry_085/c6_dry_086/c6_dry_087/c6_dry_087/c6_dry_086/c6_dry_086/c6_dry_087/c6_dry_087 --precompiled_path GKLT/wEU.TREFHT.05-31.5x18.ssp370-2025-dry.k0p02.s6000/c6_dry_000 --perturbation_seed 6885 --compset BSSP370cmip6 --ndays 5 --perturbation_type PT_direct --perturbation_order_of_magnitude -13 --user_nl_file_directory /home/u/u290372/projects/REA_heat_wEU_JJA/experiment_configuration/user_nl_files\n",
      "python /home/u/u290372/projects/REA_with_CESM2/branch_perturbed.py --dkrz_project_for_archive bb1152 --case_identifier c6_dry_087 --case_path GKLT/wEU.TREFHT.05-31.5x18.ssp370-2025-dry.k0p02.s6000/step14 --parent_path /work/bb1152/u290372/cesm215_archive/GKLT/wEU.TREFHT.05-31.5x18.ssp370-2025-dry.k0p02.s6000/c6_dry_084/c6_dry_084/c6_dry_084/c6_dry_085/c6_dry_086/c6_dry_087/c6_dry_086/c6_dry_087/c6_dry_088/c6_dry_088/c6_dry_087/c6_dry_087/c6_dry_088/c6_dry_088 --precompiled_path GKLT/wEU.TREFHT.05-31.5x18.ssp370-2025-dry.k0p02.s6000/c6_dry_000 --perturbation_seed 6895 --compset BSSP370cmip6 --ndays 5 --perturbation_type PT_direct --perturbation_order_of_magnitude -13 --user_nl_file_directory /home/u/u290372/projects/REA_heat_wEU_JJA/experiment_configuration/user_nl_files\n",
      "python /home/u/u290372/projects/REA_with_CESM2/branch_perturbed.py --dkrz_project_for_archive bb1152 --case_identifier c6_dry_088 --case_path GKLT/wEU.TREFHT.05-31.5x18.ssp370-2025-dry.k0p02.s6000/step14 --parent_path /work/bb1152/u290372/cesm215_archive/GKLT/wEU.TREFHT.05-31.5x18.ssp370-2025-dry.k0p02.s6000/c6_dry_085/c6_dry_085/c6_dry_085/c6_dry_086/c6_dry_087/c6_dry_088/c6_dry_087/c6_dry_088/c6_dry_089/c6_dry_089/c6_dry_088/c6_dry_088/c6_dry_089/c6_dry_089 --precompiled_path GKLT/wEU.TREFHT.05-31.5x18.ssp370-2025-dry.k0p02.s6000/c6_dry_000 --perturbation_seed 6905 --compset BSSP370cmip6 --ndays 5 --perturbation_type PT_direct --perturbation_order_of_magnitude -13 --user_nl_file_directory /home/u/u290372/projects/REA_heat_wEU_JJA/experiment_configuration/user_nl_files\n",
      "python /home/u/u290372/projects/REA_with_CESM2/branch_perturbed.py --dkrz_project_for_archive bb1152 --case_identifier c6_dry_089 --case_path GKLT/wEU.TREFHT.05-31.5x18.ssp370-2025-dry.k0p02.s6000/step14 --parent_path /work/bb1152/u290372/cesm215_archive/GKLT/wEU.TREFHT.05-31.5x18.ssp370-2025-dry.k0p02.s6000/c6_dry_085/c6_dry_085/c6_dry_085/c6_dry_086/c6_dry_087/c6_dry_088/c6_dry_087/c6_dry_088/c6_dry_089/c6_dry_089/c6_dry_089/c6_dry_089/c6_dry_090/c6_dry_090 --precompiled_path GKLT/wEU.TREFHT.05-31.5x18.ssp370-2025-dry.k0p02.s6000/c6_dry_000 --perturbation_seed 6915 --compset BSSP370cmip6 --ndays 5 --perturbation_type PT_direct --perturbation_order_of_magnitude -13 --user_nl_file_directory /home/u/u290372/projects/REA_heat_wEU_JJA/experiment_configuration/user_nl_files\n",
      "python /home/u/u290372/projects/REA_with_CESM2/branch_perturbed.py --dkrz_project_for_archive bb1152 --case_identifier c6_dry_090 --case_path GKLT/wEU.TREFHT.05-31.5x18.ssp370-2025-dry.k0p02.s6000/step14 --parent_path /work/bb1152/u290372/cesm215_archive/GKLT/wEU.TREFHT.05-31.5x18.ssp370-2025-dry.k0p02.s6000/c6_dry_085/c6_dry_085/c6_dry_085/c6_dry_086/c6_dry_087/c6_dry_088/c6_dry_087/c6_dry_088/c6_dry_089/c6_dry_089/c6_dry_089/c6_dry_089/c6_dry_090/c6_dry_090 --precompiled_path GKLT/wEU.TREFHT.05-31.5x18.ssp370-2025-dry.k0p02.s6000/c6_dry_000 --perturbation_seed 6916 --compset BSSP370cmip6 --ndays 5 --perturbation_type PT_direct --perturbation_order_of_magnitude -13 --user_nl_file_directory /home/u/u290372/projects/REA_heat_wEU_JJA/experiment_configuration/user_nl_files\n",
      "python /home/u/u290372/projects/REA_with_CESM2/branch_perturbed.py --dkrz_project_for_archive bb1152 --case_identifier c6_dry_091 --case_path GKLT/wEU.TREFHT.05-31.5x18.ssp370-2025-dry.k0p02.s6000/step14 --parent_path /work/bb1152/u290372/cesm215_archive/GKLT/wEU.TREFHT.05-31.5x18.ssp370-2025-dry.k0p02.s6000/c6_dry_086/c6_dry_086/c6_dry_086/c6_dry_087/c6_dry_088/c6_dry_089/c6_dry_088/c6_dry_089/c6_dry_090/c6_dry_090/c6_dry_090/c6_dry_090/c6_dry_091/c6_dry_091 --precompiled_path GKLT/wEU.TREFHT.05-31.5x18.ssp370-2025-dry.k0p02.s6000/c6_dry_000 --perturbation_seed 6925 --compset BSSP370cmip6 --ndays 5 --perturbation_type PT_direct --perturbation_order_of_magnitude -13 --user_nl_file_directory /home/u/u290372/projects/REA_heat_wEU_JJA/experiment_configuration/user_nl_files\n",
      "python /home/u/u290372/projects/REA_with_CESM2/branch_perturbed.py --dkrz_project_for_archive bb1152 --case_identifier c6_dry_092 --case_path GKLT/wEU.TREFHT.05-31.5x18.ssp370-2025-dry.k0p02.s6000/step14 --parent_path /work/bb1152/u290372/cesm215_archive/GKLT/wEU.TREFHT.05-31.5x18.ssp370-2025-dry.k0p02.s6000/c6_dry_087/c6_dry_087/c6_dry_087/c6_dry_088/c6_dry_089/c6_dry_090/c6_dry_089/c6_dry_090/c6_dry_091/c6_dry_091/c6_dry_091/c6_dry_091/c6_dry_092/c6_dry_092 --precompiled_path GKLT/wEU.TREFHT.05-31.5x18.ssp370-2025-dry.k0p02.s6000/c6_dry_000 --perturbation_seed 6935 --compset BSSP370cmip6 --ndays 5 --perturbation_type PT_direct --perturbation_order_of_magnitude -13 --user_nl_file_directory /home/u/u290372/projects/REA_heat_wEU_JJA/experiment_configuration/user_nl_files\n",
      "python /home/u/u290372/projects/REA_with_CESM2/branch_perturbed.py --dkrz_project_for_archive bb1152 --case_identifier c6_dry_093 --case_path GKLT/wEU.TREFHT.05-31.5x18.ssp370-2025-dry.k0p02.s6000/step14 --parent_path /work/bb1152/u290372/cesm215_archive/GKLT/wEU.TREFHT.05-31.5x18.ssp370-2025-dry.k0p02.s6000/c6_dry_088/c6_dry_088/c6_dry_088/c6_dry_089/c6_dry_090/c6_dry_091/c6_dry_090/c6_dry_091/c6_dry_092/c6_dry_092/c6_dry_092/c6_dry_092/c6_dry_093/c6_dry_093 --precompiled_path GKLT/wEU.TREFHT.05-31.5x18.ssp370-2025-dry.k0p02.s6000/c6_dry_000 --perturbation_seed 6945 --compset BSSP370cmip6 --ndays 5 --perturbation_type PT_direct --perturbation_order_of_magnitude -13 --user_nl_file_directory /home/u/u290372/projects/REA_heat_wEU_JJA/experiment_configuration/user_nl_files\n",
      "python /home/u/u290372/projects/REA_with_CESM2/branch_perturbed.py --dkrz_project_for_archive bb1152 --case_identifier c6_dry_094 --case_path GKLT/wEU.TREFHT.05-31.5x18.ssp370-2025-dry.k0p02.s6000/step14 --parent_path /work/bb1152/u290372/cesm215_archive/GKLT/wEU.TREFHT.05-31.5x18.ssp370-2025-dry.k0p02.s6000/c6_dry_089/c6_dry_089/c6_dry_089/c6_dry_090/c6_dry_091/c6_dry_092/c6_dry_092/c6_dry_093/c6_dry_094/c6_dry_094/c6_dry_094/c6_dry_094/c6_dry_094/c6_dry_094 --precompiled_path GKLT/wEU.TREFHT.05-31.5x18.ssp370-2025-dry.k0p02.s6000/c6_dry_000 --perturbation_seed 6955 --compset BSSP370cmip6 --ndays 5 --perturbation_type PT_direct --perturbation_order_of_magnitude -13 --user_nl_file_directory /home/u/u290372/projects/REA_heat_wEU_JJA/experiment_configuration/user_nl_files\n",
      "python /home/u/u290372/projects/REA_with_CESM2/branch_perturbed.py --dkrz_project_for_archive bb1152 --case_identifier c6_dry_095 --case_path GKLT/wEU.TREFHT.05-31.5x18.ssp370-2025-dry.k0p02.s6000/step14 --parent_path /work/bb1152/u290372/cesm215_archive/GKLT/wEU.TREFHT.05-31.5x18.ssp370-2025-dry.k0p02.s6000/c6_dry_090/c6_dry_090/c6_dry_090/c6_dry_091/c6_dry_092/c6_dry_093/c6_dry_093/c6_dry_094/c6_dry_095/c6_dry_095/c6_dry_095/c6_dry_095/c6_dry_095/c6_dry_095 --precompiled_path GKLT/wEU.TREFHT.05-31.5x18.ssp370-2025-dry.k0p02.s6000/c6_dry_000 --perturbation_seed 6965 --compset BSSP370cmip6 --ndays 5 --perturbation_type PT_direct --perturbation_order_of_magnitude -13 --user_nl_file_directory /home/u/u290372/projects/REA_heat_wEU_JJA/experiment_configuration/user_nl_files\n",
      "python /home/u/u290372/projects/REA_with_CESM2/branch_perturbed.py --dkrz_project_for_archive bb1152 --case_identifier c6_dry_096 --case_path GKLT/wEU.TREFHT.05-31.5x18.ssp370-2025-dry.k0p02.s6000/step14 --parent_path /work/bb1152/u290372/cesm215_archive/GKLT/wEU.TREFHT.05-31.5x18.ssp370-2025-dry.k0p02.s6000/c6_dry_090/c6_dry_090/c6_dry_090/c6_dry_091/c6_dry_092/c6_dry_093/c6_dry_093/c6_dry_095/c6_dry_096/c6_dry_096/c6_dry_096/c6_dry_096/c6_dry_096/c6_dry_096 --precompiled_path GKLT/wEU.TREFHT.05-31.5x18.ssp370-2025-dry.k0p02.s6000/c6_dry_000 --perturbation_seed 6975 --compset BSSP370cmip6 --ndays 5 --perturbation_type PT_direct --perturbation_order_of_magnitude -13 --user_nl_file_directory /home/u/u290372/projects/REA_heat_wEU_JJA/experiment_configuration/user_nl_files\n",
      "python /home/u/u290372/projects/REA_with_CESM2/branch_perturbed.py --dkrz_project_for_archive bb1152 --case_identifier c6_dry_097 --case_path GKLT/wEU.TREFHT.05-31.5x18.ssp370-2025-dry.k0p02.s6000/step14 --parent_path /work/bb1152/u290372/cesm215_archive/GKLT/wEU.TREFHT.05-31.5x18.ssp370-2025-dry.k0p02.s6000/c6_dry_093/c6_dry_093/c6_dry_093/c6_dry_094/c6_dry_094/c6_dry_095/c6_dry_095/c6_dry_096/c6_dry_097/c6_dry_097/c6_dry_097/c6_dry_097/c6_dry_097/c6_dry_097 --precompiled_path GKLT/wEU.TREFHT.05-31.5x18.ssp370-2025-dry.k0p02.s6000/c6_dry_000 --perturbation_seed 6985 --compset BSSP370cmip6 --ndays 5 --perturbation_type PT_direct --perturbation_order_of_magnitude -13 --user_nl_file_directory /home/u/u290372/projects/REA_heat_wEU_JJA/experiment_configuration/user_nl_files\n",
      "python /home/u/u290372/projects/REA_with_CESM2/branch_perturbed.py --dkrz_project_for_archive bb1152 --case_identifier c6_dry_098 --case_path GKLT/wEU.TREFHT.05-31.5x18.ssp370-2025-dry.k0p02.s6000/step14 --parent_path /work/bb1152/u290372/cesm215_archive/GKLT/wEU.TREFHT.05-31.5x18.ssp370-2025-dry.k0p02.s6000/c6_dry_096/c6_dry_096/c6_dry_096/c6_dry_097/c6_dry_097/c6_dry_097/c6_dry_097/c6_dry_098/c6_dry_098/c6_dry_098/c6_dry_098/c6_dry_098/c6_dry_098/c6_dry_098 --precompiled_path GKLT/wEU.TREFHT.05-31.5x18.ssp370-2025-dry.k0p02.s6000/c6_dry_000 --perturbation_seed 6995 --compset BSSP370cmip6 --ndays 5 --perturbation_type PT_direct --perturbation_order_of_magnitude -13 --user_nl_file_directory /home/u/u290372/projects/REA_heat_wEU_JJA/experiment_configuration/user_nl_files\n",
      "python /home/u/u290372/projects/REA_with_CESM2/branch_perturbed.py --dkrz_project_for_archive bb1152 --case_identifier c6_dry_099 --case_path GKLT/wEU.TREFHT.05-31.5x18.ssp370-2025-dry.k0p02.s6000/step14 --parent_path /work/bb1152/u290372/cesm215_archive/GKLT/wEU.TREFHT.05-31.5x18.ssp370-2025-dry.k0p02.s6000/c6_dry_099/c6_dry_099/c6_dry_099/c6_dry_099/c6_dry_099/c6_dry_099/c6_dry_099/c6_dry_099/c6_dry_099/c6_dry_099/c6_dry_099/c6_dry_099/c6_dry_099/c6_dry_099 --precompiled_path GKLT/wEU.TREFHT.05-31.5x18.ssp370-2025-dry.k0p02.s6000/c6_dry_000 --perturbation_seed 7005 --compset BSSP370cmip6 --ndays 5 --perturbation_type PT_direct --perturbation_order_of_magnitude -13 --user_nl_file_directory /home/u/u290372/projects/REA_heat_wEU_JJA/experiment_configuration/user_nl_files\n"
     ]
    }
   ],
   "source": [
    "for i in range(100):\n",
    "    print(launcher.generate_launch_command(todo_table.iloc[i]))"
   ]
  },
  {
   "cell_type": "code",
   "execution_count": 8,
   "metadata": {},
   "outputs": [
    {
     "name": "stdout",
     "output_type": "stream",
     "text": [
      "resubmiting the same launcher script for step 11\n",
      "\n",
      "---- subprocess call:\n",
      "sbatch slurm_job_files/job_wEU.TREFHT.05-31.5x18.piControl.k0p03.s1000\n"
     ]
    }
   ],
   "source": [
    "launcher.resubmit_after_completion_of_previous_runs(11)"
   ]
  },
  {
   "cell_type": "code",
   "execution_count": 5,
   "metadata": {},
   "outputs": [
    {
     "ename": "AttributeError",
     "evalue": "'launch_handler' object has no attribute 'identify_current_step'",
     "output_type": "error",
     "traceback": [
      "\u001b[0;31m---------------------------------------------------------------------------\u001b[0m",
      "\u001b[0;31mAttributeError\u001b[0m                            Traceback (most recent call last)",
      "Cell \u001b[0;32mIn[5], line 1\u001b[0m\n\u001b[0;32m----> 1\u001b[0m \u001b[43mlauncher\u001b[49m\u001b[38;5;241;43m.\u001b[39;49m\u001b[43midentify_current_step\u001b[49m()\n",
      "\u001b[0;31mAttributeError\u001b[0m: 'launch_handler' object has no attribute 'identify_current_step'"
     ]
    }
   ],
   "source": [
    "launcher.identify_current_step()"
   ]
  },
  {
   "cell_type": "code",
   "execution_count": 25,
   "metadata": {},
   "outputs": [
    {
     "name": "stdout",
     "output_type": "stream",
     "text": [
      "resubmiting the same launcher script for step 4\n",
      "\n",
      "---- subprocess call:\n",
      "sbatch slurm_job_files/job_wEU.TREFHT.05-31.5x18.piControl.k0p03.s1000\n"
     ]
    }
   ],
   "source": [
    "launcher._step = 3\n",
    "launcher.resubmit_after_completion_of_previous_runs()"
   ]
  },
  {
   "cell_type": "code",
   "execution_count": 55,
   "metadata": {},
   "outputs": [
    {
     "data": {
      "text/plain": [
       "['/scratch/u/u290372/cesm215_output/GKLT/wEU.TREFHT.05-31.5x18.2024-2026.k0p03.s1000/c1_081/c1_072/c1_072/run/cesm.log.13894568.241120-164951',\n",
       " '/scratch/u/u290372/cesm215_output/GKLT/wEU.TREFHT.05-31.5x18.2024-2026.k0p03.s1000/c1_083/c1_074/c1_074/run/cesm.log.13894593.241120-165204',\n",
       " '/scratch/u/u290372/cesm215_output/GKLT/wEU.TREFHT.05-31.5x18.2024-2026.k0p03.s1000/c1_085/c1_077/c1_078/run/cesm.log.13894659.241120-165614',\n",
       " '/scratch/u/u290372/cesm215_output/GKLT/wEU.TREFHT.05-31.5x18.2024-2026.k0p03.s1000/c1_085/c1_078/c1_080/run/cesm.log.13894691.241120-165758',\n",
       " '/scratch/u/u290372/cesm215_output/GKLT/wEU.TREFHT.05-31.5x18.2024-2026.k0p03.s1000/c1_104/c1_100/c1_098/run/cesm.log.13894895.241120-171405',\n",
       " '/scratch/u/u290372/cesm215_output/GKLT/wEU.TREFHT.05-31.5x18.2024-2026.k0p03.s1000/c1_106/c1_102/c1_100/run/cesm.log.13894915.241120-171633',\n",
       " '/scratch/u/u290372/cesm215_output/GKLT/wEU.TREFHT.05-31.5x18.2024-2026.k0p03.s1000/c1_111/c1_108/c1_107/run/cesm.log.13895630.241120-172242',\n",
       " '/scratch/u/u290372/cesm215_output/GKLT/wEU.TREFHT.05-31.5x18.2024-2026.k0p03.s1000/c1_115/c1_112/c1_111/run/cesm.log.13895671.241120-172543',\n",
       " '/scratch/u/u290372/cesm215_output/GKLT/wEU.TREFHT.05-31.5x18.2024-2026.k0p03.s1000/c1_120/c1_119/c1_118/run/cesm.log.13895778.241120-173247',\n",
       " '/scratch/u/u290372/cesm215_output/GKLT/wEU.TREFHT.05-31.5x18.2024-2026.k0p03.s1000/c1_125/c1_124/c1_123/run/cesm.log.13895834.241120-173723']"
      ]
     },
     "execution_count": 55,
     "metadata": {},
     "output_type": "execute_result"
    }
   ],
   "source": [
    "log_files"
   ]
  },
  {
   "cell_type": "code",
   "execution_count": 60,
   "metadata": {},
   "outputs": [
    {
     "data": {
      "text/plain": [
       "['/scratch/u/u290372/cesm215_output/GKLT/wEU.TREFHT.05-31.5x18.piControl.k0p03.s1000/p1_035/p1_031/p1_027/p1_022/run/cesm.log.13894519.241120-164615',\n",
       " '/scratch/u/u290372/cesm215_output/GKLT/wEU.TREFHT.05-31.5x18.piControl.k0p03.s1000/p1_054/p1_051/p1_043/p1_037/run/cesm.log.13894724.241120-170132',\n",
       " '/scratch/u/u290372/cesm215_output/GKLT/wEU.TREFHT.05-31.5x18.piControl.k0p03.s1000/p1_057/p1_054/p1_046/p1_039/run/cesm.log.13894745.241120-170246',\n",
       " '/scratch/u/u290372/cesm215_output/GKLT/wEU.TREFHT.05-31.5x18.piControl.k0p03.s1000/p1_058/p1_056/p1_048/p1_041/run/cesm.log.13894766.241120-170452',\n",
       " '/scratch/u/u290372/cesm215_output/GKLT/wEU.TREFHT.05-31.5x18.piControl.k0p03.s1000/p1_059/p1_057/p1_049/p1_042/run/cesm.log.13894774.241120-170547',\n",
       " '/scratch/u/u290372/cesm215_output/GKLT/wEU.TREFHT.05-31.5x18.piControl.k0p03.s1000/p1_063/p1_062/p1_055/p1_049/run/cesm.log.13894876.241120-171204',\n",
       " '/scratch/u/u290372/cesm215_output/GKLT/wEU.TREFHT.05-31.5x18.piControl.k0p03.s1000/p1_079/p1_079/p1_076/p1_072/run/cesm.log.13895787.241120-173357',\n",
       " '/scratch/u/u290372/cesm215_output/GKLT/wEU.TREFHT.05-31.5x18.piControl.k0p03.s1000/p1_083/p1_084/p1_082/p1_080/run/cesm.log.13895882.241120-174050',\n",
       " '/scratch/u/u290372/cesm215_output/GKLT/wEU.TREFHT.05-31.5x18.piControl.k0p03.s1000/p1_095/p1_096/p1_095/p1_089/run/cesm.log.13895961.241120-174909',\n",
       " '/scratch/u/u290372/cesm215_output/GKLT/wEU.TREFHT.05-31.5x18.piControl.k0p03.s1000/p1_097/p1_098/p1_097/p1_091/run/cesm.log.13895967.241120-175055',\n",
       " '/scratch/u/u290372/cesm215_output/GKLT/wEU.TREFHT.05-31.5x18.piControl.k0p03.s1000/p1_101/p1_103/p1_103/p1_096/run/cesm.log.13896082.241120-175517',\n",
       " '/scratch/u/u290372/cesm215_output/GKLT/wEU.TREFHT.05-31.5x18.piControl.k0p03.s1000/p1_108/p1_108/p1_108/p1_102/run/cesm.log.13896339.241120-180130',\n",
       " '/scratch/u/u290372/cesm215_output/GKLT/wEU.TREFHT.05-31.5x18.piControl.k0p03.s1000/p1_109/p1_109/p1_109/p1_106/run/cesm.log.13896449.241120-180629',\n",
       " '/scratch/u/u290372/cesm215_output/GKLT/wEU.TREFHT.05-31.5x18.piControl.k0p03.s1000/p1_114/p1_114/p1_115/p1_115/run/cesm.log.13896703.241120-181222']"
      ]
     },
     "execution_count": 60,
     "metadata": {},
     "output_type": "execute_result"
    }
   ],
   "source": [
    "log_files"
   ]
  },
  {
   "cell_type": "code",
   "execution_count": 56,
   "metadata": {},
   "outputs": [],
   "source": [
    "log_files = launcher.get_logfiles_of_runs_where_the_status_is_unclear()"
   ]
  },
  {
   "cell_type": "code",
   "execution_count": 57,
   "metadata": {},
   "outputs": [],
   "source": [
    "def generate_lines_that_equal(string, fp):\n",
    "    for line in fp:\n",
    "        if string in line:\n",
    "            yield line"
   ]
  },
  {
   "cell_type": "code",
   "execution_count": 58,
   "metadata": {},
   "outputs": [],
   "source": [
    "lines = []\n",
    "for log_file in log_files:\n",
    "    for line in generate_lines_that_equal('Transport', open(log_file, 'r')):\n",
    "        lines.append(line)\n"
   ]
  },
  {
   "cell_type": "code",
   "execution_count": 59,
   "metadata": {},
   "outputs": [
    {
     "data": {
      "text/plain": [
       "array(['l20223', 'l20224', 'l20226', 'l20227', 'l20228', 'l40176',\n",
       "       'l40178', 'l40180'], dtype='<U6')"
      ]
     },
     "execution_count": 59,
     "metadata": {},
     "output_type": "execute_result"
    }
   ],
   "source": [
    "np.unique([l.split('[')[-1].split(':')[0] for l in lines])"
   ]
  },
  {
   "cell_type": "code",
   "execution_count": null,
   "metadata": {},
   "outputs": [
    {
     "data": {
      "text/plain": [
       "array(['l20223', 'l20226', 'l20227'], dtype='<U6')"
      ]
     },
     "metadata": {},
     "output_type": "display_data"
    }
   ],
   "source": [
    "np.unique([l.split('[')[-1].split(':')[0] for l in lines])"
   ]
  },
  {
   "cell_type": "code",
   "execution_count": 7,
   "metadata": {},
   "outputs": [
    {
     "data": {
      "text/html": [
       "<div>\n",
       "<style scoped>\n",
       "    .dataframe tbody tr th:only-of-type {\n",
       "        vertical-align: middle;\n",
       "    }\n",
       "\n",
       "    .dataframe tbody tr th {\n",
       "        vertical-align: top;\n",
       "    }\n",
       "\n",
       "    .dataframe thead th {\n",
       "        text-align: right;\n",
       "    }\n",
       "</style>\n",
       "<table border=\"1\" class=\"dataframe\">\n",
       "  <thead>\n",
       "    <tr style=\"text-align: right;\">\n",
       "      <th></th>\n",
       "      <th>case_identifier</th>\n",
       "      <th>observable mean</th>\n",
       "      <th>score</th>\n",
       "      <th>weight</th>\n",
       "    </tr>\n",
       "  </thead>\n",
       "  <tbody>\n",
       "    <tr>\n",
       "      <th>0</th>\n",
       "      <td>c1_000</td>\n",
       "      <td>16.597462</td>\n",
       "      <td>12.056683</td>\n",
       "      <td>0.903278</td>\n",
       "    </tr>\n",
       "    <tr>\n",
       "      <th>1</th>\n",
       "      <td>c1_001</td>\n",
       "      <td>15.319339</td>\n",
       "      <td>9.953267</td>\n",
       "      <td>0.745692</td>\n",
       "    </tr>\n",
       "    <tr>\n",
       "      <th>2</th>\n",
       "      <td>c1_002</td>\n",
       "      <td>16.004013</td>\n",
       "      <td>11.029814</td>\n",
       "      <td>0.826346</td>\n",
       "    </tr>\n",
       "    <tr>\n",
       "      <th>3</th>\n",
       "      <td>c1_003</td>\n",
       "      <td>13.829892</td>\n",
       "      <td>7.960436</td>\n",
       "      <td>0.596390</td>\n",
       "    </tr>\n",
       "    <tr>\n",
       "      <th>4</th>\n",
       "      <td>c1_004</td>\n",
       "      <td>17.805790</td>\n",
       "      <td>14.452514</td>\n",
       "      <td>1.082772</td>\n",
       "    </tr>\n",
       "    <tr>\n",
       "      <th>...</th>\n",
       "      <td>...</td>\n",
       "      <td>...</td>\n",
       "      <td>...</td>\n",
       "      <td>...</td>\n",
       "    </tr>\n",
       "    <tr>\n",
       "      <th>121</th>\n",
       "      <td>c1_121</td>\n",
       "      <td>17.780926</td>\n",
       "      <td>14.398715</td>\n",
       "      <td>1.078741</td>\n",
       "    </tr>\n",
       "    <tr>\n",
       "      <th>122</th>\n",
       "      <td>c1_122</td>\n",
       "      <td>19.433987</td>\n",
       "      <td>18.450618</td>\n",
       "      <td>1.382307</td>\n",
       "    </tr>\n",
       "    <tr>\n",
       "      <th>123</th>\n",
       "      <td>c1_123</td>\n",
       "      <td>14.508624</td>\n",
       "      <td>8.813579</td>\n",
       "      <td>0.660307</td>\n",
       "    </tr>\n",
       "    <tr>\n",
       "      <th>124</th>\n",
       "      <td>c1_124</td>\n",
       "      <td>16.807505</td>\n",
       "      <td>12.442595</td>\n",
       "      <td>0.932190</td>\n",
       "    </tr>\n",
       "    <tr>\n",
       "      <th>125</th>\n",
       "      <td>c1_125</td>\n",
       "      <td>22.519712</td>\n",
       "      <td>29.310826</td>\n",
       "      <td>2.195946</td>\n",
       "    </tr>\n",
       "  </tbody>\n",
       "</table>\n",
       "<p>126 rows × 4 columns</p>\n",
       "</div>"
      ],
      "text/plain": [
       "    case_identifier  observable mean      score    weight\n",
       "0            c1_000        16.597462  12.056683  0.903278\n",
       "1            c1_001        15.319339   9.953267  0.745692\n",
       "2            c1_002        16.004013  11.029814  0.826346\n",
       "3            c1_003        13.829892   7.960436  0.596390\n",
       "4            c1_004        17.805790  14.452514  1.082772\n",
       "..              ...              ...        ...       ...\n",
       "121          c1_121        17.780926  14.398715  1.078741\n",
       "122          c1_122        19.433987  18.450618  1.382307\n",
       "123          c1_123        14.508624   8.813579  0.660307\n",
       "124          c1_124        16.807505  12.442595  0.932190\n",
       "125          c1_125        22.519712  29.310826  2.195946\n",
       "\n",
       "[126 rows x 4 columns]"
      ]
     },
     "execution_count": 7,
     "metadata": {},
     "output_type": "execute_result"
    }
   ],
   "source": [
    "evaluation_table = launcher.evaluate_step_X(0)\n",
    "evaluation_table"
   ]
  },
  {
   "cell_type": "code",
   "execution_count": 8,
   "metadata": {},
   "outputs": [],
   "source": [
    "clones_of = launcher.create_list_of_clones(evaluation_table, step)"
   ]
  },
  {
   "cell_type": "code",
   "execution_count": 9,
   "metadata": {},
   "outputs": [],
   "source": [
    "todo_table = launcher.prepare_todos_for_step_X(step)"
   ]
  },
  {
   "cell_type": "code",
   "execution_count": 39,
   "metadata": {},
   "outputs": [
    {
     "data": {
      "text/html": [
       "<div>\n",
       "<style scoped>\n",
       "    .dataframe tbody tr th:only-of-type {\n",
       "        vertical-align: middle;\n",
       "    }\n",
       "\n",
       "    .dataframe tbody tr th {\n",
       "        vertical-align: top;\n",
       "    }\n",
       "\n",
       "    .dataframe thead th {\n",
       "        text-align: right;\n",
       "    }\n",
       "</style>\n",
       "<table border=\"1\" class=\"dataframe\">\n",
       "  <thead>\n",
       "    <tr style=\"text-align: right;\">\n",
       "      <th></th>\n",
       "      <th>case_identifier</th>\n",
       "      <th>case_path</th>\n",
       "      <th>parent_path</th>\n",
       "      <th>precompiled_path</th>\n",
       "      <th>perturbation_seed</th>\n",
       "      <th>compset</th>\n",
       "      <th>ndays</th>\n",
       "      <th>perturbation_type</th>\n",
       "      <th>perturbation_order_of_magnitude</th>\n",
       "      <th>output</th>\n",
       "    </tr>\n",
       "  </thead>\n",
       "  <tbody>\n",
       "    <tr>\n",
       "      <th>0</th>\n",
       "      <td>c1_000</td>\n",
       "      <td>GKLT/wEU.TREFHT.05-31.5x18.2024-2026.k0p03.s10...</td>\n",
       "      <td>GKLT/wEU.TREFHT.05-31.5x18.2024-2026.k0p03.s10...</td>\n",
       "      <td>GKLT/wEU.TREFHT.05-31.5x18.2024-2026.k0p03.s10...</td>\n",
       "      <td>1001</td>\n",
       "      <td>BSSP370cmip6</td>\n",
       "      <td>5</td>\n",
       "      <td>PT_direct</td>\n",
       "      <td>-13</td>\n",
       "      <td>minimal</td>\n",
       "    </tr>\n",
       "    <tr>\n",
       "      <th>1</th>\n",
       "      <td>c1_001</td>\n",
       "      <td>GKLT/wEU.TREFHT.05-31.5x18.2024-2026.k0p03.s10...</td>\n",
       "      <td>GKLT/wEU.TREFHT.05-31.5x18.2024-2026.k0p03.s10...</td>\n",
       "      <td>GKLT/wEU.TREFHT.05-31.5x18.2024-2026.k0p03.s10...</td>\n",
       "      <td>1001</td>\n",
       "      <td>BSSP370cmip6</td>\n",
       "      <td>5</td>\n",
       "      <td>PT_direct</td>\n",
       "      <td>-13</td>\n",
       "      <td>minimal</td>\n",
       "    </tr>\n",
       "    <tr>\n",
       "      <th>2</th>\n",
       "      <td>c1_002</td>\n",
       "      <td>GKLT/wEU.TREFHT.05-31.5x18.2024-2026.k0p03.s10...</td>\n",
       "      <td>GKLT/wEU.TREFHT.05-31.5x18.2024-2026.k0p03.s10...</td>\n",
       "      <td>GKLT/wEU.TREFHT.05-31.5x18.2024-2026.k0p03.s10...</td>\n",
       "      <td>1001</td>\n",
       "      <td>BSSP370cmip6</td>\n",
       "      <td>5</td>\n",
       "      <td>PT_direct</td>\n",
       "      <td>-13</td>\n",
       "      <td>minimal</td>\n",
       "    </tr>\n",
       "    <tr>\n",
       "      <th>3</th>\n",
       "      <td>c1_003</td>\n",
       "      <td>GKLT/wEU.TREFHT.05-31.5x18.2024-2026.k0p03.s10...</td>\n",
       "      <td>GKLT/wEU.TREFHT.05-31.5x18.2024-2026.k0p03.s10...</td>\n",
       "      <td>GKLT/wEU.TREFHT.05-31.5x18.2024-2026.k0p03.s10...</td>\n",
       "      <td>1001</td>\n",
       "      <td>BSSP370cmip6</td>\n",
       "      <td>5</td>\n",
       "      <td>PT_direct</td>\n",
       "      <td>-13</td>\n",
       "      <td>minimal</td>\n",
       "    </tr>\n",
       "    <tr>\n",
       "      <th>4</th>\n",
       "      <td>c1_004</td>\n",
       "      <td>GKLT/wEU.TREFHT.05-31.5x18.2024-2026.k0p03.s10...</td>\n",
       "      <td>GKLT/wEU.TREFHT.05-31.5x18.2024-2026.k0p03.s10...</td>\n",
       "      <td>GKLT/wEU.TREFHT.05-31.5x18.2024-2026.k0p03.s10...</td>\n",
       "      <td>1001</td>\n",
       "      <td>BSSP370cmip6</td>\n",
       "      <td>5</td>\n",
       "      <td>PT_direct</td>\n",
       "      <td>-13</td>\n",
       "      <td>minimal</td>\n",
       "    </tr>\n",
       "    <tr>\n",
       "      <th>...</th>\n",
       "      <td>...</td>\n",
       "      <td>...</td>\n",
       "      <td>...</td>\n",
       "      <td>...</td>\n",
       "      <td>...</td>\n",
       "      <td>...</td>\n",
       "      <td>...</td>\n",
       "      <td>...</td>\n",
       "      <td>...</td>\n",
       "      <td>...</td>\n",
       "    </tr>\n",
       "    <tr>\n",
       "      <th>121</th>\n",
       "      <td>c1_121</td>\n",
       "      <td>GKLT/wEU.TREFHT.05-31.5x18.2024-2026.k0p03.s10...</td>\n",
       "      <td>GKLT/wEU.TREFHT.05-31.5x18.2024-2026.k0p03.s10...</td>\n",
       "      <td>GKLT/wEU.TREFHT.05-31.5x18.2024-2026.k0p03.s10...</td>\n",
       "      <td>1001</td>\n",
       "      <td>BSSP370cmip6</td>\n",
       "      <td>5</td>\n",
       "      <td>PT_direct</td>\n",
       "      <td>-13</td>\n",
       "      <td>minimal</td>\n",
       "    </tr>\n",
       "    <tr>\n",
       "      <th>122</th>\n",
       "      <td>c1_122</td>\n",
       "      <td>GKLT/wEU.TREFHT.05-31.5x18.2024-2026.k0p03.s10...</td>\n",
       "      <td>GKLT/wEU.TREFHT.05-31.5x18.2024-2026.k0p03.s10...</td>\n",
       "      <td>GKLT/wEU.TREFHT.05-31.5x18.2024-2026.k0p03.s10...</td>\n",
       "      <td>1001</td>\n",
       "      <td>BSSP370cmip6</td>\n",
       "      <td>5</td>\n",
       "      <td>PT_direct</td>\n",
       "      <td>-13</td>\n",
       "      <td>minimal</td>\n",
       "    </tr>\n",
       "    <tr>\n",
       "      <th>123</th>\n",
       "      <td>c1_123</td>\n",
       "      <td>GKLT/wEU.TREFHT.05-31.5x18.2024-2026.k0p03.s10...</td>\n",
       "      <td>GKLT/wEU.TREFHT.05-31.5x18.2024-2026.k0p03.s10...</td>\n",
       "      <td>GKLT/wEU.TREFHT.05-31.5x18.2024-2026.k0p03.s10...</td>\n",
       "      <td>1001</td>\n",
       "      <td>BSSP370cmip6</td>\n",
       "      <td>5</td>\n",
       "      <td>PT_direct</td>\n",
       "      <td>-13</td>\n",
       "      <td>minimal</td>\n",
       "    </tr>\n",
       "    <tr>\n",
       "      <th>124</th>\n",
       "      <td>c1_124</td>\n",
       "      <td>GKLT/wEU.TREFHT.05-31.5x18.2024-2026.k0p03.s10...</td>\n",
       "      <td>GKLT/wEU.TREFHT.05-31.5x18.2024-2026.k0p03.s10...</td>\n",
       "      <td>GKLT/wEU.TREFHT.05-31.5x18.2024-2026.k0p03.s10...</td>\n",
       "      <td>1001</td>\n",
       "      <td>BSSP370cmip6</td>\n",
       "      <td>5</td>\n",
       "      <td>PT_direct</td>\n",
       "      <td>-13</td>\n",
       "      <td>minimal</td>\n",
       "    </tr>\n",
       "    <tr>\n",
       "      <th>125</th>\n",
       "      <td>c1_125</td>\n",
       "      <td>GKLT/wEU.TREFHT.05-31.5x18.2024-2026.k0p03.s10...</td>\n",
       "      <td>GKLT/wEU.TREFHT.05-31.5x18.2024-2026.k0p03.s10...</td>\n",
       "      <td>GKLT/wEU.TREFHT.05-31.5x18.2024-2026.k0p03.s10...</td>\n",
       "      <td>1002</td>\n",
       "      <td>BSSP370cmip6</td>\n",
       "      <td>5</td>\n",
       "      <td>PT_direct</td>\n",
       "      <td>-13</td>\n",
       "      <td>minimal</td>\n",
       "    </tr>\n",
       "  </tbody>\n",
       "</table>\n",
       "<p>126 rows × 10 columns</p>\n",
       "</div>"
      ],
      "text/plain": [
       "    case_identifier                                          case_path  \\\n",
       "0            c1_000  GKLT/wEU.TREFHT.05-31.5x18.2024-2026.k0p03.s10...   \n",
       "1            c1_001  GKLT/wEU.TREFHT.05-31.5x18.2024-2026.k0p03.s10...   \n",
       "2            c1_002  GKLT/wEU.TREFHT.05-31.5x18.2024-2026.k0p03.s10...   \n",
       "3            c1_003  GKLT/wEU.TREFHT.05-31.5x18.2024-2026.k0p03.s10...   \n",
       "4            c1_004  GKLT/wEU.TREFHT.05-31.5x18.2024-2026.k0p03.s10...   \n",
       "..              ...                                                ...   \n",
       "121          c1_121  GKLT/wEU.TREFHT.05-31.5x18.2024-2026.k0p03.s10...   \n",
       "122          c1_122  GKLT/wEU.TREFHT.05-31.5x18.2024-2026.k0p03.s10...   \n",
       "123          c1_123  GKLT/wEU.TREFHT.05-31.5x18.2024-2026.k0p03.s10...   \n",
       "124          c1_124  GKLT/wEU.TREFHT.05-31.5x18.2024-2026.k0p03.s10...   \n",
       "125          c1_125  GKLT/wEU.TREFHT.05-31.5x18.2024-2026.k0p03.s10...   \n",
       "\n",
       "                                           parent_path  \\\n",
       "0    GKLT/wEU.TREFHT.05-31.5x18.2024-2026.k0p03.s10...   \n",
       "1    GKLT/wEU.TREFHT.05-31.5x18.2024-2026.k0p03.s10...   \n",
       "2    GKLT/wEU.TREFHT.05-31.5x18.2024-2026.k0p03.s10...   \n",
       "3    GKLT/wEU.TREFHT.05-31.5x18.2024-2026.k0p03.s10...   \n",
       "4    GKLT/wEU.TREFHT.05-31.5x18.2024-2026.k0p03.s10...   \n",
       "..                                                 ...   \n",
       "121  GKLT/wEU.TREFHT.05-31.5x18.2024-2026.k0p03.s10...   \n",
       "122  GKLT/wEU.TREFHT.05-31.5x18.2024-2026.k0p03.s10...   \n",
       "123  GKLT/wEU.TREFHT.05-31.5x18.2024-2026.k0p03.s10...   \n",
       "124  GKLT/wEU.TREFHT.05-31.5x18.2024-2026.k0p03.s10...   \n",
       "125  GKLT/wEU.TREFHT.05-31.5x18.2024-2026.k0p03.s10...   \n",
       "\n",
       "                                      precompiled_path  perturbation_seed  \\\n",
       "0    GKLT/wEU.TREFHT.05-31.5x18.2024-2026.k0p03.s10...               1001   \n",
       "1    GKLT/wEU.TREFHT.05-31.5x18.2024-2026.k0p03.s10...               1001   \n",
       "2    GKLT/wEU.TREFHT.05-31.5x18.2024-2026.k0p03.s10...               1001   \n",
       "3    GKLT/wEU.TREFHT.05-31.5x18.2024-2026.k0p03.s10...               1001   \n",
       "4    GKLT/wEU.TREFHT.05-31.5x18.2024-2026.k0p03.s10...               1001   \n",
       "..                                                 ...                ...   \n",
       "121  GKLT/wEU.TREFHT.05-31.5x18.2024-2026.k0p03.s10...               1001   \n",
       "122  GKLT/wEU.TREFHT.05-31.5x18.2024-2026.k0p03.s10...               1001   \n",
       "123  GKLT/wEU.TREFHT.05-31.5x18.2024-2026.k0p03.s10...               1001   \n",
       "124  GKLT/wEU.TREFHT.05-31.5x18.2024-2026.k0p03.s10...               1001   \n",
       "125  GKLT/wEU.TREFHT.05-31.5x18.2024-2026.k0p03.s10...               1002   \n",
       "\n",
       "          compset  ndays perturbation_type  perturbation_order_of_magnitude  \\\n",
       "0    BSSP370cmip6      5         PT_direct                              -13   \n",
       "1    BSSP370cmip6      5         PT_direct                              -13   \n",
       "2    BSSP370cmip6      5         PT_direct                              -13   \n",
       "3    BSSP370cmip6      5         PT_direct                              -13   \n",
       "4    BSSP370cmip6      5         PT_direct                              -13   \n",
       "..            ...    ...               ...                              ...   \n",
       "121  BSSP370cmip6      5         PT_direct                              -13   \n",
       "122  BSSP370cmip6      5         PT_direct                              -13   \n",
       "123  BSSP370cmip6      5         PT_direct                              -13   \n",
       "124  BSSP370cmip6      5         PT_direct                              -13   \n",
       "125  BSSP370cmip6      5         PT_direct                              -13   \n",
       "\n",
       "      output  \n",
       "0    minimal  \n",
       "1    minimal  \n",
       "2    minimal  \n",
       "3    minimal  \n",
       "4    minimal  \n",
       "..       ...  \n",
       "121  minimal  \n",
       "122  minimal  \n",
       "123  minimal  \n",
       "124  minimal  \n",
       "125  minimal  \n",
       "\n",
       "[126 rows x 10 columns]"
      ]
     },
     "execution_count": 39,
     "metadata": {},
     "output_type": "execute_result"
    }
   ],
   "source": [
    "todo_table"
   ]
  },
  {
   "cell_type": "markdown",
   "metadata": {},
   "source": [
    "# Region"
   ]
  },
  {
   "cell_type": "code",
   "execution_count": 10,
   "metadata": {},
   "outputs": [
    {
     "data": {
      "text/plain": [
       "<cartopy.mpl.geocollection.GeoQuadMesh at 0x7fff7ef40bc0>"
      ]
     },
     "execution_count": 10,
     "metadata": {},
     "output_type": "execute_result"
    },
    {
     "data": {
      "image/png": "[encoded data removed]",
      "text/plain": [
       "<Figure size 640x480 with 1 Axes>"
      ]
     },
     "metadata": {},
     "output_type": "display_data"
    }
   ],
   "source": [
    "mask = exp.regional_mask\n",
    "\n",
    "# plot for control\n",
    "fig,ax = plt.subplots(subplot_kw={'projection': cartopy.crs.PlateCarree()})\n",
    "ax.coastlines()\n",
    "ax.set_extent([-20,30,30,60])\n",
    "ax.pcolormesh(mask.lon.values, mask.lat.values, mask, \n",
    "            transform=cartopy.crs.PlateCarree(), cmap='plasma')"
   ]
  },
  {
   "cell_type": "code",
   "execution_count": 21,
   "metadata": {},
   "outputs": [],
   "source": [
    "sys.path.append('/home/u/u290372/projects/cesm215_peters_scripts')\n",
    "from settings import *\n",
    "\n",
    "todo = todo_table.iloc[1]\n",
    "_archive = f\"{dir_archive}/{todo.loc['case_path']}/{todo.loc['case_identifier']}\"\n",
    "h1_file = glob.glob(f\"{_archive}/atm/hist/*h1*\")[0]\n",
    "with xr.open_dataset(h1_file) as nc:\n",
    "    nc.coords['lon'] = (nc.coords['lon'] + 180) % 360 - 180\n",
    "    nc = nc.sortby(nc.lon)\n",
    "    y = nc['TREFHTMX']\n",
    "    y = (y.loc[:, mask.lat, mask.lon] * mask).sum(('lat','lon'))\n"
   ]
  },
  {
   "cell_type": "markdown",
   "metadata": {},
   "source": [
    "# extimate good k"
   ]
  },
  {
   "cell_type": "code",
   "execution_count": 87,
   "metadata": {},
   "outputs": [
    {
     "data": {
      "text/html": [
       "<div>\n",
       "<style scoped>\n",
       "    .dataframe tbody tr th:only-of-type {\n",
       "        vertical-align: middle;\n",
       "    }\n",
       "\n",
       "    .dataframe tbody tr th {\n",
       "        vertical-align: top;\n",
       "    }\n",
       "\n",
       "    .dataframe thead th {\n",
       "        text-align: right;\n",
       "    }\n",
       "</style>\n",
       "<table border=\"1\" class=\"dataframe\">\n",
       "  <thead>\n",
       "    <tr style=\"text-align: right;\">\n",
       "      <th></th>\n",
       "      <th>k</th>\n",
       "      <th>max. kill rate [%]</th>\n",
       "      <th>mean kill rate [%]</th>\n",
       "      <th>max. max. descendants</th>\n",
       "      <th>mean max. descendants</th>\n",
       "    </tr>\n",
       "  </thead>\n",
       "  <tbody>\n",
       "    <tr>\n",
       "      <th>0</th>\n",
       "      <td>0.01</td>\n",
       "      <td>13 %</td>\n",
       "      <td>6 %</td>\n",
       "      <td>2</td>\n",
       "      <td>2.000</td>\n",
       "    </tr>\n",
       "    <tr>\n",
       "      <th>1</th>\n",
       "      <td>0.02</td>\n",
       "      <td>18 %</td>\n",
       "      <td>11 %</td>\n",
       "      <td>3</td>\n",
       "      <td>2.645</td>\n",
       "    </tr>\n",
       "    <tr>\n",
       "      <th>2</th>\n",
       "      <td>0.03</td>\n",
       "      <td>25 %</td>\n",
       "      <td>17 %</td>\n",
       "      <td>5</td>\n",
       "      <td>4.221</td>\n",
       "    </tr>\n",
       "    <tr>\n",
       "      <th>3</th>\n",
       "      <td>0.04</td>\n",
       "      <td>32 %</td>\n",
       "      <td>23 %</td>\n",
       "      <td>7</td>\n",
       "      <td>6.524</td>\n",
       "    </tr>\n",
       "    <tr>\n",
       "      <th>4</th>\n",
       "      <td>0.05</td>\n",
       "      <td>37 %</td>\n",
       "      <td>28 %</td>\n",
       "      <td>10</td>\n",
       "      <td>9.823</td>\n",
       "    </tr>\n",
       "    <tr>\n",
       "      <th>5</th>\n",
       "      <td>0.06</td>\n",
       "      <td>44 %</td>\n",
       "      <td>34 %</td>\n",
       "      <td>15</td>\n",
       "      <td>14.376</td>\n",
       "    </tr>\n",
       "    <tr>\n",
       "      <th>6</th>\n",
       "      <td>0.07</td>\n",
       "      <td>50 %</td>\n",
       "      <td>40 %</td>\n",
       "      <td>21</td>\n",
       "      <td>20.400</td>\n",
       "    </tr>\n",
       "    <tr>\n",
       "      <th>7</th>\n",
       "      <td>0.08</td>\n",
       "      <td>56 %</td>\n",
       "      <td>46 %</td>\n",
       "      <td>29</td>\n",
       "      <td>28.041</td>\n",
       "    </tr>\n",
       "    <tr>\n",
       "      <th>8</th>\n",
       "      <td>0.09</td>\n",
       "      <td>61 %</td>\n",
       "      <td>52 %</td>\n",
       "      <td>38</td>\n",
       "      <td>37.206</td>\n",
       "    </tr>\n",
       "  </tbody>\n",
       "</table>\n",
       "</div>"
      ],
      "text/plain": [
       "      k max. kill rate [%] mean kill rate [%]  max. max. descendants  \\\n",
       "0  0.01               13 %                6 %                      2   \n",
       "1  0.02               18 %               11 %                      3   \n",
       "2  0.03               25 %               17 %                      5   \n",
       "3  0.04               32 %               23 %                      7   \n",
       "4  0.05               37 %               28 %                     10   \n",
       "5  0.06               44 %               34 %                     15   \n",
       "6  0.07               50 %               40 %                     21   \n",
       "7  0.08               56 %               46 %                     29   \n",
       "8  0.09               61 %               52 %                     38   \n",
       "\n",
       "   mean max. descendants  \n",
       "0                  2.000  \n",
       "1                  2.645  \n",
       "2                  4.221  \n",
       "3                  6.524  \n",
       "4                  9.823  \n",
       "5                 14.376  \n",
       "6                 20.400  \n",
       "7                 28.041  \n",
       "8                 37.206  "
      ]
     },
     "execution_count": 87,
     "metadata": {},
     "output_type": "execute_result"
    }
   ],
   "source": [
    "l = []\n",
    "for k in np.arange(0.01,0.1,0.01).round(2):\n",
    "    evaluation_table['score'] = np.exp(k * evaluation_table['observable'])\n",
    "    evaluation_table['weight'] = evaluation_table['score'] / np.nanmean(evaluation_table['score'])\n",
    "    weights = evaluation_table['weight'].values\n",
    "    normalized_weights = weights / np.mean(weights)\n",
    "    kills = []\n",
    "    max_descendants = []\n",
    "    for _ in range(1000):\n",
    "        evaluation_table['copies'] = ( normalized_weights + np.random.uniform( low=0 , high=1 , size=normalized_weights.shape[0] )).astype(int)\n",
    "        kills.append(np.sum(evaluation_table.loc[:,'copies'].values == 0))\n",
    "        max_descendants.append(evaluation_table.loc[:,'copies'].max())\n",
    "    l.append({\n",
    "        'k' : k, \n",
    "        'max. kill rate [%]' : f\"{int((np.max(kills)/exp.conf.N * 100).round())} %\",\n",
    "        'mean kill rate [%]' : f\"{int((np.mean(kills)/exp.conf.N * 100).round())} %\",\n",
    "        'max. max. descendants' : np.max(max_descendants),\n",
    "        'mean max. descendants' : np.mean(max_descendants)\n",
    "        })\n",
    "pd.DataFrame(l)"
   ]
  },
  {
   "cell_type": "code",
   "execution_count": null,
   "metadata": {},
   "outputs": [],
   "source": []
  }
 ],
 "metadata": {
  "kernelspec": {
   "display_name": "py_imps",
   "language": "python",
   "name": "python3"
  },
  "language_info": {
   "codemirror_mode": {
    "name": "ipython",
    "version": 3
   },
   "file_extension": ".py",
   "mimetype": "text/x-python",
   "name": "python",
   "nbconvert_exporter": "python",
   "pygments_lexer": "ipython3",
   "version": "3.9.20"
  }
 },
 "nbformat": 4,
 "nbformat_minor": 2
}
