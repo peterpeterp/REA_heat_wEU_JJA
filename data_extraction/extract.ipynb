{
 "cells": [
  {
   "cell_type": "code",
   "execution_count": 11,
   "metadata": {},
   "outputs": [
    {
     "name": "stdout",
     "output_type": "stream",
     "text": [
      "The autoreload extension is already loaded. To reload it, use:\n",
      "  %reload_ext autoreload\n"
     ]
    }
   ],
   "source": [
    "import os,sys,subprocess,glob,cftime,importlib,pickle,itertools\n",
    "from datetime import datetime\n",
    "import xarray as xr\n",
    "import numpy as np\n",
    "sys.path.append('../')\n",
    "\n",
    "sys.path.append('../../REA_with_CESM2/ensembles')\n",
    "sys.path.append('../../REA_with_CESM2/data_extraction')\n",
    "from ensemble_GKLT import ensemble_GKLT\n",
    "from data_extractor import extract_rea,extract_initial\n",
    "\n",
    "from experiment_configuration.experiment import experiment\n",
    "\n",
    "%load_ext autoreload\n",
    "%autoreload 2"
   ]
  },
  {
   "cell_type": "code",
   "execution_count": 6,
   "metadata": {},
   "outputs": [
    {
     "data": {
      "text/plain": [
       "'\\nimport argparse\\nparser = argparse.ArgumentParser()\\nparser.add_argument(\"--experiment\", type=str)\\nparser.add_argument(\"--verbose\", action=\\'store_true\\')\\nparser.add_argument(\"--overwrite\", action=\\'store_true\\')\\nparser.add_argument(\"--realm\", type=str)\\nparser.add_argument(\"--h_identifier\", type=str)\\nparser.add_argument(\"--var_name\", type=str)\\ncommand_line_arguments = parser.parse_args()\\n'"
      ]
     },
     "execution_count": 6,
     "metadata": {},
     "output_type": "execute_result"
    }
   ],
   "source": [
    "'''\n",
    "import argparse\n",
    "parser = argparse.ArgumentParser()\n",
    "parser.add_argument(\"--experiment\", type=str)\n",
    "parser.add_argument(\"--verbose\", action='store_true')\n",
    "parser.add_argument(\"--overwrite\", action='store_true')\n",
    "parser.add_argument(\"--realm\", type=str)\n",
    "parser.add_argument(\"--h_identifier\", type=str)\n",
    "parser.add_argument(\"--var_name\", type=str)\n",
    "command_line_arguments = parser.parse_args()\n",
    "'''"
   ]
  },
  {
   "cell_type": "code",
   "execution_count": 23,
   "metadata": {},
   "outputs": [],
   "source": [
    "variable = 'Z500'\n",
    "realm = 'atm'\n",
    "h_identifier = 'h1'\n",
    "overwrite = False"
   ]
  },
  {
   "cell_type": "code",
   "execution_count": 8,
   "metadata": {},
   "outputs": [
    {
     "name": "stdout",
     "output_type": "stream",
     "text": [
      "c1\n",
      "c2\n",
      "c3\n"
     ]
    }
   ],
   "source": [
    "for experiment_identifier in [f\"c{i}\" for i in range(1,6)] + [f\"p{i}\" for i in range(1,6)]:\n",
    "    print(experiment_identifier)\n",
    "    # load experiment configuration settings\n",
    "    exp = experiment(importlib.import_module(f\"experiment_configuration.{experiment_identifier}\").config)\n",
    "\n",
    "    extract_rea(\n",
    "        exp,\n",
    "        variable = variable,\n",
    "        realm = realm,\n",
    "        h_identifier = h_identifier,\n",
    "        overwrite = overwrite,\n",
    "    )\n",
    "\n",
    "    if '1' in experiment_identifier:\n",
    "        extract_initial(\n",
    "            exp,\n",
    "            variable = variable,\n",
    "            realm = realm,\n",
    "            h_identifier = h_identifier,\n",
    "            overwrite = overwrite,\n",
    "        )\n",
    "    \n",
    "\n"
   ]
  },
  {
   "cell_type": "code",
   "execution_count": 9,
   "metadata": {},
   "outputs": [],
   "source": [
    "extract_rea(\n",
    "    exp,\n",
    "    variable = 'Z500',\n",
    "    realm = 'atm',\n",
    "    h_identifier = 'h1',\n",
    "    overwrite = False,\n",
    ")"
   ]
  },
  {
   "cell_type": "code",
   "execution_count": 12,
   "metadata": {},
   "outputs": [],
   "source": [
    "extract_initial(\n",
    "    exp,\n",
    "    variable = 'Z500',\n",
    "    realm = 'atm',\n",
    "    h_identifier = 'h1',\n",
    "    overwrite = False,\n",
    ")"
   ]
  },
  {
   "cell_type": "code",
   "execution_count": null,
   "metadata": {},
   "outputs": [
    {
     "name": "stdout",
     "output_type": "stream",
     "text": [
      "c1\n",
      "p1\n"
     ]
    }
   ],
   "source": [
    "for experiment_identifier in [\"c1\",\"p1\"]:\n",
    "    print(experiment_identifier)\n",
    "    # load configuration settings\n",
    "    experiment_configuration = importlib.import_module(f\"experiment_configuration.{experiment_identifier}\")\n",
    "\n",
    "    # finalize experiment configuration\n",
    "    from experiment_configuration.experiment import experiment\n",
    "    exp = experiment(experiment_configuration.config)\n",
    "\n",
    "    naming_d = {\n",
    "        \"project\": 'REA_output',\n",
    "        \"product\": exp.product_name,\n",
    "        \"institute\": 'NCAR',\n",
    "        \"model\": 'CESM2',\n",
    "        \"experiment\": f\"{exp.initial_conditions_name}-initial\",\n",
    "        \"time_frequency\": \"day\",\n",
    "        \"realm\": realm_dict[realm],\n",
    "        \"variable\": variable_dict[variable],\n",
    "    }\n",
    "\n",
    "    \n",
    "\n",
    "    for i,initial_condition in enumerate(exp.initial_conditions):\n",
    "        ens_name = f\"ens{str(i+1).zfill(3)}\"\n",
    "        out_dir = '/'.join([exp.dir_work] + [v for k,v in naming_d.items()] + [ens_name])\n",
    "        case_identifier = initial_condition.split('.')[-4] + '_' + initial_condition.split('/')[-1].split('-')[0]\n",
    "        out_file_name = f\"{out_dir}/{variable_dict[variable]}_day_CESM2_{naming_d['experiment']}_{ens_name}_{exp.initial_condition_fake_year}.nc\"\n",
    "        if os.path.isfile(out_file_name) == False or overwrite:\n",
    "            archive_fldr = f\"{exp.dir_archive}/GKLT/initial_{exp.initial_conditions_name}/{case_identifier}\"\n",
    "            h_files = glob.glob(f\"{archive_fldr}/{realm}/hist/*{h_identifier}*.nc\")\n",
    "\n",
    "            try:\n",
    "                with xr.open_mfdataset(h_files) as nc:\n",
    "                    x = nc[variable]\n",
    "                    initial_condition_year = x.time.dt.year.values[0]\n",
    "                    fake_year = 2025\n",
    "                    x = x.assign_coords(time=np.array([cftime.DatetimeNoLeap(exp.initial_condition_fake_year,month,day) for month,day in zip(x.time.dt.month.values,x.time.dt.day.values)]))\n",
    "                    x = x.assign_coords(sim=case_identifier)\n",
    "                    ds = xr.Dataset({variable_dict[variable]:x})\n",
    "                    ds.attrs = nc.attrs\n",
    "                    ds.attrs['initial_condition'] = initial_condition\n",
    "                    ds.attrs['initial_condition_year'] = initial_condition_year\n",
    "                    ds.attrs['compset'] = exp.compset\n",
    "                    ds.attrs['readme'] = \"https://github.com/peterpeterp/REA_heat_wEU_JJA\"\n",
    "                    ds['time'].attrs['comment'] = f'This simulation represents the climate state of {exp.initial_conditions_name}. The year in the time axis can be ignored.'\n",
    "                    os.makedirs(out_dir, exist_ok=True)\n",
    "                    ds.to_netcdf(out_file_name)\n",
    "            except:\n",
    "                pass"
   ]
  },
  {
   "cell_type": "code",
   "execution_count": null,
   "metadata": {},
   "outputs": [],
   "source": []
  }
 ],
 "metadata": {
  "kernelspec": {
   "display_name": "py_imps",
   "language": "python",
   "name": "python3"
  },
  "language_info": {
   "codemirror_mode": {
    "name": "ipython",
    "version": 3
   },
   "file_extension": ".py",
   "mimetype": "text/x-python",
   "name": "python",
   "nbconvert_exporter": "python",
   "pygments_lexer": "ipython3",
   "version": "3.9.20"
  }
 },
 "nbformat": 4,
 "nbformat_minor": 2
}
