{
 "cells": [
  {
   "cell_type": "code",
   "execution_count": 11,
   "metadata": {},
   "outputs": [
    {
     "name": "stdout",
     "output_type": "stream",
     "text": [
      "The autoreload extension is already loaded. To reload it, use:\n",
      "  %reload_ext autoreload\n"
     ]
    }
   ],
   "source": [
    "import os,sys,subprocess,glob,cftime,importlib,pickle,itertools\n",
    "from datetime import datetime\n",
    "import xarray as xr\n",
    "import numpy as np\n",
    "sys.path.append('../')\n",
    "\n",
    "sys.path.append('../../REA_with_CESM2/ensembles')\n",
    "sys.path.append('../../REA_with_CESM2/data_extraction')\n",
    "from ensemble_GKLT import ensemble_GKLT\n",
    "from data_extractor import extract_rea,extract_initial\n",
    "\n",
    "from experiment_configuration.experiment import experiment\n",
    "\n",
    "%load_ext autoreload\n",
    "%autoreload 2"
   ]
  },
  {
   "cell_type": "code",
   "execution_count": 13,
   "metadata": {},
   "outputs": [],
   "source": [
    "variable = 'Z500'\n",
    "realm = 'atm'\n",
    "h_identifier = 'h1'\n",
    "overwrite = False"
   ]
  },
  {
   "cell_type": "code",
   "execution_count": 14,
   "metadata": {},
   "outputs": [
    {
     "name": "stdout",
     "output_type": "stream",
     "text": [
      "c1\n",
      "c2\n",
      "c3\n",
      "c4\n",
      "c5\n",
      "p1\n"
     ]
    }
   ],
   "source": [
    "for experiment_identifier in [f\"c{i}\" for i in range(1,6)] + [f\"p{i}\" for i in range(1,6)]:\n",
    "    print(experiment_identifier)\n",
    "    # load experiment configuration settings\n",
    "    exp = experiment(importlib.import_module(f\"experiment_configuration.{experiment_identifier}\").config)\n",
    "\n",
    "    extract_rea(\n",
    "        exp,\n",
    "        variable = variable,\n",
    "        realm = realm,\n",
    "        h_identifier = h_identifier,\n",
    "        overwrite = overwrite,\n",
    "    )\n",
    "\n",
    "    if '1' in experiment_identifier:\n",
    "        extract_initial(\n",
    "            exp,\n",
    "            variable = variable,\n",
    "            realm = realm,\n",
    "            h_identifier = h_identifier,\n",
    "            overwrite = overwrite,\n",
    "        )\n",
    "    \n",
    "\n"
   ]
  },
  {
   "cell_type": "code",
   "execution_count": null,
   "metadata": {},
   "outputs": [],
   "source": []
  }
 ],
 "metadata": {
  "kernelspec": {
   "display_name": "py_imps",
   "language": "python",
   "name": "python3"
  },
  "language_info": {
   "codemirror_mode": {
    "name": "ipython",
    "version": 3
   },
   "file_extension": ".py",
   "mimetype": "text/x-python",
   "name": "python",
   "nbconvert_exporter": "python",
   "pygments_lexer": "ipython3",
   "version": "3.9.20"
  }
 },
 "nbformat": 4,
 "nbformat_minor": 2
}
