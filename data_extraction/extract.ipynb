{
 "cells": [
  {
   "cell_type": "code",
   "execution_count": 1,
   "metadata": {},
   "outputs": [
    {
     "ename": "ImportError",
     "evalue": "cannot import name 'extract_rea' from 'data_extractor.data_extractor' (/home/u/u290372/projects/REA_heat_wEU_JJA/data_extraction/../../REA_with_CESM2/data_extractor/data_extractor.py)",
     "output_type": "error",
     "traceback": [
      "\u001b[0;31m---------------------------------------------------------------------------\u001b[0m",
      "\u001b[0;31mImportError\u001b[0m                               Traceback (most recent call last)",
      "Cell \u001b[0;32mIn[1], line 9\u001b[0m\n\u001b[1;32m      7\u001b[0m sys\u001b[38;5;241m.\u001b[39mpath\u001b[38;5;241m.\u001b[39mappend(\u001b[38;5;124m'\u001b[39m\u001b[38;5;124m../../REA_with_CESM2\u001b[39m\u001b[38;5;124m'\u001b[39m)\n\u001b[1;32m      8\u001b[0m \u001b[38;5;28;01mfrom\u001b[39;00m\u001b[38;5;250m \u001b[39m\u001b[38;5;21;01mensembles\u001b[39;00m\u001b[38;5;21;01m.\u001b[39;00m\u001b[38;5;21;01mensemble_GKLT\u001b[39;00m\u001b[38;5;250m \u001b[39m\u001b[38;5;28;01mimport\u001b[39;00m ensemble_GKLT\n\u001b[0;32m----> 9\u001b[0m \u001b[38;5;28;01mfrom\u001b[39;00m\u001b[38;5;250m \u001b[39m\u001b[38;5;21;01mdata_extractor\u001b[39;00m\u001b[38;5;21;01m.\u001b[39;00m\u001b[38;5;21;01mdata_extractor\u001b[39;00m\u001b[38;5;250m \u001b[39m\u001b[38;5;28;01mimport\u001b[39;00m extract_rea,extract_initial\n\u001b[1;32m     11\u001b[0m \u001b[38;5;28;01mfrom\u001b[39;00m\u001b[38;5;250m \u001b[39m\u001b[38;5;21;01mexperiment_configuration\u001b[39;00m\u001b[38;5;21;01m.\u001b[39;00m\u001b[38;5;21;01mexperiment\u001b[39;00m\u001b[38;5;250m \u001b[39m\u001b[38;5;28;01mimport\u001b[39;00m experiment\n\u001b[1;32m     13\u001b[0m get_ipython()\u001b[38;5;241m.\u001b[39mrun_line_magic(\u001b[38;5;124m'\u001b[39m\u001b[38;5;124mload_ext\u001b[39m\u001b[38;5;124m'\u001b[39m, \u001b[38;5;124m'\u001b[39m\u001b[38;5;124mautoreload\u001b[39m\u001b[38;5;124m'\u001b[39m)\n",
      "\u001b[0;31mImportError\u001b[0m: cannot import name 'extract_rea' from 'data_extractor.data_extractor' (/home/u/u290372/projects/REA_heat_wEU_JJA/data_extraction/../../REA_with_CESM2/data_extractor/data_extractor.py)"
     ]
    }
   ],
   "source": [
    "import os,sys,subprocess,glob,cftime,importlib,pickle,itertools\n",
    "from datetime import datetime\n",
    "import xarray as xr\n",
    "import numpy as np\n",
    "sys.path.append('../')\n",
    "\n",
    "sys.path.append('../../REA_with_CESM2')\n",
    "from ensembles.ensemble_GKLT import ensemble_GKLT\n",
    "from data_extractor.data_extractor import extract_rea,extract_initial\n",
    "\n",
    "from experiment_configuration.experiment import experiment\n",
    "\n",
    "%load_ext autoreload\n",
    "%autoreload 2"
   ]
  },
  {
   "cell_type": "code",
   "execution_count": null,
   "metadata": {},
   "outputs": [],
   "source": [
    "variable = 'U200'\n",
    "time_frequency = 'mon'\n",
    "realm = 'atm'\n",
    "h_identifier = 'h1'\n",
    "overwrite = False\n"
   ]
  },
  {
   "cell_type": "code",
   "execution_count": null,
   "metadata": {},
   "outputs": [
    {
     "ename": "ModuleNotFoundError",
     "evalue": "No module named 'preprocessing.None'",
     "output_type": "error",
     "traceback": [
      "\u001b[0;31m---------------------------------------------------------------------------\u001b[0m",
      "\u001b[0;31mModuleNotFoundError\u001b[0m                       Traceback (most recent call last)",
      "Cell \u001b[0;32mIn[6], line 2\u001b[0m\n\u001b[1;32m      1\u001b[0m preprocessing \u001b[38;5;241m=\u001b[39m \u001b[38;5;28;01mNone\u001b[39;00m\n\u001b[0;32m----> 2\u001b[0m preprocessing_module \u001b[38;5;241m=\u001b[39m \u001b[43mimportlib\u001b[49m\u001b[38;5;241;43m.\u001b[39;49m\u001b[43mimport_module\u001b[49m\u001b[43m(\u001b[49m\u001b[38;5;124;43mf\u001b[39;49m\u001b[38;5;124;43m\"\u001b[39;49m\u001b[38;5;124;43mpreprocessing.\u001b[39;49m\u001b[38;5;132;43;01m{\u001b[39;49;00m\u001b[43mpreprocessing\u001b[49m\u001b[38;5;132;43;01m}\u001b[39;49;00m\u001b[38;5;124;43m\"\u001b[39;49m\u001b[43m)\u001b[49m\n",
      "File \u001b[0;32m~/.conda/envs/py_imps/lib/python3.9/importlib/__init__.py:127\u001b[0m, in \u001b[0;36mimport_module\u001b[0;34m(name, package)\u001b[0m\n\u001b[1;32m    125\u001b[0m             \u001b[38;5;28;01mbreak\u001b[39;00m\n\u001b[1;32m    126\u001b[0m         level \u001b[38;5;241m+\u001b[39m\u001b[38;5;241m=\u001b[39m \u001b[38;5;241m1\u001b[39m\n\u001b[0;32m--> 127\u001b[0m \u001b[38;5;28;01mreturn\u001b[39;00m \u001b[43m_bootstrap\u001b[49m\u001b[38;5;241;43m.\u001b[39;49m\u001b[43m_gcd_import\u001b[49m\u001b[43m(\u001b[49m\u001b[43mname\u001b[49m\u001b[43m[\u001b[49m\u001b[43mlevel\u001b[49m\u001b[43m:\u001b[49m\u001b[43m]\u001b[49m\u001b[43m,\u001b[49m\u001b[43m \u001b[49m\u001b[43mpackage\u001b[49m\u001b[43m,\u001b[49m\u001b[43m \u001b[49m\u001b[43mlevel\u001b[49m\u001b[43m)\u001b[49m\n",
      "File \u001b[0;32m<frozen importlib._bootstrap>:1030\u001b[0m, in \u001b[0;36m_gcd_import\u001b[0;34m(name, package, level)\u001b[0m\n",
      "File \u001b[0;32m<frozen importlib._bootstrap>:1007\u001b[0m, in \u001b[0;36m_find_and_load\u001b[0;34m(name, import_)\u001b[0m\n",
      "File \u001b[0;32m<frozen importlib._bootstrap>:984\u001b[0m, in \u001b[0;36m_find_and_load_unlocked\u001b[0;34m(name, import_)\u001b[0m\n",
      "\u001b[0;31mModuleNotFoundError\u001b[0m: No module named 'preprocessing.None'"
     ]
    }
   ],
   "source": [
    "preprocessing = None\n",
    "preprocessing_module = importlib.import_module(f\"preprocessing.{preprocessing}\")\n"
   ]
  },
  {
   "cell_type": "code",
   "execution_count": 15,
   "metadata": {},
   "outputs": [],
   "source": [
    "preprocessing_module = None"
   ]
  },
  {
   "cell_type": "code",
   "execution_count": 11,
   "metadata": {},
   "outputs": [
    {
     "name": "stdout",
     "output_type": "stream",
     "text": [
      "c1\n",
      "/work/bb1152/u290372/REA_output/heat_wEU_JJA/NCAR/CESM2/ssp370-2025-x1/mon/atmos/ua200/ens001/ua200_mon_CESM2_ssp370-2025-x1_ens001_2025.nc\n",
      "/work/bb1152/u290372/REA_output/heat_wEU_JJA/NCAR/CESM2/ssp370-2025-x1/mon/atmos/ua200/ens002/ua200_mon_CESM2_ssp370-2025-x1_ens002_2025.nc\n",
      "/work/bb1152/u290372/REA_output/heat_wEU_JJA/NCAR/CESM2/ssp370-2025-x1/mon/atmos/ua200/ens003/ua200_mon_CESM2_ssp370-2025-x1_ens003_2025.nc\n",
      "/work/bb1152/u290372/REA_output/heat_wEU_JJA/NCAR/CESM2/ssp370-2025-x1/mon/atmos/ua200/ens004/ua200_mon_CESM2_ssp370-2025-x1_ens004_2025.nc\n",
      "/work/bb1152/u290372/REA_output/heat_wEU_JJA/NCAR/CESM2/ssp370-2025-x1/mon/atmos/ua200/ens005/ua200_mon_CESM2_ssp370-2025-x1_ens005_2025.nc\n",
      "/work/bb1152/u290372/REA_output/heat_wEU_JJA/NCAR/CESM2/ssp370-2025-x1/mon/atmos/ua200/ens006/ua200_mon_CESM2_ssp370-2025-x1_ens006_2025.nc\n",
      "/work/bb1152/u290372/REA_output/heat_wEU_JJA/NCAR/CESM2/ssp370-2025-x1/mon/atmos/ua200/ens007/ua200_mon_CESM2_ssp370-2025-x1_ens007_2025.nc\n",
      "/work/bb1152/u290372/REA_output/heat_wEU_JJA/NCAR/CESM2/ssp370-2025-x1/mon/atmos/ua200/ens008/ua200_mon_CESM2_ssp370-2025-x1_ens008_2025.nc\n",
      "/work/bb1152/u290372/REA_output/heat_wEU_JJA/NCAR/CESM2/ssp370-2025-x1/mon/atmos/ua200/ens009/ua200_mon_CESM2_ssp370-2025-x1_ens009_2025.nc\n",
      "/work/bb1152/u290372/REA_output/heat_wEU_JJA/NCAR/CESM2/ssp370-2025-x1/mon/atmos/ua200/ens010/ua200_mon_CESM2_ssp370-2025-x1_ens010_2025.nc\n",
      "/work/bb1152/u290372/REA_output/heat_wEU_JJA/NCAR/CESM2/ssp370-2025-x1/mon/atmos/ua200/ens011/ua200_mon_CESM2_ssp370-2025-x1_ens011_2025.nc\n",
      "/work/bb1152/u290372/REA_output/heat_wEU_JJA/NCAR/CESM2/ssp370-2025-x1/mon/atmos/ua200/ens012/ua200_mon_CESM2_ssp370-2025-x1_ens012_2025.nc\n",
      "/work/bb1152/u290372/REA_output/heat_wEU_JJA/NCAR/CESM2/ssp370-2025-x1/mon/atmos/ua200/ens013/ua200_mon_CESM2_ssp370-2025-x1_ens013_2025.nc\n",
      "/work/bb1152/u290372/REA_output/heat_wEU_JJA/NCAR/CESM2/ssp370-2025-x1/mon/atmos/ua200/ens014/ua200_mon_CESM2_ssp370-2025-x1_ens014_2025.nc\n",
      "/work/bb1152/u290372/REA_output/heat_wEU_JJA/NCAR/CESM2/ssp370-2025-x1/mon/atmos/ua200/ens015/ua200_mon_CESM2_ssp370-2025-x1_ens015_2025.nc\n",
      "/work/bb1152/u290372/REA_output/heat_wEU_JJA/NCAR/CESM2/ssp370-2025-x1/mon/atmos/ua200/ens016/ua200_mon_CESM2_ssp370-2025-x1_ens016_2025.nc\n",
      "/work/bb1152/u290372/REA_output/heat_wEU_JJA/NCAR/CESM2/ssp370-2025-x1/mon/atmos/ua200/ens017/ua200_mon_CESM2_ssp370-2025-x1_ens017_2025.nc\n",
      "/work/bb1152/u290372/REA_output/heat_wEU_JJA/NCAR/CESM2/ssp370-2025-x1/mon/atmos/ua200/ens018/ua200_mon_CESM2_ssp370-2025-x1_ens018_2025.nc\n",
      "/work/bb1152/u290372/REA_output/heat_wEU_JJA/NCAR/CESM2/ssp370-2025-x1/mon/atmos/ua200/ens019/ua200_mon_CESM2_ssp370-2025-x1_ens019_2025.nc\n",
      "/work/bb1152/u290372/REA_output/heat_wEU_JJA/NCAR/CESM2/ssp370-2025-x1/mon/atmos/ua200/ens020/ua200_mon_CESM2_ssp370-2025-x1_ens020_2025.nc\n",
      "/work/bb1152/u290372/REA_output/heat_wEU_JJA/NCAR/CESM2/ssp370-2025-x1/mon/atmos/ua200/ens021/ua200_mon_CESM2_ssp370-2025-x1_ens021_2025.nc\n",
      "/work/bb1152/u290372/REA_output/heat_wEU_JJA/NCAR/CESM2/ssp370-2025-x1/mon/atmos/ua200/ens022/ua200_mon_CESM2_ssp370-2025-x1_ens022_2025.nc\n",
      "/work/bb1152/u290372/REA_output/heat_wEU_JJA/NCAR/CESM2/ssp370-2025-x1/mon/atmos/ua200/ens023/ua200_mon_CESM2_ssp370-2025-x1_ens023_2025.nc\n",
      "/work/bb1152/u290372/REA_output/heat_wEU_JJA/NCAR/CESM2/ssp370-2025-x1/mon/atmos/ua200/ens024/ua200_mon_CESM2_ssp370-2025-x1_ens024_2025.nc\n",
      "/work/bb1152/u290372/REA_output/heat_wEU_JJA/NCAR/CESM2/ssp370-2025-x1/mon/atmos/ua200/ens025/ua200_mon_CESM2_ssp370-2025-x1_ens025_2025.nc\n",
      "/work/bb1152/u290372/REA_output/heat_wEU_JJA/NCAR/CESM2/ssp370-2025-x1/mon/atmos/ua200/ens026/ua200_mon_CESM2_ssp370-2025-x1_ens026_2025.nc\n",
      "/work/bb1152/u290372/REA_output/heat_wEU_JJA/NCAR/CESM2/ssp370-2025-x1/mon/atmos/ua200/ens027/ua200_mon_CESM2_ssp370-2025-x1_ens027_2025.nc\n",
      "/work/bb1152/u290372/REA_output/heat_wEU_JJA/NCAR/CESM2/ssp370-2025-x1/mon/atmos/ua200/ens028/ua200_mon_CESM2_ssp370-2025-x1_ens028_2025.nc\n",
      "/work/bb1152/u290372/REA_output/heat_wEU_JJA/NCAR/CESM2/ssp370-2025-x1/mon/atmos/ua200/ens029/ua200_mon_CESM2_ssp370-2025-x1_ens029_2025.nc\n",
      "/work/bb1152/u290372/REA_output/heat_wEU_JJA/NCAR/CESM2/ssp370-2025-x1/mon/atmos/ua200/ens030/ua200_mon_CESM2_ssp370-2025-x1_ens030_2025.nc\n",
      "/work/bb1152/u290372/REA_output/heat_wEU_JJA/NCAR/CESM2/ssp370-2025-x1/mon/atmos/ua200/ens031/ua200_mon_CESM2_ssp370-2025-x1_ens031_2025.nc\n",
      "/work/bb1152/u290372/REA_output/heat_wEU_JJA/NCAR/CESM2/ssp370-2025-x1/mon/atmos/ua200/ens032/ua200_mon_CESM2_ssp370-2025-x1_ens032_2025.nc\n",
      "/work/bb1152/u290372/REA_output/heat_wEU_JJA/NCAR/CESM2/ssp370-2025-x1/mon/atmos/ua200/ens033/ua200_mon_CESM2_ssp370-2025-x1_ens033_2025.nc\n",
      "/work/bb1152/u290372/REA_output/heat_wEU_JJA/NCAR/CESM2/ssp370-2025-x1/mon/atmos/ua200/ens034/ua200_mon_CESM2_ssp370-2025-x1_ens034_2025.nc\n",
      "/work/bb1152/u290372/REA_output/heat_wEU_JJA/NCAR/CESM2/ssp370-2025-x1/mon/atmos/ua200/ens035/ua200_mon_CESM2_ssp370-2025-x1_ens035_2025.nc\n",
      "/work/bb1152/u290372/REA_output/heat_wEU_JJA/NCAR/CESM2/ssp370-2025-x1/mon/atmos/ua200/ens036/ua200_mon_CESM2_ssp370-2025-x1_ens036_2025.nc\n",
      "/work/bb1152/u290372/REA_output/heat_wEU_JJA/NCAR/CESM2/ssp370-2025-x1/mon/atmos/ua200/ens037/ua200_mon_CESM2_ssp370-2025-x1_ens037_2025.nc\n",
      "/work/bb1152/u290372/REA_output/heat_wEU_JJA/NCAR/CESM2/ssp370-2025-x1/mon/atmos/ua200/ens038/ua200_mon_CESM2_ssp370-2025-x1_ens038_2025.nc\n",
      "/work/bb1152/u290372/REA_output/heat_wEU_JJA/NCAR/CESM2/ssp370-2025-x1/mon/atmos/ua200/ens039/ua200_mon_CESM2_ssp370-2025-x1_ens039_2025.nc\n",
      "/work/bb1152/u290372/REA_output/heat_wEU_JJA/NCAR/CESM2/ssp370-2025-x1/mon/atmos/ua200/ens040/ua200_mon_CESM2_ssp370-2025-x1_ens040_2025.nc\n",
      "/work/bb1152/u290372/REA_output/heat_wEU_JJA/NCAR/CESM2/ssp370-2025-x1/mon/atmos/ua200/ens041/ua200_mon_CESM2_ssp370-2025-x1_ens041_2025.nc\n",
      "/work/bb1152/u290372/REA_output/heat_wEU_JJA/NCAR/CESM2/ssp370-2025-x1/mon/atmos/ua200/ens042/ua200_mon_CESM2_ssp370-2025-x1_ens042_2025.nc\n",
      "/work/bb1152/u290372/REA_output/heat_wEU_JJA/NCAR/CESM2/ssp370-2025-x1/mon/atmos/ua200/ens043/ua200_mon_CESM2_ssp370-2025-x1_ens043_2025.nc\n",
      "/work/bb1152/u290372/REA_output/heat_wEU_JJA/NCAR/CESM2/ssp370-2025-x1/mon/atmos/ua200/ens044/ua200_mon_CESM2_ssp370-2025-x1_ens044_2025.nc\n",
      "/work/bb1152/u290372/REA_output/heat_wEU_JJA/NCAR/CESM2/ssp370-2025-x1/mon/atmos/ua200/ens045/ua200_mon_CESM2_ssp370-2025-x1_ens045_2025.nc\n",
      "/work/bb1152/u290372/REA_output/heat_wEU_JJA/NCAR/CESM2/ssp370-2025-x1/mon/atmos/ua200/ens046/ua200_mon_CESM2_ssp370-2025-x1_ens046_2025.nc\n",
      "/work/bb1152/u290372/REA_output/heat_wEU_JJA/NCAR/CESM2/ssp370-2025-x1/mon/atmos/ua200/ens047/ua200_mon_CESM2_ssp370-2025-x1_ens047_2025.nc\n",
      "/work/bb1152/u290372/REA_output/heat_wEU_JJA/NCAR/CESM2/ssp370-2025-x1/mon/atmos/ua200/ens048/ua200_mon_CESM2_ssp370-2025-x1_ens048_2025.nc\n",
      "/work/bb1152/u290372/REA_output/heat_wEU_JJA/NCAR/CESM2/ssp370-2025-x1/mon/atmos/ua200/ens049/ua200_mon_CESM2_ssp370-2025-x1_ens049_2025.nc\n",
      "/work/bb1152/u290372/REA_output/heat_wEU_JJA/NCAR/CESM2/ssp370-2025-x1/mon/atmos/ua200/ens050/ua200_mon_CESM2_ssp370-2025-x1_ens050_2025.nc\n",
      "/work/bb1152/u290372/REA_output/heat_wEU_JJA/NCAR/CESM2/ssp370-2025-x1/mon/atmos/ua200/ens051/ua200_mon_CESM2_ssp370-2025-x1_ens051_2025.nc\n",
      "/work/bb1152/u290372/REA_output/heat_wEU_JJA/NCAR/CESM2/ssp370-2025-x1/mon/atmos/ua200/ens052/ua200_mon_CESM2_ssp370-2025-x1_ens052_2025.nc\n",
      "/work/bb1152/u290372/REA_output/heat_wEU_JJA/NCAR/CESM2/ssp370-2025-x1/mon/atmos/ua200/ens053/ua200_mon_CESM2_ssp370-2025-x1_ens053_2025.nc\n",
      "/work/bb1152/u290372/REA_output/heat_wEU_JJA/NCAR/CESM2/ssp370-2025-x1/mon/atmos/ua200/ens054/ua200_mon_CESM2_ssp370-2025-x1_ens054_2025.nc\n",
      "/work/bb1152/u290372/REA_output/heat_wEU_JJA/NCAR/CESM2/ssp370-2025-x1/mon/atmos/ua200/ens055/ua200_mon_CESM2_ssp370-2025-x1_ens055_2025.nc\n",
      "/work/bb1152/u290372/REA_output/heat_wEU_JJA/NCAR/CESM2/ssp370-2025-x1/mon/atmos/ua200/ens056/ua200_mon_CESM2_ssp370-2025-x1_ens056_2025.nc\n",
      "/work/bb1152/u290372/REA_output/heat_wEU_JJA/NCAR/CESM2/ssp370-2025-x1/mon/atmos/ua200/ens057/ua200_mon_CESM2_ssp370-2025-x1_ens057_2025.nc\n",
      "/work/bb1152/u290372/REA_output/heat_wEU_JJA/NCAR/CESM2/ssp370-2025-x1/mon/atmos/ua200/ens058/ua200_mon_CESM2_ssp370-2025-x1_ens058_2025.nc\n",
      "/work/bb1152/u290372/REA_output/heat_wEU_JJA/NCAR/CESM2/ssp370-2025-x1/mon/atmos/ua200/ens059/ua200_mon_CESM2_ssp370-2025-x1_ens059_2025.nc\n",
      "/work/bb1152/u290372/REA_output/heat_wEU_JJA/NCAR/CESM2/ssp370-2025-x1/mon/atmos/ua200/ens060/ua200_mon_CESM2_ssp370-2025-x1_ens060_2025.nc\n",
      "/work/bb1152/u290372/REA_output/heat_wEU_JJA/NCAR/CESM2/ssp370-2025-x1/mon/atmos/ua200/ens061/ua200_mon_CESM2_ssp370-2025-x1_ens061_2025.nc\n",
      "/work/bb1152/u290372/REA_output/heat_wEU_JJA/NCAR/CESM2/ssp370-2025-x1/mon/atmos/ua200/ens062/ua200_mon_CESM2_ssp370-2025-x1_ens062_2025.nc\n",
      "/work/bb1152/u290372/REA_output/heat_wEU_JJA/NCAR/CESM2/ssp370-2025-x1/mon/atmos/ua200/ens063/ua200_mon_CESM2_ssp370-2025-x1_ens063_2025.nc\n",
      "/work/bb1152/u290372/REA_output/heat_wEU_JJA/NCAR/CESM2/ssp370-2025-x1/mon/atmos/ua200/ens064/ua200_mon_CESM2_ssp370-2025-x1_ens064_2025.nc\n",
      "/work/bb1152/u290372/REA_output/heat_wEU_JJA/NCAR/CESM2/ssp370-2025-x1/mon/atmos/ua200/ens065/ua200_mon_CESM2_ssp370-2025-x1_ens065_2025.nc\n",
      "/work/bb1152/u290372/REA_output/heat_wEU_JJA/NCAR/CESM2/ssp370-2025-x1/mon/atmos/ua200/ens066/ua200_mon_CESM2_ssp370-2025-x1_ens066_2025.nc\n",
      "/work/bb1152/u290372/REA_output/heat_wEU_JJA/NCAR/CESM2/ssp370-2025-x1/mon/atmos/ua200/ens067/ua200_mon_CESM2_ssp370-2025-x1_ens067_2025.nc\n",
      "/work/bb1152/u290372/REA_output/heat_wEU_JJA/NCAR/CESM2/ssp370-2025-x1/mon/atmos/ua200/ens068/ua200_mon_CESM2_ssp370-2025-x1_ens068_2025.nc\n",
      "/work/bb1152/u290372/REA_output/heat_wEU_JJA/NCAR/CESM2/ssp370-2025-x1/mon/atmos/ua200/ens069/ua200_mon_CESM2_ssp370-2025-x1_ens069_2025.nc\n",
      "/work/bb1152/u290372/REA_output/heat_wEU_JJA/NCAR/CESM2/ssp370-2025-x1/mon/atmos/ua200/ens070/ua200_mon_CESM2_ssp370-2025-x1_ens070_2025.nc\n",
      "/work/bb1152/u290372/REA_output/heat_wEU_JJA/NCAR/CESM2/ssp370-2025-x1/mon/atmos/ua200/ens071/ua200_mon_CESM2_ssp370-2025-x1_ens071_2025.nc\n",
      "/work/bb1152/u290372/REA_output/heat_wEU_JJA/NCAR/CESM2/ssp370-2025-x1/mon/atmos/ua200/ens072/ua200_mon_CESM2_ssp370-2025-x1_ens072_2025.nc\n",
      "/work/bb1152/u290372/REA_output/heat_wEU_JJA/NCAR/CESM2/ssp370-2025-x1/mon/atmos/ua200/ens073/ua200_mon_CESM2_ssp370-2025-x1_ens073_2025.nc\n",
      "/work/bb1152/u290372/REA_output/heat_wEU_JJA/NCAR/CESM2/ssp370-2025-x1/mon/atmos/ua200/ens074/ua200_mon_CESM2_ssp370-2025-x1_ens074_2025.nc\n",
      "/work/bb1152/u290372/REA_output/heat_wEU_JJA/NCAR/CESM2/ssp370-2025-x1/mon/atmos/ua200/ens075/ua200_mon_CESM2_ssp370-2025-x1_ens075_2025.nc\n",
      "/work/bb1152/u290372/REA_output/heat_wEU_JJA/NCAR/CESM2/ssp370-2025-x1/mon/atmos/ua200/ens076/ua200_mon_CESM2_ssp370-2025-x1_ens076_2025.nc\n",
      "/work/bb1152/u290372/REA_output/heat_wEU_JJA/NCAR/CESM2/ssp370-2025-x1/mon/atmos/ua200/ens077/ua200_mon_CESM2_ssp370-2025-x1_ens077_2025.nc\n",
      "/work/bb1152/u290372/REA_output/heat_wEU_JJA/NCAR/CESM2/ssp370-2025-x1/mon/atmos/ua200/ens078/ua200_mon_CESM2_ssp370-2025-x1_ens078_2025.nc\n",
      "/work/bb1152/u290372/REA_output/heat_wEU_JJA/NCAR/CESM2/ssp370-2025-x1/mon/atmos/ua200/ens079/ua200_mon_CESM2_ssp370-2025-x1_ens079_2025.nc\n",
      "/work/bb1152/u290372/REA_output/heat_wEU_JJA/NCAR/CESM2/ssp370-2025-x1/mon/atmos/ua200/ens080/ua200_mon_CESM2_ssp370-2025-x1_ens080_2025.nc\n",
      "/work/bb1152/u290372/REA_output/heat_wEU_JJA/NCAR/CESM2/ssp370-2025-x1/mon/atmos/ua200/ens081/ua200_mon_CESM2_ssp370-2025-x1_ens081_2025.nc\n",
      "/work/bb1152/u290372/REA_output/heat_wEU_JJA/NCAR/CESM2/ssp370-2025-x1/mon/atmos/ua200/ens082/ua200_mon_CESM2_ssp370-2025-x1_ens082_2025.nc\n",
      "/work/bb1152/u290372/REA_output/heat_wEU_JJA/NCAR/CESM2/ssp370-2025-x1/mon/atmos/ua200/ens083/ua200_mon_CESM2_ssp370-2025-x1_ens083_2025.nc\n",
      "/work/bb1152/u290372/REA_output/heat_wEU_JJA/NCAR/CESM2/ssp370-2025-x1/mon/atmos/ua200/ens084/ua200_mon_CESM2_ssp370-2025-x1_ens084_2025.nc\n",
      "/work/bb1152/u290372/REA_output/heat_wEU_JJA/NCAR/CESM2/ssp370-2025-x1/mon/atmos/ua200/ens085/ua200_mon_CESM2_ssp370-2025-x1_ens085_2025.nc\n",
      "/work/bb1152/u290372/REA_output/heat_wEU_JJA/NCAR/CESM2/ssp370-2025-x1/mon/atmos/ua200/ens086/ua200_mon_CESM2_ssp370-2025-x1_ens086_2025.nc\n",
      "/work/bb1152/u290372/REA_output/heat_wEU_JJA/NCAR/CESM2/ssp370-2025-x1/mon/atmos/ua200/ens087/ua200_mon_CESM2_ssp370-2025-x1_ens087_2025.nc\n",
      "/work/bb1152/u290372/REA_output/heat_wEU_JJA/NCAR/CESM2/ssp370-2025-x1/mon/atmos/ua200/ens088/ua200_mon_CESM2_ssp370-2025-x1_ens088_2025.nc\n",
      "/work/bb1152/u290372/REA_output/heat_wEU_JJA/NCAR/CESM2/ssp370-2025-x1/mon/atmos/ua200/ens089/ua200_mon_CESM2_ssp370-2025-x1_ens089_2025.nc\n",
      "/work/bb1152/u290372/REA_output/heat_wEU_JJA/NCAR/CESM2/ssp370-2025-x1/mon/atmos/ua200/ens090/ua200_mon_CESM2_ssp370-2025-x1_ens090_2025.nc\n",
      "/work/bb1152/u290372/REA_output/heat_wEU_JJA/NCAR/CESM2/ssp370-2025-x1/mon/atmos/ua200/ens091/ua200_mon_CESM2_ssp370-2025-x1_ens091_2025.nc\n",
      "/work/bb1152/u290372/REA_output/heat_wEU_JJA/NCAR/CESM2/ssp370-2025-x1/mon/atmos/ua200/ens092/ua200_mon_CESM2_ssp370-2025-x1_ens092_2025.nc\n",
      "/work/bb1152/u290372/REA_output/heat_wEU_JJA/NCAR/CESM2/ssp370-2025-x1/mon/atmos/ua200/ens093/ua200_mon_CESM2_ssp370-2025-x1_ens093_2025.nc\n",
      "/work/bb1152/u290372/REA_output/heat_wEU_JJA/NCAR/CESM2/ssp370-2025-x1/mon/atmos/ua200/ens094/ua200_mon_CESM2_ssp370-2025-x1_ens094_2025.nc\n",
      "/work/bb1152/u290372/REA_output/heat_wEU_JJA/NCAR/CESM2/ssp370-2025-x1/mon/atmos/ua200/ens095/ua200_mon_CESM2_ssp370-2025-x1_ens095_2025.nc\n",
      "/work/bb1152/u290372/REA_output/heat_wEU_JJA/NCAR/CESM2/ssp370-2025-x1/mon/atmos/ua200/ens096/ua200_mon_CESM2_ssp370-2025-x1_ens096_2025.nc\n",
      "/work/bb1152/u290372/REA_output/heat_wEU_JJA/NCAR/CESM2/ssp370-2025-x1/mon/atmos/ua200/ens097/ua200_mon_CESM2_ssp370-2025-x1_ens097_2025.nc\n",
      "/work/bb1152/u290372/REA_output/heat_wEU_JJA/NCAR/CESM2/ssp370-2025-x1/mon/atmos/ua200/ens098/ua200_mon_CESM2_ssp370-2025-x1_ens098_2025.nc\n",
      "/work/bb1152/u290372/REA_output/heat_wEU_JJA/NCAR/CESM2/ssp370-2025-x1/mon/atmos/ua200/ens099/ua200_mon_CESM2_ssp370-2025-x1_ens099_2025.nc\n",
      "/work/bb1152/u290372/REA_output/heat_wEU_JJA/NCAR/CESM2/ssp370-2025-x1/mon/atmos/ua200/ens100/ua200_mon_CESM2_ssp370-2025-x1_ens100_2025.nc\n",
      "/work/bb1152/u290372/REA_output/heat_wEU_JJA/NCAR/CESM2/ssp370-2025-x1/mon/atmos/ua200/ens101/ua200_mon_CESM2_ssp370-2025-x1_ens101_2025.nc\n",
      "/work/bb1152/u290372/REA_output/heat_wEU_JJA/NCAR/CESM2/ssp370-2025-x1/mon/atmos/ua200/ens102/ua200_mon_CESM2_ssp370-2025-x1_ens102_2025.nc\n",
      "/work/bb1152/u290372/REA_output/heat_wEU_JJA/NCAR/CESM2/ssp370-2025-x1/mon/atmos/ua200/ens103/ua200_mon_CESM2_ssp370-2025-x1_ens103_2025.nc\n",
      "/work/bb1152/u290372/REA_output/heat_wEU_JJA/NCAR/CESM2/ssp370-2025-x1/mon/atmos/ua200/ens104/ua200_mon_CESM2_ssp370-2025-x1_ens104_2025.nc\n",
      "/work/bb1152/u290372/REA_output/heat_wEU_JJA/NCAR/CESM2/ssp370-2025-x1/mon/atmos/ua200/ens105/ua200_mon_CESM2_ssp370-2025-x1_ens105_2025.nc\n",
      "/work/bb1152/u290372/REA_output/heat_wEU_JJA/NCAR/CESM2/ssp370-2025-x1/mon/atmos/ua200/ens106/ua200_mon_CESM2_ssp370-2025-x1_ens106_2025.nc\n",
      "/work/bb1152/u290372/REA_output/heat_wEU_JJA/NCAR/CESM2/ssp370-2025-x1/mon/atmos/ua200/ens107/ua200_mon_CESM2_ssp370-2025-x1_ens107_2025.nc\n",
      "/work/bb1152/u290372/REA_output/heat_wEU_JJA/NCAR/CESM2/ssp370-2025-x1/mon/atmos/ua200/ens108/ua200_mon_CESM2_ssp370-2025-x1_ens108_2025.nc\n",
      "/work/bb1152/u290372/REA_output/heat_wEU_JJA/NCAR/CESM2/ssp370-2025-x1/mon/atmos/ua200/ens109/ua200_mon_CESM2_ssp370-2025-x1_ens109_2025.nc\n",
      "/work/bb1152/u290372/REA_output/heat_wEU_JJA/NCAR/CESM2/ssp370-2025-x1/mon/atmos/ua200/ens110/ua200_mon_CESM2_ssp370-2025-x1_ens110_2025.nc\n",
      "/work/bb1152/u290372/REA_output/heat_wEU_JJA/NCAR/CESM2/ssp370-2025-x1/mon/atmos/ua200/ens111/ua200_mon_CESM2_ssp370-2025-x1_ens111_2025.nc\n",
      "/work/bb1152/u290372/REA_output/heat_wEU_JJA/NCAR/CESM2/ssp370-2025-x1/mon/atmos/ua200/ens112/ua200_mon_CESM2_ssp370-2025-x1_ens112_2025.nc\n",
      "/work/bb1152/u290372/REA_output/heat_wEU_JJA/NCAR/CESM2/ssp370-2025-x1/mon/atmos/ua200/ens113/ua200_mon_CESM2_ssp370-2025-x1_ens113_2025.nc\n",
      "/work/bb1152/u290372/REA_output/heat_wEU_JJA/NCAR/CESM2/ssp370-2025-x1/mon/atmos/ua200/ens114/ua200_mon_CESM2_ssp370-2025-x1_ens114_2025.nc\n",
      "/work/bb1152/u290372/REA_output/heat_wEU_JJA/NCAR/CESM2/ssp370-2025-x1/mon/atmos/ua200/ens115/ua200_mon_CESM2_ssp370-2025-x1_ens115_2025.nc\n",
      "/work/bb1152/u290372/REA_output/heat_wEU_JJA/NCAR/CESM2/ssp370-2025-x1/mon/atmos/ua200/ens116/ua200_mon_CESM2_ssp370-2025-x1_ens116_2025.nc\n",
      "/work/bb1152/u290372/REA_output/heat_wEU_JJA/NCAR/CESM2/ssp370-2025-x1/mon/atmos/ua200/ens117/ua200_mon_CESM2_ssp370-2025-x1_ens117_2025.nc\n",
      "/work/bb1152/u290372/REA_output/heat_wEU_JJA/NCAR/CESM2/ssp370-2025-x1/mon/atmos/ua200/ens118/ua200_mon_CESM2_ssp370-2025-x1_ens118_2025.nc\n",
      "/work/bb1152/u290372/REA_output/heat_wEU_JJA/NCAR/CESM2/ssp370-2025-x1/mon/atmos/ua200/ens119/ua200_mon_CESM2_ssp370-2025-x1_ens119_2025.nc\n",
      "/work/bb1152/u290372/REA_output/heat_wEU_JJA/NCAR/CESM2/ssp370-2025-x1/mon/atmos/ua200/ens120/ua200_mon_CESM2_ssp370-2025-x1_ens120_2025.nc\n",
      "/work/bb1152/u290372/REA_output/heat_wEU_JJA/NCAR/CESM2/ssp370-2025-x1/mon/atmos/ua200/ens121/ua200_mon_CESM2_ssp370-2025-x1_ens121_2025.nc\n",
      "/work/bb1152/u290372/REA_output/heat_wEU_JJA/NCAR/CESM2/ssp370-2025-x1/mon/atmos/ua200/ens122/ua200_mon_CESM2_ssp370-2025-x1_ens122_2025.nc\n",
      "/work/bb1152/u290372/REA_output/heat_wEU_JJA/NCAR/CESM2/ssp370-2025-x1/mon/atmos/ua200/ens123/ua200_mon_CESM2_ssp370-2025-x1_ens123_2025.nc\n",
      "/work/bb1152/u290372/REA_output/heat_wEU_JJA/NCAR/CESM2/ssp370-2025-x1/mon/atmos/ua200/ens124/ua200_mon_CESM2_ssp370-2025-x1_ens124_2025.nc\n",
      "/work/bb1152/u290372/REA_output/heat_wEU_JJA/NCAR/CESM2/ssp370-2025-x1/mon/atmos/ua200/ens125/ua200_mon_CESM2_ssp370-2025-x1_ens125_2025.nc\n",
      "/work/bb1152/u290372/REA_output/heat_wEU_JJA/NCAR/CESM2/ssp370-2025-x1/mon/atmos/ua200/ens126/ua200_mon_CESM2_ssp370-2025-x1_ens126_2025.nc\n"
     ]
    },
    {
     "ename": "TypeError",
     "evalue": "extract_initial() got an unexpected keyword argument 'time_frequency'",
     "output_type": "error",
     "traceback": [
      "\u001b[0;31m---------------------------------------------------------------------------\u001b[0m",
      "\u001b[0;31mTypeError\u001b[0m                                 Traceback (most recent call last)",
      "Cell \u001b[0;32mIn[11], line 17\u001b[0m\n\u001b[1;32m      6\u001b[0m l \u001b[38;5;241m=\u001b[39m extract_rea(\n\u001b[1;32m      7\u001b[0m     exp,\n\u001b[1;32m      8\u001b[0m     variable \u001b[38;5;241m=\u001b[39m variable,\n\u001b[0;32m   (...)\u001b[0m\n\u001b[1;32m     13\u001b[0m     overwrite \u001b[38;5;241m=\u001b[39m overwrite,\n\u001b[1;32m     14\u001b[0m )\n\u001b[1;32m     16\u001b[0m \u001b[38;5;28;01mif\u001b[39;00m \u001b[38;5;124m'\u001b[39m\u001b[38;5;124m1\u001b[39m\u001b[38;5;124m'\u001b[39m \u001b[38;5;129;01min\u001b[39;00m experiment_identifier:\n\u001b[0;32m---> 17\u001b[0m     \u001b[43mextract_initial\u001b[49m\u001b[43m(\u001b[49m\n\u001b[1;32m     18\u001b[0m \u001b[43m        \u001b[49m\u001b[43mexp\u001b[49m\u001b[43m,\u001b[49m\n\u001b[1;32m     19\u001b[0m \u001b[43m        \u001b[49m\u001b[43mvariable\u001b[49m\u001b[43m \u001b[49m\u001b[38;5;241;43m=\u001b[39;49m\u001b[43m \u001b[49m\u001b[43mvariable\u001b[49m\u001b[43m,\u001b[49m\n\u001b[1;32m     20\u001b[0m \u001b[43m        \u001b[49m\u001b[43mrealm\u001b[49m\u001b[43m \u001b[49m\u001b[38;5;241;43m=\u001b[39;49m\u001b[43m \u001b[49m\u001b[43mrealm\u001b[49m\u001b[43m,\u001b[49m\n\u001b[1;32m     21\u001b[0m \u001b[43m        \u001b[49m\u001b[43mh_identifier\u001b[49m\u001b[43m \u001b[49m\u001b[38;5;241;43m=\u001b[39;49m\u001b[43m \u001b[49m\u001b[43mh_identifier\u001b[49m\u001b[43m,\u001b[49m\n\u001b[1;32m     22\u001b[0m \u001b[43m        \u001b[49m\u001b[43mtime_frequency\u001b[49m\u001b[43m \u001b[49m\u001b[38;5;241;43m=\u001b[39;49m\u001b[43m \u001b[49m\u001b[43mtime_frequency\u001b[49m\u001b[43m,\u001b[49m\n\u001b[1;32m     23\u001b[0m \u001b[43m        \u001b[49m\u001b[43mpreprocessing_module\u001b[49m\u001b[43m \u001b[49m\u001b[38;5;241;43m=\u001b[39;49m\u001b[43m \u001b[49m\u001b[43mpreprocessing_module\u001b[49m\u001b[43m,\u001b[49m\n\u001b[1;32m     24\u001b[0m \u001b[43m        \u001b[49m\u001b[43moverwrite\u001b[49m\u001b[43m \u001b[49m\u001b[38;5;241;43m=\u001b[39;49m\u001b[43m \u001b[49m\u001b[43moverwrite\u001b[49m\u001b[43m,\u001b[49m\n\u001b[1;32m     25\u001b[0m \u001b[43m    \u001b[49m\u001b[43m)\u001b[49m\n",
      "\u001b[0;31mTypeError\u001b[0m: extract_initial() got an unexpected keyword argument 'time_frequency'"
     ]
    }
   ],
   "source": [
    "for experiment_identifier in [f\"c{i}\" for i in range(1,6)] + [f\"p{i}\" for i in range(1,6)]:\n",
    "    print(experiment_identifier)\n",
    "    # load experiment configuration settings\n",
    "    exp = experiment(importlib.import_module(f\"experiment_configuration.{experiment_identifier}\").config)\n",
    "\n",
    "    l = extract_rea(\n",
    "        exp,\n",
    "        variable = variable,\n",
    "        realm = realm,\n",
    "        h_identifier = h_identifier,\n",
    "        time_frequency = time_frequency,\n",
    "        preprocessing_module = preprocessing_module,\n",
    "        overwrite = overwrite,\n",
    "    )\n",
    "\n",
    "    if '1' in experiment_identifier:\n",
    "        extract_initial(\n",
    "            exp,\n",
    "            variable = variable,\n",
    "            realm = realm,\n",
    "            h_identifier = h_identifier,\n",
    "            time_frequency = time_frequency,\n",
    "            preprocessing_module = preprocessing_module,\n",
    "            overwrite = overwrite,\n",
    "        )\n",
    "    \n",
    "\n"
   ]
  },
  {
   "cell_type": "code",
   "execution_count": 17,
   "metadata": {},
   "outputs": [],
   "source": [
    "for experiment_identifier in [f\"c{i}\" for i in [1]] + [f\"p{i}\" for i in [1]]:\n",
    "    exp = experiment(importlib.import_module(f\"experiment_configuration.{experiment_identifier}\").config)\n",
    "\n",
    "    extract_initial(\n",
    "        exp,\n",
    "        variable = variable,\n",
    "        realm = realm,\n",
    "        h_identifier = h_identifier,\n",
    "        time_frequency = time_frequency,\n",
    "        preprocessing_module = preprocessing_module,\n",
    "        overwrite = overwrite,\n",
    "    )"
   ]
  },
  {
   "cell_type": "code",
   "execution_count": 7,
   "metadata": {},
   "outputs": [
    {
     "data": {
      "text/plain": [
       "[]"
      ]
     },
     "execution_count": 7,
     "metadata": {},
     "output_type": "execute_result"
    }
   ],
   "source": [
    "l"
   ]
  },
  {
   "cell_type": "code",
   "execution_count": 9,
   "metadata": {},
   "outputs": [
    {
     "data": {
      "text/plain": [
       "'c1'"
      ]
     },
     "execution_count": 9,
     "metadata": {},
     "output_type": "execute_result"
    }
   ],
   "source": [
    "experiment_identifier"
   ]
  },
  {
   "cell_type": "code",
   "execution_count": null,
   "metadata": {},
   "outputs": [],
   "source": []
  }
 ],
 "metadata": {
  "kernelspec": {
   "display_name": "py_imps",
   "language": "python",
   "name": "python3"
  },
  "language_info": {
   "codemirror_mode": {
    "name": "ipython",
    "version": 3
   },
   "file_extension": ".py",
   "mimetype": "text/x-python",
   "name": "python",
   "nbconvert_exporter": "python",
   "pygments_lexer": "ipython3",
   "version": "3.10.17"
  }
 },
 "nbformat": 4,
 "nbformat_minor": 2
}
