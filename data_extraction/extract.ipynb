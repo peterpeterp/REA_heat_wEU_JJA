{
 "cells": [
  {
   "cell_type": "code",
   "execution_count": 13,
   "metadata": {},
   "outputs": [
    {
     "name": "stdout",
     "output_type": "stream",
     "text": [
      "The autoreload extension is already loaded. To reload it, use:\n",
      "  %reload_ext autoreload\n"
     ]
    }
   ],
   "source": [
    "import os,sys,subprocess,glob,cftime,importlib,pickle,itertools\n",
    "from datetime import datetime\n",
    "import xarray as xr\n",
    "import numpy as np\n",
    "sys.path.append('../')\n",
    "\n",
    "sys.path.append('../../REA_with_CESM2')\n",
    "from ensembles.ensemble_GKLT import ensemble_GKLT\n",
    "from data_extractor.data_extractor import extract_rea,extract_initial\n",
    "\n",
    "from experiment_configuration.experiment import experiment\n",
    "\n",
    "%load_ext autoreload\n",
    "%autoreload 2"
   ]
  },
  {
   "cell_type": "code",
   "execution_count": 14,
   "metadata": {},
   "outputs": [],
   "source": [
    "variable = 'TREFHT'\n",
    "realm = 'atm'\n",
    "h_identifier = 'h1'\n",
    "overwrite = False\n",
    "preprocessing = 'main_obs'"
   ]
  },
  {
   "cell_type": "code",
   "execution_count": 19,
   "metadata": {},
   "outputs": [],
   "source": [
    "preprocessing_module = importlib.import_module(f\"preprocessing.{preprocessing}\")"
   ]
  },
  {
   "cell_type": "code",
   "execution_count": 20,
   "metadata": {},
   "outputs": [
    {
     "name": "stdout",
     "output_type": "stream",
     "text": [
      "c1\n",
      "/work/bb1152/u290372/REA_output/heat_wEU_JJA/NCAR/CESM2/ssp370-2025-x1/day/atmos/tas-reg/ens001/tas-reg_day_CESM2_ssp370-2025-x1_ens001_2025.nc\n",
      "/work/bb1152/u290372/REA_output/heat_wEU_JJA/NCAR/CESM2/ssp370-2025-x1/day/atmos/tas-reg/ens002/tas-reg_day_CESM2_ssp370-2025-x1_ens002_2025.nc\n"
     ]
    },
    {
     "ename": "NameError",
     "evalue": "name 'asdas' is not defined",
     "output_type": "error",
     "traceback": [
      "\u001b[0;31m---------------------------------------------------------------------------\u001b[0m",
      "\u001b[0;31mNameError\u001b[0m                                 Traceback (most recent call last)",
      "Cell \u001b[0;32mIn[20], line 15\u001b[0m\n\u001b[1;32m      4\u001b[0m exp \u001b[38;5;241m=\u001b[39m experiment(importlib\u001b[38;5;241m.\u001b[39mimport_module(\u001b[38;5;124mf\u001b[39m\u001b[38;5;124m\"\u001b[39m\u001b[38;5;124mexperiment_configuration.\u001b[39m\u001b[38;5;132;01m{\u001b[39;00mexperiment_identifier\u001b[38;5;132;01m}\u001b[39;00m\u001b[38;5;124m\"\u001b[39m)\u001b[38;5;241m.\u001b[39mconfig)\n\u001b[1;32m      6\u001b[0m extract_rea(\n\u001b[1;32m      7\u001b[0m     exp,\n\u001b[1;32m      8\u001b[0m     variable \u001b[38;5;241m=\u001b[39m variable,\n\u001b[0;32m   (...)\u001b[0m\n\u001b[1;32m     12\u001b[0m     overwrite \u001b[38;5;241m=\u001b[39m \u001b[38;5;28;01mTrue\u001b[39;00m,\n\u001b[1;32m     13\u001b[0m )\n\u001b[0;32m---> 15\u001b[0m \u001b[43masdas\u001b[49m\n\u001b[1;32m     17\u001b[0m \u001b[38;5;28;01mif\u001b[39;00m \u001b[38;5;124m'\u001b[39m\u001b[38;5;124m1\u001b[39m\u001b[38;5;124m'\u001b[39m \u001b[38;5;129;01min\u001b[39;00m experiment_identifier:\n\u001b[1;32m     18\u001b[0m     extract_initial(\n\u001b[1;32m     19\u001b[0m         exp,\n\u001b[1;32m     20\u001b[0m         variable \u001b[38;5;241m=\u001b[39m variable,\n\u001b[0;32m   (...)\u001b[0m\n\u001b[1;32m     23\u001b[0m         overwrite \u001b[38;5;241m=\u001b[39m overwrite,\n\u001b[1;32m     24\u001b[0m     )\n",
      "\u001b[0;31mNameError\u001b[0m: name 'asdas' is not defined"
     ]
    }
   ],
   "source": [
    "for experiment_identifier in [f\"c{i}\" for i in range(1,6)] + [f\"p{i}\" for i in range(1,6)]:\n",
    "    print(experiment_identifier)\n",
    "    # load experiment configuration settings\n",
    "    exp = experiment(importlib.import_module(f\"experiment_configuration.{experiment_identifier}\").config)\n",
    "\n",
    "    extract_rea(\n",
    "        exp,\n",
    "        variable = variable,\n",
    "        realm = realm,\n",
    "        h_identifier = h_identifier,\n",
    "        preprocessing_module = preprocessing_module,\n",
    "        overwrite = overwrite,\n",
    "    )\n",
    "\n",
    "    if '1' in experiment_identifier:\n",
    "        extract_initial(\n",
    "            exp,\n",
    "            variable = variable,\n",
    "            realm = realm,\n",
    "            h_identifier = h_identifier,\n",
    "            preprocessing_module = preprocessing_module,\n",
    "            overwrite = overwrite,\n",
    "        )\n",
    "    \n",
    "\n"
   ]
  },
  {
   "cell_type": "code",
   "execution_count": 9,
   "metadata": {},
   "outputs": [
    {
     "data": {
      "text/plain": [
       "'c1'"
      ]
     },
     "execution_count": 9,
     "metadata": {},
     "output_type": "execute_result"
    }
   ],
   "source": [
    "experiment_identifier"
   ]
  },
  {
   "cell_type": "code",
   "execution_count": null,
   "metadata": {},
   "outputs": [],
   "source": []
  }
 ],
 "metadata": {
  "kernelspec": {
   "display_name": "py_imps",
   "language": "python",
   "name": "python3"
  },
  "language_info": {
   "codemirror_mode": {
    "name": "ipython",
    "version": 3
   },
   "file_extension": ".py",
   "mimetype": "text/x-python",
   "name": "python",
   "nbconvert_exporter": "python",
   "pygments_lexer": "ipython3",
   "version": "3.9.20"
  }
 },
 "nbformat": 4,
 "nbformat_minor": 2
}
