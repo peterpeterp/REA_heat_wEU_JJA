{
 "cells": [
  {
   "cell_type": "code",
   "execution_count": 1,
   "metadata": {},
   "outputs": [],
   "source": [
    "import os,sys,subprocess,glob,cftime,importlib,pickle,itertools\n",
    "from datetime import datetime\n",
    "import xarray as xr\n",
    "import numpy as np\n",
    "sys.path.append('../')\n",
    "\n",
    "sys.path.append('../../REA_with_CESM2')\n",
    "from ensembles.ensemble_GKLT import ensemble_GKLT\n",
    "\n",
    "from experiment_configuration.c1 import config\n",
    "\n",
    "%load_ext autoreload\n",
    "%autoreload 2"
   ]
  },
  {
   "cell_type": "code",
   "execution_count": 2,
   "metadata": {},
   "outputs": [
    {
     "data": {
      "text/plain": [
       "'\\nimport argparse\\nparser = argparse.ArgumentParser()\\nparser.add_argument(\"--experiment\", type=str)\\nparser.add_argument(\"--verbose\", action=\\'store_true\\')\\nparser.add_argument(\"--overwrite\", action=\\'store_true\\')\\nparser.add_argument(\"--realm\", type=str)\\nparser.add_argument(\"--h_identifier\", type=str)\\nparser.add_argument(\"--var_name\", type=str)\\ncommand_line_arguments = parser.parse_args()\\n'"
      ]
     },
     "execution_count": 2,
     "metadata": {},
     "output_type": "execute_result"
    }
   ],
   "source": [
    "'''\n",
    "import argparse\n",
    "parser = argparse.ArgumentParser()\n",
    "parser.add_argument(\"--experiment\", type=str)\n",
    "parser.add_argument(\"--verbose\", action='store_true')\n",
    "parser.add_argument(\"--overwrite\", action='store_true')\n",
    "parser.add_argument(\"--realm\", type=str)\n",
    "parser.add_argument(\"--h_identifier\", type=str)\n",
    "parser.add_argument(\"--var_name\", type=str)\n",
    "command_line_arguments = parser.parse_args()\n",
    "'''"
   ]
  },
  {
   "cell_type": "code",
   "execution_count": 3,
   "metadata": {},
   "outputs": [],
   "source": [
    "realm_dict = {\n",
    "    'atm' : 'atmos',\n",
    "}\n",
    "\n",
    "variable_dict = {\n",
    "    'TREFHT' : 'tas',\n",
    "    'U500' : 'ua500',\n",
    "}"
   ]
  },
  {
   "cell_type": "code",
   "execution_count": 6,
   "metadata": {},
   "outputs": [],
   "source": [
    "overwrite = True\n",
    "variable = 'TREFHT'\n",
    "realm = 'atm'\n",
    "h_identifier = 'h1'\n",
    "extract_initial = True"
   ]
  },
  {
   "cell_type": "code",
   "execution_count": 7,
   "metadata": {},
   "outputs": [
    {
     "name": "stdout",
     "output_type": "stream",
     "text": [
      "c1\n",
      "c2\n",
      "c3\n",
      "c4\n",
      "c5\n",
      "p1\n",
      "p2\n",
      "p3\n",
      "p4\n",
      "p5\n"
     ]
    }
   ],
   "source": [
    "for experimetn_identifier in [f\"c{i}\" for i in range(1,6)] + [f\"p{i}\" for i in range(1,6)]:\n",
    "    print(experimetn_identifier)\n",
    "    # load configuration settings\n",
    "    experiment_configuration = importlib.import_module(f\"experiment_configuration.{experimetn_identifier}\")\n",
    "\n",
    "    # finalize experiment configuration\n",
    "    from experiment_configuration.experiment import experiment\n",
    "    exp = experiment(experiment_configuration.config)\n",
    "    ens = ensemble_GKLT(exp)\n",
    "\n",
    "    naming_d = {\n",
    "        \"project\": 'REA_output',\n",
    "        \"product\": exp.product_name,\n",
    "        \"institute\": 'NCAR',\n",
    "        \"model\": 'CESM2',\n",
    "        \"experiment\": f\"{exp.initial_conditions_name}-x{exp.experiment_identifier[1]}\",\n",
    "        \"time_frequency\": \"day\",\n",
    "        \"realm\": realm_dict[realm],\n",
    "        \"variable\": variable_dict[variable],\n",
    "    }\n",
    "\n",
    "    out_dir = '/'.join([exp.dir_work] + [v for k,v in naming_d.items()])\n",
    "    out_dir\n",
    "    \n",
    "    trajectory_names = sorted([s for s in ens._sim_names if len(s.split('/')) == ens._exp.n_steps])\n",
    "    trajs = []\n",
    "    for i,sim_name in enumerate(trajectory_names[:2]):\n",
    "        out_file_name = f\"{out_dir}/{variable}_day_CESM2_{naming_d['experiment']}_ens{str(i+1).zfill(3)}_{exp.initial_condition_fake_year}.nc\"\n",
    "        if os.path.isfile(out_file_name) == False or overwrite:\n",
    "            todos = [['/'.join(sim_name.split('/')[:step])] for step in range(1,exp.n_steps+1)]\n",
    "            l = []\n",
    "            for step in range(1,exp.n_steps+1):\n",
    "                _sim_name_of_step_ = '/'.join(sim_name.split('/')[:step])\n",
    "                try:\n",
    "                    h_file = glob.glob(f\"{exp.dir_archive_post}/{_sim_name_of_step_}/{realm}/hist/*{h_identifier}*.nc\")[0]\n",
    "                    with xr.open_mfdataset(h_file) as nc:\n",
    "                        l.append(nc[variable])\n",
    "                except:\n",
    "                    pass\n",
    "            if len(l) == exp.n_steps:\n",
    "                x = xr.merge(l)[variable].sortby('time')\n",
    "                x = x.assign_coords(time=np.array([cftime.DatetimeNoLeap(exp.initial_condition_fake_year,month,day) for month,day in zip(x.time.dt.month.values,x.time.dt.day.values)]))\n",
    "                x = x.assign_coords(sim=sim_name)\n",
    "                ds = xr.Dataset({variable:x})\n",
    "                ds.attrs = nc.attrs\n",
    "                ds.attrs['simulation_name'] = sim_name\n",
    "                ds.attrs['initial_condition'] = exp.initial_conditions[i]\n",
    "                ds.attrs['initial_condition_year'] = exp.initial_conditions[i].split('/')[-1].split('-')[0]\n",
    "                ds.attrs['compset'] = exp.compset\n",
    "                ds.attrs['readme'] = \"https://github.com/peterpeterp/REA_heat_wEU_JJA\"\n",
    "                ds['time'].attrs['comment'] = f'This simulation represents the climate state of {exp.initial_conditions_name}. The year in the time axis can be ignored.'\n",
    "\n",
    "                os.makedirs(out_dir, exist_ok=True)\n",
    "                ds.to_netcdf(out_file_name)\n"
   ]
  },
  {
   "cell_type": "code",
   "execution_count": 11,
   "metadata": {},
   "outputs": [
    {
     "name": "stdout",
     "output_type": "stream",
     "text": [
      "c1\n",
      "p1\n"
     ]
    }
   ],
   "source": [
    "for experimetn_identifier in [\"c1\",\"p1\"]:\n",
    "    print(experimetn_identifier)\n",
    "    # load configuration settings\n",
    "    experiment_configuration = importlib.import_module(f\"experiment_configuration.{experimetn_identifier}\")\n",
    "\n",
    "    # finalize experiment configuration\n",
    "    from experiment_configuration.experiment import experiment\n",
    "    exp = experiment(experiment_configuration.config)\n",
    "\n",
    "    naming_d = {\n",
    "        \"project\": 'REA_output',\n",
    "        \"product\": exp.product_name,\n",
    "        \"institute\": 'NCAR',\n",
    "        \"model\": 'CESM2',\n",
    "        \"experiment\": f\"{exp.initial_conditions_name}-initial\",\n",
    "        \"time_frequency\": \"day\",\n",
    "        \"realm\": realm_dict[realm],\n",
    "        \"variable\": variable_dict[variable],\n",
    "    }\n",
    "\n",
    "    out_dir = '/'.join([exp.dir_work] + [v for k,v in naming_d.items()])\n",
    "\n",
    "    for i,initial_condition in enumerate(exp.initial_conditions[:3]):\n",
    "        case_identifier = initial_condition.split('.')[-4] + '_' + initial_condition.split('/')[-1].split('-')[0]\n",
    "        \n",
    "        out_file_name = f\"{out_dir}/{variable}_day_CESM2_{naming_d['experiment']}_ens{str(i+1).zfill(3)}_{exp.initial_condition_fake_year}.nc\"\n",
    "        if os.path.isfile(out_file_name) == False or overwrite:\n",
    "            archive_fldr = f\"{exp.dir_archive}/GKLT/initial_{exp.initial_conditions_name}/{case_identifier}\"\n",
    "            h_files = glob.glob(f\"{archive_fldr}/{realm}/hist/*{h_identifier}*.nc\")\n",
    "\n",
    "            try:\n",
    "                with xr.open_mfdataset(h_files) as nc:\n",
    "                    x = nc[variable]\n",
    "                    initial_condition_year = x.time.dt.year.values[0]\n",
    "                    fake_year = 2025\n",
    "                    x = x.assign_coords(time=np.array([cftime.DatetimeNoLeap(exp.initial_condition_fake_year,month,day) for month,day in zip(x.time.dt.month.values,x.time.dt.day.values)]))\n",
    "                    x = x.assign_coords(sim=case_identifier)\n",
    "                    ds = xr.Dataset({variable:x})\n",
    "                    ds.attrs = nc.attrs\n",
    "                    ds.attrs['initial_condition'] = initial_condition\n",
    "                    ds.attrs['initial_condition_year'] = initial_condition_year\n",
    "                    ds.attrs['compset'] = exp.compset\n",
    "                    ds.attrs['readme'] = \"https://github.com/peterpeterp/REA_heat_wEU_JJA\"\n",
    "                    ds['time'].attrs['comment'] = f'This simulation represents the climate state of {exp.initial_conditions_name}. The year in the time axis can be ignored.'\n",
    "                    os.makedirs(out_dir, exist_ok=True)\n",
    "                    ds.to_netcdf(out_file_name)\n",
    "            except:\n",
    "                pass"
   ]
  },
  {
   "cell_type": "code",
   "execution_count": null,
   "metadata": {},
   "outputs": [],
   "source": []
  }
 ],
 "metadata": {
  "kernelspec": {
   "display_name": "py_imps",
   "language": "python",
   "name": "python3"
  },
  "language_info": {
   "codemirror_mode": {
    "name": "ipython",
    "version": 3
   },
   "file_extension": ".py",
   "mimetype": "text/x-python",
   "name": "python",
   "nbconvert_exporter": "python",
   "pygments_lexer": "ipython3",
   "version": "3.9.20"
  }
 },
 "nbformat": 4,
 "nbformat_minor": 2
}
