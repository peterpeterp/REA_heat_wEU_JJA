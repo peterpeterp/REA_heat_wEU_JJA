{
 "cells": [
  {
   "cell_type": "code",
   "execution_count": 1,
   "metadata": {},
   "outputs": [],
   "source": [
    "import os,sys,subprocess,glob,cftime,importlib,pickle,itertools\n",
    "from datetime import datetime\n",
    "import xarray as xr\n",
    "import numpy as np\n",
    "sys.path.append('../')\n",
    "\n",
    "sys.path.append('../../REA_with_CESM2')\n",
    "from ensembles.ensemble_GKLT import ensemble_GKLT\n",
    "from data_extractor.data_extractor import extract_rea,extract_initial\n",
    "\n",
    "from experiment_configuration.experiment import experiment\n",
    "\n",
    "%load_ext autoreload\n",
    "%autoreload 2"
   ]
  },
  {
   "cell_type": "code",
   "execution_count": 4,
   "metadata": {},
   "outputs": [],
   "source": [
    "data_dir = '/work/bb1152/u290372/REA_output/heat_wEU_JJA/NCAR/CESM2/'"
   ]
  },
  {
   "cell_type": "code",
   "execution_count": 39,
   "metadata": {},
   "outputs": [],
   "source": [
    "# uniqueness\n",
    "for experiment_identifier in [f\"c{i}\" for i in range(1,6)] + [f\"p{i}\" for i in range(1,6)]:\n",
    "    exp = experiment(importlib.import_module(f\"experiment_configuration.{experiment_identifier}\").config)\n",
    "    ens = ensemble_GKLT(exp)\n",
    "\n",
    "    ens.get_weights_uniqueness()\n",
    "    out_folder = f\"{data_dir}/{exp.initial_conditions_name}-x{exp.experiment_identifier[1]}/meta\"\n",
    "    os.makedirs(out_folder, exist_ok=True)\n",
    "    xr.Dataset({'uniqueness':ens._weight_daily}).to_netcdf(f\"{out_folder}/uniqueness_day_{exp.initial_conditions_name}-x{exp.experiment_identifier[1]}.nc\")\n",
    "    xr.Dataset({'uniqueness':ens._weight_stepwise}).to_netcdf(f\"{out_folder}/uniqueness_step_{exp.initial_conditions_name}-x{exp.experiment_identifier[1]}.nc\")\n",
    "    xr.Dataset({'uniqueness':ens._weight}).to_netcdf(f\"{out_folder}/uniqueness_season_{exp.initial_conditions_name}-x{exp.experiment_identifier[1]}.nc\")"
   ]
  },
  {
   "cell_type": "code",
   "execution_count": null,
   "metadata": {},
   "outputs": [],
   "source": [
    "# probabilities\n",
    "for experiment_identifier in [f\"c{i}\" for i in range(1,6)] + [f\"p{i}\" for i in range(1,6)]:\n",
    "    exp = experiment(importlib.import_module(f\"experiment_configuration.{experiment_identifier}\").config)\n",
    "    ens = ensemble_GKLT(exp)\n",
    "    ens._trajectories['obs'] = xr.open_mfdataset(f\"{data_dir}/{exp.initial_conditions_name}-x{exp.experiment_identifier[1]}/day/atmos/tas-reg/*/*\", concat_dim='sim', combine='nested')['tas'].load()\n",
    "    ens.calc_scores_Ris_etc()\n",
    "\n",
    "    out_folder = f\"{data_dir}/{exp.initial_conditions_name}-x{exp.experiment_identifier[1]}/meta\"\n",
    "    os.makedirs(out_folder, exist_ok=True)\n",
    "    xr.Dataset({'probability':ens._prob}).to_netcdf(f\"{out_folder}/probability_season_{exp.initial_conditions_name}-x{exp.experiment_identifier[1]}.nc\")"
   ]
  },
  {
   "cell_type": "code",
   "execution_count": null,
   "metadata": {},
   "outputs": [],
   "source": []
  }
 ],
 "metadata": {
  "kernelspec": {
   "display_name": "py_imps",
   "language": "python",
   "name": "python3"
  },
  "language_info": {
   "codemirror_mode": {
    "name": "ipython",
    "version": 3
   },
   "file_extension": ".py",
   "mimetype": "text/x-python",
   "name": "python",
   "nbconvert_exporter": "python",
   "pygments_lexer": "ipython3",
   "version": "3.9.20"
  }
 },
 "nbformat": 4,
 "nbformat_minor": 2
}
