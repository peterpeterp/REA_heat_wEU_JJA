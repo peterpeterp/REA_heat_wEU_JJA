{
 "cells": [
  {
   "cell_type": "code",
   "execution_count": 2,
   "metadata": {},
   "outputs": [
    {
     "name": "stderr",
     "output_type": "stream",
     "text": [
      "/home/u/u290372/.conda/envs/py_imps/lib/python3.9/site-packages/pandas/core/arrays/masked.py:60: UserWarning: Pandas requires version '1.3.6' or newer of 'bottleneck' (version '1.3.5' currently installed).\n",
      "  from pandas.core import (\n"
     ]
    }
   ],
   "source": [
    "import sys,os,glob\n",
    "import xarray as xr\n",
    "import numpy as np\n",
    "\n",
    "sys.path.append('/home/u/u290372/projects/cesm215_peters_scripts')\n",
    "from settings import *"
   ]
  },
  {
   "cell_type": "code",
   "execution_count": 3,
   "metadata": {},
   "outputs": [],
   "source": [
    "restart_folders = sorted(glob.glob(f\"{dir_archive}/b.e215.B1850cmip6.f09_g17.001.fE.0500.ens000/rest/*\"))"
   ]
  },
  {
   "cell_type": "code",
   "execution_count": 4,
   "metadata": {},
   "outputs": [],
   "source": [
    "start_years = np.array([int(p.split('/')[-1].split('-')[0]) for p in restart_folders])\n",
    "start_years = start_years[::3][:126]\n",
    "start_years = [str(y).zfill(4) for y in start_years]"
   ]
  },
  {
   "cell_type": "markdown",
   "metadata": {},
   "source": [
    "### until end of April"
   ]
  },
  {
   "cell_type": "code",
   "execution_count": 5,
   "metadata": {},
   "outputs": [],
   "source": [
    "command_template=\"\"\"python ~/projects/cesm215_peters_scripts/branch.py\n",
    " --compset B1850cmip6 \n",
    " --parent b.e215.B1850cmip6.f09_g17.001.fE.0500.ens000  \n",
    " --output minimal\n",
    "\"\"\"\n",
    "\n",
    "command_template = ' '.join(command_template.replace('\\n',' ').split())\n",
    "\n",
    "with open('job_piControl_end_of_April.sh', 'w') as new_job_file:\n",
    "    with open('../slurm_job_files/job_main', 'r') as job_file_template:\n",
    "        for line in job_file_template.read().split('\\n'):\n",
    "            if len(line) > 0 and line[0] == '#':\n",
    "                new_job_file.write(line+'\\n')\n",
    "\n",
    "        for start_year in start_years:\n",
    "            command = command_template\n",
    "            if start_year != start_years[0]:\n",
    "                command += f\" --precompiled b.e215.B1850cmip6.f09_g17.001.fE.0500.ens000/branch/{start_years[0]}-01-01_to_{start_years[0]}-04-30\"\n",
    "            command += f\" --startdate {start_year}-01-01\"\n",
    "            command += f\" --enddate {start_year}-04-30\"\n",
    "            new_job_file.write(command+'\\n')  "
   ]
  },
  {
   "cell_type": "code",
   "execution_count": 7,
   "metadata": {},
   "outputs": [],
   "source": [
    "command_template=\"\"\"python ~/projects/cesm215_peters_scripts/branch.py\n",
    " --compset B1850cmip6 \n",
    " --parent b.e215.B1850cmip6.f09_g17.001.fE.0500.ens000  \n",
    " --output minimal\n",
    "\"\"\"\n",
    "\n",
    "command_template = ' '.join(command_template.replace('\\n',' ').split())\n",
    "\n",
    "with open('job_piControl_end_of_April_missing.sh', 'w') as new_job_file:\n",
    "    with open('../slurm_job_files/job_main', 'r') as job_file_template:\n",
    "        for line in job_file_template.read().split('\\n'):\n",
    "            if len(line) > 0 and line[0] == '#':\n",
    "                new_job_file.write(line+'\\n')\n",
    "\n",
    "        for start_year in start_years:\n",
    "            if os.path.isdir(f'/work/bb1152/u290372/cesm215_archive/b.e215.B1850cmip6.f09_g17.001.fE.0500.ens000/branch/{start_year}-01-01_to_{start_year}-04-30/rest') == False:\n",
    "                command = command_template\n",
    "                if start_year != start_years[0]:\n",
    "                    command += f\" --precompiled b.e215.B1850cmip6.f09_g17.001.fE.0500.ens000/branch/{start_years[0]}-01-01_to_{start_years[0]}-04-30\"\n",
    "                command += f\" --startdate {start_year}-01-01\"\n",
    "                command += f\" --enddate {start_year}-04-30\"\n",
    "                command += f\" --overwrite\"\n",
    "                new_job_file.write(command+'\\n')  "
   ]
  },
  {
   "cell_type": "code",
   "execution_count": null,
   "metadata": {},
   "outputs": [],
   "source": []
  },
  {
   "cell_type": "markdown",
   "metadata": {},
   "source": [
    "### until end of may"
   ]
  },
  {
   "cell_type": "code",
   "execution_count": 10,
   "metadata": {},
   "outputs": [],
   "source": [
    "command_template=\"\"\"python ~/projects/cesm215_peters_scripts/branch.py\n",
    " --compset B1850cmip6 \n",
    " --output minimal\n",
    "\"\"\"\n",
    "\n",
    "command_template = ' '.join(command_template.replace('\\n',' ').split())\n",
    "\n",
    "with open('job_piControl_end_of_May.sh', 'w') as new_job_file:\n",
    "    with open('../slurm_job_files/job_main', 'r') as job_file_template:\n",
    "        for line in job_file_template.read().split('\\n'):\n",
    "            if len(line) > 0 and line[0] == '#':\n",
    "                new_job_file.write(line+'\\n')\n",
    "\n",
    "        for start_year in start_years:\n",
    "            command = command_template\n",
    "            command += f\" --parent b.e215.B1850cmip6.f09_g17.001.fE.0500.ens000/branch/{start_year}-01-01_to_{start_year}-04-30\"\n",
    "            if start_year != start_years[0]:\n",
    "                command += f\" --precompiled b.e215.B1850cmip6.f09_g17.001.fE.0500.ens000/branch/{start_years[0]}-01-01_to_{start_years[0]}-04-30/branch/0501-04-30_to_0501-05-31\"\n",
    "            command += f\" --startdate {start_year}-04-30\"\n",
    "            command += f\" --enddate {start_year}-05-31\"\n",
    "            new_job_file.write(command+'\\n')  \n"
   ]
  },
  {
   "cell_type": "code",
   "execution_count": null,
   "metadata": {},
   "outputs": [],
   "source": []
  }
 ],
 "metadata": {
  "kernelspec": {
   "display_name": "py_imps",
   "language": "python",
   "name": "python3"
  },
  "language_info": {
   "codemirror_mode": {
    "name": "ipython",
    "version": 3
   },
   "file_extension": ".py",
   "mimetype": "text/x-python",
   "name": "python",
   "nbconvert_exporter": "python",
   "pygments_lexer": "ipython3",
   "version": "3.9.20"
  }
 },
 "nbformat": 4,
 "nbformat_minor": 2
}
